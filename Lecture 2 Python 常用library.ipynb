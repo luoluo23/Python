{
 "cells": [
  {
   "cell_type": "code",
   "execution_count": 1,
   "metadata": {},
   "outputs": [
    {
     "name": "stdout",
     "output_type": "stream",
     "text": [
      "Populating the interactive namespace from numpy and matplotlib\n"
     ]
    }
   ],
   "source": [
    "%pylab inline\n",
    "import numpy as np\n",
    "import pandas as pd\n",
    "import scipy as sp"
   ]
  },
  {
   "cell_type": "code",
   "execution_count": 2,
   "metadata": {},
   "outputs": [
    {
     "data": {
      "text/plain": [
       "[2, 0, 4, 6]"
      ]
     },
     "execution_count": 2,
     "metadata": {},
     "output_type": "execute_result"
    }
   ],
   "source": [
    "ints = [1, 0, 2, 3]\n",
    "[x*2 for x in ints]"
   ]
  },
  {
   "cell_type": "code",
   "execution_count": 4,
   "metadata": {},
   "outputs": [
    {
     "data": {
      "text/plain": [
       "[16, 0, 1, 25, 36]"
      ]
     },
     "execution_count": 4,
     "metadata": {},
     "output_type": "execute_result"
    }
   ],
   "source": [
    "def apply_to_list(some_list, f):\n",
    "    return [f(x) for x in some_list]\n",
    "ints = [4, 0, 1, 5, 6]\n",
    "apply_to_list(ints, lambda x: x*x)"
   ]
  },
  {
   "cell_type": "code",
   "execution_count": 5,
   "metadata": {},
   "outputs": [
    {
     "data": {
      "text/plain": [
       "['aaaa', 'foo', 'abab', 'bar', 'card']"
      ]
     },
     "execution_count": 5,
     "metadata": {},
     "output_type": "execute_result"
    }
   ],
   "source": [
    "strings = ['foo', 'card', 'bar', 'aaaa', 'abab']\n",
    "strings.sort(key=lambda x: len(set(list(x))))\n",
    "strings"
   ]
  },
  {
   "cell_type": "markdown",
   "metadata": {},
   "source": [
    "# Array"
   ]
  },
  {
   "cell_type": "markdown",
   "metadata": {},
   "source": [
    "创建"
   ]
  },
  {
   "cell_type": "code",
   "execution_count": 3,
   "metadata": {},
   "outputs": [],
   "source": [
    "arr1 = np.arange(10)\n",
    "arr2=np.array([2,1,3])"
   ]
  },
  {
   "cell_type": "code",
   "execution_count": 4,
   "metadata": {},
   "outputs": [
    {
     "data": {
      "text/plain": [
       "array([[ 0.50842082,  1.61028688, -0.03010201],\n",
       "       [-1.95147896, -0.18874408, -0.0449722 ]])"
      ]
     },
     "execution_count": 4,
     "metadata": {},
     "output_type": "execute_result"
    }
   ],
   "source": [
    "data = np.random.randn(2, 3) #标准正态 size=2*3\n",
    "data"
   ]
  },
  {
   "cell_type": "code",
   "execution_count": 5,
   "metadata": {},
   "outputs": [
    {
     "data": {
      "text/plain": [
       "array([[0., 0., 0.],\n",
       "       [0., 0., 0.]])"
      ]
     },
     "execution_count": 5,
     "metadata": {},
     "output_type": "execute_result"
    }
   ],
   "source": [
    "#零矩阵\n",
    "zero=np.zeros([2,3])\n",
    "zero"
   ]
  },
  {
   "cell_type": "code",
   "execution_count": 6,
   "metadata": {},
   "outputs": [
    {
     "data": {
      "text/plain": [
       "array([[0., 0., 0.],\n",
       "       [0., 0., 0.]])"
      ]
     },
     "execution_count": 6,
     "metadata": {},
     "output_type": "execute_result"
    }
   ],
   "source": [
    "#空矩阵\n",
    "np.empty([2,3])"
   ]
  },
  {
   "cell_type": "code",
   "execution_count": 7,
   "metadata": {},
   "outputs": [
    {
     "data": {
      "text/plain": [
       "array([[1., 0.],\n",
       "       [0., 1.]])"
      ]
     },
     "execution_count": 7,
     "metadata": {},
     "output_type": "execute_result"
    }
   ],
   "source": [
    "#单位阵\n",
    "np.eye(2)"
   ]
  },
  {
   "cell_type": "markdown",
   "metadata": {},
   "source": [
    "运算"
   ]
  },
  {
   "cell_type": "code",
   "execution_count": 8,
   "metadata": {},
   "outputs": [],
   "source": [
    "arr = np.array([[1., 2., 3.], [4., 5., 6.]])"
   ]
  },
  {
   "cell_type": "code",
   "execution_count": 9,
   "metadata": {},
   "outputs": [
    {
     "data": {
      "text/plain": [
       "array([[ 2.,  4.,  6.],\n",
       "       [ 8., 10., 12.]])"
      ]
     },
     "execution_count": 9,
     "metadata": {},
     "output_type": "execute_result"
    }
   ],
   "source": [
    "arr*2"
   ]
  },
  {
   "cell_type": "code",
   "execution_count": 10,
   "metadata": {},
   "outputs": [
    {
     "data": {
      "text/plain": [
       "array([[ 1.,  4.,  9.],\n",
       "       [16., 25., 36.]])"
      ]
     },
     "execution_count": 10,
     "metadata": {},
     "output_type": "execute_result"
    }
   ],
   "source": [
    "arr*arr"
   ]
  },
  {
   "cell_type": "code",
   "execution_count": 11,
   "metadata": {},
   "outputs": [
    {
     "data": {
      "text/plain": [
       "array([[1.        , 0.5       , 0.33333333],\n",
       "       [0.25      , 0.2       , 0.16666667]])"
      ]
     },
     "execution_count": 11,
     "metadata": {},
     "output_type": "execute_result"
    }
   ],
   "source": [
    "1/arr"
   ]
  },
  {
   "cell_type": "markdown",
   "metadata": {},
   "source": [
    "Index"
   ]
  },
  {
   "cell_type": "code",
   "execution_count": 12,
   "metadata": {},
   "outputs": [
    {
     "data": {
      "text/plain": [
       "array([4., 5., 6.])"
      ]
     },
     "execution_count": 12,
     "metadata": {},
     "output_type": "execute_result"
    }
   ],
   "source": [
    "arr[1]"
   ]
  },
  {
   "cell_type": "code",
   "execution_count": 13,
   "metadata": {},
   "outputs": [
    {
     "data": {
      "text/plain": [
       "4.0"
      ]
     },
     "execution_count": 13,
     "metadata": {},
     "output_type": "execute_result"
    }
   ],
   "source": [
    "arr[1][0]"
   ]
  },
  {
   "cell_type": "code",
   "execution_count": 14,
   "metadata": {},
   "outputs": [
    {
     "data": {
      "text/plain": [
       "array([1., 2.])"
      ]
     },
     "execution_count": 14,
     "metadata": {},
     "output_type": "execute_result"
    }
   ],
   "source": [
    "arr[0,0:2]"
   ]
  },
  {
   "cell_type": "code",
   "execution_count": 15,
   "metadata": {},
   "outputs": [],
   "source": [
    "names = np.array(['Bob', 'Joe', 'Will', 'Bob', 'Will', 'Joe', 'Joe'])"
   ]
  },
  {
   "cell_type": "code",
   "execution_count": 16,
   "metadata": {},
   "outputs": [
    {
     "data": {
      "text/plain": [
       "array([[-0.24194682,  0.07456706,  0.74176653, -0.12800807],\n",
       "       [ 0.48005671, -1.22446092,  0.42034631, -0.10690371],\n",
       "       [-2.0849327 ,  0.61844937,  0.31685916, -1.32734516],\n",
       "       [ 2.07722393,  1.25426192,  0.20736094,  1.40878176],\n",
       "       [ 0.42230797, -0.88462529, -1.03424561, -0.5971095 ],\n",
       "       [-0.56251804,  0.00503816,  1.1947491 , -1.96815176],\n",
       "       [-0.51666926, -0.63668259,  1.36779854, -0.58599051]])"
      ]
     },
     "execution_count": 16,
     "metadata": {},
     "output_type": "execute_result"
    }
   ],
   "source": [
    "data = np.random.randn(7, 4)\n",
    "data"
   ]
  },
  {
   "cell_type": "code",
   "execution_count": 17,
   "metadata": {},
   "outputs": [
    {
     "data": {
      "text/plain": [
       "array([[-0.24194682,  0.07456706,  0.74176653, -0.12800807],\n",
       "       [ 2.07722393,  1.25426192,  0.20736094,  1.40878176]])"
      ]
     },
     "execution_count": 17,
     "metadata": {},
     "output_type": "execute_result"
    }
   ],
   "source": [
    "data[names=='Bob']"
   ]
  },
  {
   "cell_type": "code",
   "execution_count": 18,
   "metadata": {},
   "outputs": [
    {
     "data": {
      "text/plain": [
       "array([[ 0.48005671, -1.22446092,  0.42034631, -0.10690371],\n",
       "       [-2.0849327 ,  0.61844937,  0.31685916, -1.32734516],\n",
       "       [ 0.42230797, -0.88462529, -1.03424561, -0.5971095 ],\n",
       "       [-0.56251804,  0.00503816,  1.1947491 , -1.96815176],\n",
       "       [-0.51666926, -0.63668259,  1.36779854, -0.58599051]])"
      ]
     },
     "execution_count": 18,
     "metadata": {},
     "output_type": "execute_result"
    }
   ],
   "source": [
    "data[~(names == 'Bob')]"
   ]
  },
  {
   "cell_type": "code",
   "execution_count": 19,
   "metadata": {},
   "outputs": [
    {
     "data": {
      "text/plain": [
       "array([[0.        , 0.07456706, 0.74176653, 0.        ],\n",
       "       [0.48005671, 0.        , 0.42034631, 0.        ],\n",
       "       [0.        , 0.61844937, 0.31685916, 0.        ],\n",
       "       [2.07722393, 1.25426192, 0.20736094, 1.40878176],\n",
       "       [0.42230797, 0.        , 0.        , 0.        ],\n",
       "       [0.        , 0.00503816, 1.1947491 , 0.        ],\n",
       "       [0.        , 0.        , 1.36779854, 0.        ]])"
      ]
     },
     "execution_count": 19,
     "metadata": {},
     "output_type": "execute_result"
    }
   ],
   "source": [
    "data[data < 0] = 0\n",
    "data"
   ]
  },
  {
   "cell_type": "code",
   "execution_count": 20,
   "metadata": {},
   "outputs": [
    {
     "data": {
      "text/plain": [
       "array([[0.        , 0.        , 1.36779854, 0.        ],\n",
       "       [0.        , 0.07456706, 0.74176653, 0.        ],\n",
       "       [0.        , 0.61844937, 0.31685916, 0.        ]])"
      ]
     },
     "execution_count": 20,
     "metadata": {},
     "output_type": "execute_result"
    }
   ],
   "source": [
    "data[[-1,0,2]]"
   ]
  },
  {
   "cell_type": "code",
   "execution_count": 21,
   "metadata": {},
   "outputs": [
    {
     "data": {
      "text/plain": [
       "array([[ 0,  1,  2,  3],\n",
       "       [ 4,  5,  6,  7],\n",
       "       [ 8,  9, 10, 11],\n",
       "       [12, 13, 14, 15],\n",
       "       [16, 17, 18, 19],\n",
       "       [20, 21, 22, 23],\n",
       "       [24, 25, 26, 27],\n",
       "       [28, 29, 30, 31]])"
      ]
     },
     "execution_count": 21,
     "metadata": {},
     "output_type": "execute_result"
    }
   ],
   "source": [
    "np.arange(32).reshape((8, 4))"
   ]
  },
  {
   "cell_type": "markdown",
   "metadata": {},
   "source": [
    "矩阵运算"
   ]
  },
  {
   "cell_type": "code",
   "execution_count": 22,
   "metadata": {},
   "outputs": [
    {
     "data": {
      "text/plain": [
       "array([[ 0,  1,  2,  3,  4],\n",
       "       [ 5,  6,  7,  8,  9],\n",
       "       [10, 11, 12, 13, 14]])"
      ]
     },
     "execution_count": 22,
     "metadata": {},
     "output_type": "execute_result"
    }
   ],
   "source": [
    "a=np.arange(15).reshape((3, 5))\n",
    "a"
   ]
  },
  {
   "cell_type": "code",
   "execution_count": 23,
   "metadata": {},
   "outputs": [
    {
     "data": {
      "text/plain": [
       "array([[ 0,  5, 10],\n",
       "       [ 1,  6, 11],\n",
       "       [ 2,  7, 12],\n",
       "       [ 3,  8, 13],\n",
       "       [ 4,  9, 14]])"
      ]
     },
     "execution_count": 23,
     "metadata": {},
     "output_type": "execute_result"
    }
   ],
   "source": [
    "a.T"
   ]
  },
  {
   "cell_type": "code",
   "execution_count": 24,
   "metadata": {},
   "outputs": [
    {
     "data": {
      "text/plain": [
       "array([[ 30,  80, 130],\n",
       "       [ 80, 255, 430],\n",
       "       [130, 430, 730]])"
      ]
     },
     "execution_count": 24,
     "metadata": {},
     "output_type": "execute_result"
    }
   ],
   "source": [
    "a.dot(a.T)#矩阵相乘  #a*a"
   ]
  },
  {
   "cell_type": "code",
   "execution_count": 25,
   "metadata": {},
   "outputs": [
    {
     "data": {
      "text/plain": [
       "array([[ 9.00719925e+14, -4.50359963e+14, -1.80143985e+15,\n",
       "         1.35107989e+15],\n",
       "       [-2.40191980e+15,  2.70215978e+15,  1.80143985e+15,\n",
       "        -2.10167983e+15],\n",
       "       [ 2.10167983e+15, -4.05323966e+15,  1.80143985e+15,\n",
       "         1.50119988e+14],\n",
       "       [-6.00479950e+14,  1.80143985e+15, -1.80143985e+15,\n",
       "         6.00479950e+14]])"
      ]
     },
     "execution_count": 25,
     "metadata": {},
     "output_type": "execute_result"
    }
   ],
   "source": [
    "a=np.arange(16).reshape((4, 4))\n",
    "np.linalg.inv(a)#矩阵求逆"
   ]
  },
  {
   "cell_type": "code",
   "execution_count": 26,
   "metadata": {},
   "outputs": [
    {
     "data": {
      "text/plain": [
       "array([[0.        , 1.        , 1.41421356, 1.73205081],\n",
       "       [2.        , 2.23606798, 2.44948974, 2.64575131],\n",
       "       [2.82842712, 3.        , 3.16227766, 3.31662479],\n",
       "       [3.46410162, 3.60555128, 3.74165739, 3.87298335]])"
      ]
     },
     "execution_count": 26,
     "metadata": {},
     "output_type": "execute_result"
    }
   ],
   "source": [
    "np.sqrt(a)"
   ]
  },
  {
   "cell_type": "code",
   "execution_count": 27,
   "metadata": {},
   "outputs": [
    {
     "data": {
      "text/plain": [
       "array([[1.00000000e+00, 2.71828183e+00, 7.38905610e+00, 2.00855369e+01],\n",
       "       [5.45981500e+01, 1.48413159e+02, 4.03428793e+02, 1.09663316e+03],\n",
       "       [2.98095799e+03, 8.10308393e+03, 2.20264658e+04, 5.98741417e+04],\n",
       "       [1.62754791e+05, 4.42413392e+05, 1.20260428e+06, 3.26901737e+06]])"
      ]
     },
     "execution_count": 27,
     "metadata": {},
     "output_type": "execute_result"
    }
   ],
   "source": [
    "np.exp(a)"
   ]
  },
  {
   "cell_type": "markdown",
   "metadata": {},
   "source": [
    "abs，fabs计算整数，浮点或复数值的元素方向的绝对值\n",
    "sqrt计算每个元素的平方根（相当于arr ** 0.5）\n",
    "平方计算每个元素的平方（相当于arr ** 2）\n",
    "exp计算每个元素的指数\n",
    "log10，\n",
    "log2，log1p\n",
    "自然对数（基数e），日志基数10，日志基数2和log（1 + x）\n",
    "sign计算每个元素的符号：1（正数），0（零）或-1（负数）\n",
    "ceil计算每个元素的上限（即，大于或等于该值的最小整数）\n",
    "数）\n",
    "floor）计算每个元素的层数（即，每个元素小于或等于最大整数）\n",
    "rint将元素舍入到最接近的整数，保留dtype\n",
    "modf返回数组的小数部分和整数部分作为单独的数组\n",
    "isnan返回布尔数组，指示每个值是否为NaN（不是数字）\n",
    "isfinite，isinf返回布尔数组，指示每个元素是有限的（非inf，非NaN）还是无限的，\n",
    "分别\n",
    "cos，cosh，sin，\n",
    "sinh，tan，tanh\n",
    "规则和双曲三角函数\n",
    "arccos，arccosh，\n",
    "arcsin，arcsinh，\n",
    "arctan，arctanh\n",
    "逆三角函数\n",
    "logical_not计算非x元素（相当于〜arr）的真值。"
   ]
  },
  {
   "cell_type": "code",
   "execution_count": 28,
   "metadata": {},
   "outputs": [
    {
     "data": {
      "text/plain": [
       "array([[-5.  , -5.  , -5.  , ..., -5.  , -5.  , -5.  ],\n",
       "       [-4.99, -4.99, -4.99, ..., -4.99, -4.99, -4.99],\n",
       "       [-4.98, -4.98, -4.98, ..., -4.98, -4.98, -4.98],\n",
       "       ...,\n",
       "       [ 4.97,  4.97,  4.97, ...,  4.97,  4.97,  4.97],\n",
       "       [ 4.98,  4.98,  4.98, ...,  4.98,  4.98,  4.98],\n",
       "       [ 4.99,  4.99,  4.99, ...,  4.99,  4.99,  4.99]])"
      ]
     },
     "execution_count": 28,
     "metadata": {},
     "output_type": "execute_result"
    }
   ],
   "source": [
    "points = np.arange(-5, 5, 0.01) # 1000 equally spaced points\n",
    "xs, ys = np.meshgrid(points, points)\n",
    "ys"
   ]
  },
  {
   "cell_type": "code",
   "execution_count": 29,
   "metadata": {},
   "outputs": [
    {
     "data": {
      "text/plain": [
       "array([[-5.  , -4.99, -4.98, ...,  4.97,  4.98,  4.99],\n",
       "       [-5.  , -4.99, -4.98, ...,  4.97,  4.98,  4.99],\n",
       "       [-5.  , -4.99, -4.98, ...,  4.97,  4.98,  4.99],\n",
       "       ...,\n",
       "       [-5.  , -4.99, -4.98, ...,  4.97,  4.98,  4.99],\n",
       "       [-5.  , -4.99, -4.98, ...,  4.97,  4.98,  4.99],\n",
       "       [-5.  , -4.99, -4.98, ...,  4.97,  4.98,  4.99]])"
      ]
     },
     "execution_count": 29,
     "metadata": {},
     "output_type": "execute_result"
    }
   ],
   "source": [
    "xs"
   ]
  },
  {
   "cell_type": "code",
   "execution_count": 30,
   "metadata": {},
   "outputs": [
    {
     "data": {
      "text/plain": [
       "array([[7.07106781, 7.06400028, 7.05693985, ..., 7.04988652, 7.05693985,\n",
       "        7.06400028],\n",
       "       [7.06400028, 7.05692568, 7.04985815, ..., 7.04279774, 7.04985815,\n",
       "        7.05692568],\n",
       "       [7.05693985, 7.04985815, 7.04278354, ..., 7.03571603, 7.04278354,\n",
       "        7.04985815],\n",
       "       ...,\n",
       "       [7.04988652, 7.04279774, 7.03571603, ..., 7.0286414 , 7.03571603,\n",
       "        7.04279774],\n",
       "       [7.05693985, 7.04985815, 7.04278354, ..., 7.03571603, 7.04278354,\n",
       "        7.04985815],\n",
       "       [7.06400028, 7.05692568, 7.04985815, ..., 7.04279774, 7.04985815,\n",
       "        7.05692568]])"
      ]
     },
     "execution_count": 30,
     "metadata": {},
     "output_type": "execute_result"
    }
   ],
   "source": [
    "z=np.sqrt(xs ** 2 + ys ** 2)\n",
    "z"
   ]
  },
  {
   "cell_type": "code",
   "execution_count": 31,
   "metadata": {},
   "outputs": [
    {
     "data": {
      "text/plain": [
       "Text(0.5, 1.0, 'Image plot of $\\\\sqrt{x^2 + y^2}$ for a grid of values')"
      ]
     },
     "execution_count": 31,
     "metadata": {},
     "output_type": "execute_result"
    },
    {
     "data": {
      "image/png": "[encoded data removed]",
      "text/plain": [
       "<Figure size 432x288 with 2 Axes>"
      ]
     },
     "metadata": {
      "needs_background": "light"
     },
     "output_type": "display_data"
    }
   ],
   "source": [
    "import matplotlib.pyplot as plt\n",
    "plt.imshow(z, cmap=plt.cm.gray); plt.colorbar()\n",
    "plt.title(\"Image plot of $\\sqrt{x^2 + y^2}$ for a grid of values\")"
   ]
  },
  {
   "cell_type": "code",
   "execution_count": 32,
   "metadata": {},
   "outputs": [
    {
     "data": {
      "text/plain": [
       "array([[-1.69067278, -1.01118062, -0.25663856,  0.66886169],\n",
       "       [-0.50061876, -0.20247718,  0.2905537 ,  0.25433196],\n",
       "       [-0.06842038,  1.25931826, -0.36326308,  1.16226032],\n",
       "       [ 0.8932631 ,  1.68333269, -1.20839718, -1.08381644],\n",
       "       [-0.37049954, -0.96138023, -1.04626496, -0.4472264 ],\n",
       "       [-1.12265874,  0.3558561 , -0.21771906,  0.94577669],\n",
       "       [-0.12610839,  1.10275719,  0.38064205,  0.98206654]])"
      ]
     },
     "execution_count": 32,
     "metadata": {},
     "output_type": "execute_result"
    }
   ],
   "source": [
    "data = np.random.randn(7, 4)\n",
    "data"
   ]
  },
  {
   "cell_type": "code",
   "execution_count": 33,
   "metadata": {},
   "outputs": [
    {
     "data": {
      "text/plain": [
       "array([[-1, -1, -1,  1],\n",
       "       [-1, -1,  1,  1],\n",
       "       [-1,  1, -1,  1],\n",
       "       [ 1,  1, -1, -1],\n",
       "       [-1, -1, -1, -1],\n",
       "       [-1,  1, -1,  1],\n",
       "       [-1,  1,  1,  1]])"
      ]
     },
     "execution_count": 33,
     "metadata": {},
     "output_type": "execute_result"
    }
   ],
   "source": [
    "np.where(data>0,1,-1)"
   ]
  },
  {
   "cell_type": "code",
   "execution_count": 34,
   "metadata": {},
   "outputs": [
    {
     "data": {
      "text/plain": [
       "array([[-1.        , -1.        , -1.        ,  0.66886169],\n",
       "       [-1.        , -1.        ,  0.2905537 ,  0.25433196],\n",
       "       [-1.        ,  1.25931826, -1.        ,  1.16226032],\n",
       "       [ 0.8932631 ,  1.68333269, -1.        , -1.        ],\n",
       "       [-1.        , -1.        , -1.        , -1.        ],\n",
       "       [-1.        ,  0.3558561 , -1.        ,  0.94577669],\n",
       "       [-1.        ,  1.10275719,  0.38064205,  0.98206654]])"
      ]
     },
     "execution_count": 34,
     "metadata": {},
     "output_type": "execute_result"
    }
   ],
   "source": [
    "np.where(data>0,data,-1)"
   ]
  },
  {
   "cell_type": "markdown",
   "metadata": {},
   "source": [
    "统计量"
   ]
  },
  {
   "cell_type": "code",
   "execution_count": 35,
   "metadata": {},
   "outputs": [
    {
     "data": {
      "text/plain": [
       "array([[0, 1, 2, 3, 4],\n",
       "       [5, 6, 7, 8, 9]])"
      ]
     },
     "execution_count": 35,
     "metadata": {},
     "output_type": "execute_result"
    }
   ],
   "source": [
    "a=np.arange(10).reshape(2,5)\n",
    "a"
   ]
  },
  {
   "cell_type": "code",
   "execution_count": 36,
   "metadata": {},
   "outputs": [
    {
     "data": {
      "text/plain": [
       "array([2.5, 3.5, 4.5, 5.5, 6.5])"
      ]
     },
     "execution_count": 36,
     "metadata": {},
     "output_type": "execute_result"
    }
   ],
   "source": [
    "a.mean(axis=0)"
   ]
  },
  {
   "cell_type": "code",
   "execution_count": 37,
   "metadata": {},
   "outputs": [
    {
     "data": {
      "text/plain": [
       "array([2., 7.])"
      ]
     },
     "execution_count": 37,
     "metadata": {},
     "output_type": "execute_result"
    }
   ],
   "source": [
    "a.mean(axis=1)"
   ]
  },
  {
   "cell_type": "code",
   "execution_count": 38,
   "metadata": {},
   "outputs": [
    {
     "data": {
      "text/plain": [
       "45"
      ]
     },
     "execution_count": 38,
     "metadata": {},
     "output_type": "execute_result"
    }
   ],
   "source": [
    "a.sum()"
   ]
  },
  {
   "cell_type": "code",
   "execution_count": 39,
   "metadata": {},
   "outputs": [
    {
     "data": {
      "text/plain": [
       "array([[ 0,  1,  2,  3,  4],\n",
       "       [ 5,  7,  9, 11, 13]])"
      ]
     },
     "execution_count": 39,
     "metadata": {},
     "output_type": "execute_result"
    }
   ],
   "source": [
    "a.cumsum(axis=0)"
   ]
  },
  {
   "cell_type": "code",
   "execution_count": 40,
   "metadata": {},
   "outputs": [
    {
     "data": {
      "text/plain": [
       "array([1.41421356, 1.41421356])"
      ]
     },
     "execution_count": 40,
     "metadata": {},
     "output_type": "execute_result"
    }
   ],
   "source": [
    "a.std(axis=1)"
   ]
  },
  {
   "cell_type": "code",
   "execution_count": 41,
   "metadata": {},
   "outputs": [
    {
     "data": {
      "text/plain": [
       "array(['Bob', 'Joe', 'Will'], dtype='<U4')"
      ]
     },
     "execution_count": 41,
     "metadata": {},
     "output_type": "execute_result"
    }
   ],
   "source": [
    "names = np.array(['Bob', 'Joe', 'Will', 'Bob', 'Will', 'Joe', 'Joe'])\n",
    "np.unique(names)"
   ]
  },
  {
   "cell_type": "code",
   "execution_count": 42,
   "metadata": {},
   "outputs": [
    {
     "data": {
      "text/plain": [
       "True"
      ]
     },
     "execution_count": 42,
     "metadata": {},
     "output_type": "execute_result"
    }
   ],
   "source": [
    "(names=='Bob').any()"
   ]
  },
  {
   "cell_type": "code",
   "execution_count": 43,
   "metadata": {},
   "outputs": [
    {
     "data": {
      "text/plain": [
       "False"
      ]
     },
     "execution_count": 43,
     "metadata": {},
     "output_type": "execute_result"
    }
   ],
   "source": [
    "(names=='Bob').all()"
   ]
  },
  {
   "cell_type": "markdown",
   "metadata": {},
   "source": [
    "分解"
   ]
  },
  {
   "cell_type": "code",
   "execution_count": null,
   "metadata": {},
   "outputs": [],
   "source": [
    "a=np.arange(16).reshape((4, 4))"
   ]
  },
  {
   "cell_type": "code",
   "execution_count": 44,
   "metadata": {},
   "outputs": [],
   "source": [
    "Q,R=np.linalg.qr(a)#Q正交矩阵，R上三角： 解方程 Ax=b, QRx=b, Rx=Q.T.dot(b)"
   ]
  },
  {
   "cell_type": "code",
   "execution_count": 45,
   "metadata": {},
   "outputs": [],
   "source": [
    "a=np.array([[3,1],[0.5,4]])"
   ]
  },
  {
   "cell_type": "code",
   "execution_count": 46,
   "metadata": {},
   "outputs": [],
   "source": [
    "d,v=np.linalg.eig(a)#特征根分解：主成分分析，多维正态模拟"
   ]
  },
  {
   "cell_type": "code",
   "execution_count": 47,
   "metadata": {},
   "outputs": [
    {
     "data": {
      "text/plain": [
       "array([2.6339746, 4.3660254])"
      ]
     },
     "execution_count": 47,
     "metadata": {},
     "output_type": "execute_result"
    }
   ],
   "source": [
    "d# A=v.T.dot(D).dot(v)"
   ]
  },
  {
   "cell_type": "markdown",
   "metadata": {},
   "source": [
    "eig计算方阵的特征值和特征向量\n",
    "inv计算方阵的倒数\n",
    "pinv计算矩阵的Moore-Penrose伪逆\n",
    "qr计算QR分解\n",
    "svd计算奇异值分解（SVD）\n",
    "求解求解x的线性系统Ax = b，其中A是方阵\n",
    "lstsq计算Ax = b的最小二乘解"
   ]
  },
  {
   "cell_type": "markdown",
   "metadata": {},
   "source": [
    "# pandas 数据框"
   ]
  },
  {
   "cell_type": "code",
   "execution_count": 48,
   "metadata": {},
   "outputs": [
    {
     "data": {
      "text/html": [
       "<div>\n",
       "<style scoped>\n",
       "    .dataframe tbody tr th:only-of-type {\n",
       "        vertical-align: middle;\n",
       "    }\n",
       "\n",
       "    .dataframe tbody tr th {\n",
       "        vertical-align: top;\n",
       "    }\n",
       "\n",
       "    .dataframe thead th {\n",
       "        text-align: right;\n",
       "    }\n",
       "</style>\n",
       "<table border=\"1\" class=\"dataframe\">\n",
       "  <thead>\n",
       "    <tr style=\"text-align: right;\">\n",
       "      <th></th>\n",
       "      <th>state</th>\n",
       "      <th>year</th>\n",
       "      <th>pop</th>\n",
       "    </tr>\n",
       "  </thead>\n",
       "  <tbody>\n",
       "    <tr>\n",
       "      <td>0</td>\n",
       "      <td>Ohio</td>\n",
       "      <td>2000</td>\n",
       "      <td>1.5</td>\n",
       "    </tr>\n",
       "    <tr>\n",
       "      <td>1</td>\n",
       "      <td>Ohio</td>\n",
       "      <td>2001</td>\n",
       "      <td>1.7</td>\n",
       "    </tr>\n",
       "    <tr>\n",
       "      <td>2</td>\n",
       "      <td>Ohio</td>\n",
       "      <td>2002</td>\n",
       "      <td>3.6</td>\n",
       "    </tr>\n",
       "    <tr>\n",
       "      <td>3</td>\n",
       "      <td>Nevada</td>\n",
       "      <td>2001</td>\n",
       "      <td>2.4</td>\n",
       "    </tr>\n",
       "    <tr>\n",
       "      <td>4</td>\n",
       "      <td>Nevada</td>\n",
       "      <td>2002</td>\n",
       "      <td>2.9</td>\n",
       "    </tr>\n",
       "    <tr>\n",
       "      <td>5</td>\n",
       "      <td>Nevada</td>\n",
       "      <td>2003</td>\n",
       "      <td>3.2</td>\n",
       "    </tr>\n",
       "  </tbody>\n",
       "</table>\n",
       "</div>"
      ],
      "text/plain": [
       "    state  year  pop\n",
       "0    Ohio  2000  1.5\n",
       "1    Ohio  2001  1.7\n",
       "2    Ohio  2002  3.6\n",
       "3  Nevada  2001  2.4\n",
       "4  Nevada  2002  2.9\n",
       "5  Nevada  2003  3.2"
      ]
     },
     "execution_count": 48,
     "metadata": {},
     "output_type": "execute_result"
    }
   ],
   "source": [
    "data = {'state': ['Ohio', 'Ohio', 'Ohio', 'Nevada', 'Nevada', 'Nevada'],'year': [2000, 2001, 2002, 2001, 2002, 2003],\n",
    "'pop': [1.5, 1.7, 3.6, 2.4, 2.9, 3.2]}\n",
    "frame = pd.DataFrame(data)\n",
    "frame"
   ]
  },
  {
   "cell_type": "code",
   "execution_count": 49,
   "metadata": {},
   "outputs": [
    {
     "data": {
      "text/html": [
       "<div>\n",
       "<style scoped>\n",
       "    .dataframe tbody tr th:only-of-type {\n",
       "        vertical-align: middle;\n",
       "    }\n",
       "\n",
       "    .dataframe tbody tr th {\n",
       "        vertical-align: top;\n",
       "    }\n",
       "\n",
       "    .dataframe thead th {\n",
       "        text-align: right;\n",
       "    }\n",
       "</style>\n",
       "<table border=\"1\" class=\"dataframe\">\n",
       "  <thead>\n",
       "    <tr style=\"text-align: right;\">\n",
       "      <th></th>\n",
       "      <th>state</th>\n",
       "      <th>year</th>\n",
       "      <th>pop</th>\n",
       "    </tr>\n",
       "  </thead>\n",
       "  <tbody>\n",
       "    <tr>\n",
       "      <td>0</td>\n",
       "      <td>Ohio</td>\n",
       "      <td>2000</td>\n",
       "      <td>1.5</td>\n",
       "    </tr>\n",
       "    <tr>\n",
       "      <td>1</td>\n",
       "      <td>Ohio</td>\n",
       "      <td>2001</td>\n",
       "      <td>1.7</td>\n",
       "    </tr>\n",
       "    <tr>\n",
       "      <td>2</td>\n",
       "      <td>Ohio</td>\n",
       "      <td>2002</td>\n",
       "      <td>3.6</td>\n",
       "    </tr>\n",
       "    <tr>\n",
       "      <td>3</td>\n",
       "      <td>Nevada</td>\n",
       "      <td>2001</td>\n",
       "      <td>2.4</td>\n",
       "    </tr>\n",
       "    <tr>\n",
       "      <td>4</td>\n",
       "      <td>Nevada</td>\n",
       "      <td>2002</td>\n",
       "      <td>2.9</td>\n",
       "    </tr>\n",
       "  </tbody>\n",
       "</table>\n",
       "</div>"
      ],
      "text/plain": [
       "    state  year  pop\n",
       "0    Ohio  2000  1.5\n",
       "1    Ohio  2001  1.7\n",
       "2    Ohio  2002  3.6\n",
       "3  Nevada  2001  2.4\n",
       "4  Nevada  2002  2.9"
      ]
     },
     "execution_count": 49,
     "metadata": {},
     "output_type": "execute_result"
    }
   ],
   "source": [
    "frame.head()"
   ]
  },
  {
   "cell_type": "code",
   "execution_count": 50,
   "metadata": {},
   "outputs": [
    {
     "data": {
      "text/html": [
       "<div>\n",
       "<style scoped>\n",
       "    .dataframe tbody tr th:only-of-type {\n",
       "        vertical-align: middle;\n",
       "    }\n",
       "\n",
       "    .dataframe tbody tr th {\n",
       "        vertical-align: top;\n",
       "    }\n",
       "\n",
       "    .dataframe thead th {\n",
       "        text-align: right;\n",
       "    }\n",
       "</style>\n",
       "<table border=\"1\" class=\"dataframe\">\n",
       "  <thead>\n",
       "    <tr style=\"text-align: right;\">\n",
       "      <th></th>\n",
       "      <th>state</th>\n",
       "      <th>year</th>\n",
       "      <th>pop</th>\n",
       "    </tr>\n",
       "  </thead>\n",
       "  <tbody>\n",
       "    <tr>\n",
       "      <td>a</td>\n",
       "      <td>Ohio</td>\n",
       "      <td>2000</td>\n",
       "      <td>1.5</td>\n",
       "    </tr>\n",
       "    <tr>\n",
       "      <td>b</td>\n",
       "      <td>Ohio</td>\n",
       "      <td>2001</td>\n",
       "      <td>1.7</td>\n",
       "    </tr>\n",
       "    <tr>\n",
       "      <td>c</td>\n",
       "      <td>Ohio</td>\n",
       "      <td>2002</td>\n",
       "      <td>3.6</td>\n",
       "    </tr>\n",
       "    <tr>\n",
       "      <td>d</td>\n",
       "      <td>Nevada</td>\n",
       "      <td>2001</td>\n",
       "      <td>2.4</td>\n",
       "    </tr>\n",
       "    <tr>\n",
       "      <td>e</td>\n",
       "      <td>Nevada</td>\n",
       "      <td>2002</td>\n",
       "      <td>2.9</td>\n",
       "    </tr>\n",
       "    <tr>\n",
       "      <td>f</td>\n",
       "      <td>Nevada</td>\n",
       "      <td>2003</td>\n",
       "      <td>3.2</td>\n",
       "    </tr>\n",
       "  </tbody>\n",
       "</table>\n",
       "</div>"
      ],
      "text/plain": [
       "    state  year  pop\n",
       "a    Ohio  2000  1.5\n",
       "b    Ohio  2001  1.7\n",
       "c    Ohio  2002  3.6\n",
       "d  Nevada  2001  2.4\n",
       "e  Nevada  2002  2.9\n",
       "f  Nevada  2003  3.2"
      ]
     },
     "execution_count": 50,
     "metadata": {},
     "output_type": "execute_result"
    }
   ],
   "source": [
    "frame.index=['a','b','c','d','e','f']\n",
    "frame"
   ]
  },
  {
   "cell_type": "code",
   "execution_count": 51,
   "metadata": {},
   "outputs": [
    {
     "data": {
      "text/html": [
       "<div>\n",
       "<style scoped>\n",
       "    .dataframe tbody tr th:only-of-type {\n",
       "        vertical-align: middle;\n",
       "    }\n",
       "\n",
       "    .dataframe tbody tr th {\n",
       "        vertical-align: top;\n",
       "    }\n",
       "\n",
       "    .dataframe thead th {\n",
       "        text-align: right;\n",
       "    }\n",
       "</style>\n",
       "<table border=\"1\" class=\"dataframe\">\n",
       "  <thead>\n",
       "    <tr style=\"text-align: right;\">\n",
       "      <th></th>\n",
       "      <th>year</th>\n",
       "      <th>state</th>\n",
       "      <th>pop</th>\n",
       "    </tr>\n",
       "  </thead>\n",
       "  <tbody>\n",
       "    <tr>\n",
       "      <td>0</td>\n",
       "      <td>2000</td>\n",
       "      <td>Ohio</td>\n",
       "      <td>1.5</td>\n",
       "    </tr>\n",
       "    <tr>\n",
       "      <td>1</td>\n",
       "      <td>2001</td>\n",
       "      <td>Ohio</td>\n",
       "      <td>1.7</td>\n",
       "    </tr>\n",
       "    <tr>\n",
       "      <td>2</td>\n",
       "      <td>2002</td>\n",
       "      <td>Ohio</td>\n",
       "      <td>3.6</td>\n",
       "    </tr>\n",
       "    <tr>\n",
       "      <td>3</td>\n",
       "      <td>2001</td>\n",
       "      <td>Nevada</td>\n",
       "      <td>2.4</td>\n",
       "    </tr>\n",
       "    <tr>\n",
       "      <td>4</td>\n",
       "      <td>2002</td>\n",
       "      <td>Nevada</td>\n",
       "      <td>2.9</td>\n",
       "    </tr>\n",
       "    <tr>\n",
       "      <td>5</td>\n",
       "      <td>2003</td>\n",
       "      <td>Nevada</td>\n",
       "      <td>3.2</td>\n",
       "    </tr>\n",
       "  </tbody>\n",
       "</table>\n",
       "</div>"
      ],
      "text/plain": [
       "   year   state  pop\n",
       "0  2000    Ohio  1.5\n",
       "1  2001    Ohio  1.7\n",
       "2  2002    Ohio  3.6\n",
       "3  2001  Nevada  2.4\n",
       "4  2002  Nevada  2.9\n",
       "5  2003  Nevada  3.2"
      ]
     },
     "execution_count": 51,
     "metadata": {},
     "output_type": "execute_result"
    }
   ],
   "source": [
    "pd.DataFrame(data, columns=['year', 'state', 'pop'])"
   ]
  },
  {
   "cell_type": "code",
   "execution_count": 52,
   "metadata": {},
   "outputs": [
    {
     "data": {
      "text/plain": [
       "Index(['state', 'year', 'pop'], dtype='object')"
      ]
     },
     "execution_count": 52,
     "metadata": {},
     "output_type": "execute_result"
    }
   ],
   "source": [
    "frame.columns"
   ]
  },
  {
   "cell_type": "code",
   "execution_count": 53,
   "metadata": {},
   "outputs": [
    {
     "data": {
      "text/plain": [
       "Index(['a', 'b', 'c', 'd', 'e', 'f'], dtype='object')"
      ]
     },
     "execution_count": 53,
     "metadata": {},
     "output_type": "execute_result"
    }
   ],
   "source": [
    "frame.index"
   ]
  },
  {
   "cell_type": "code",
   "execution_count": 54,
   "metadata": {},
   "outputs": [
    {
     "data": {
      "text/plain": [
       "a    1.5\n",
       "b    1.7\n",
       "c    3.6\n",
       "d    2.4\n",
       "e    2.9\n",
       "f    3.2\n",
       "Name: pop, dtype: float64"
      ]
     },
     "execution_count": 54,
     "metadata": {},
     "output_type": "execute_result"
    }
   ],
   "source": [
    "frame['pop']"
   ]
  },
  {
   "cell_type": "code",
   "execution_count": 55,
   "metadata": {},
   "outputs": [
    {
     "data": {
      "text/plain": [
       "a    2000\n",
       "b    2001\n",
       "c    2002\n",
       "d    2001\n",
       "e    2002\n",
       "f    2003\n",
       "Name: year, dtype: int64"
      ]
     },
     "execution_count": 55,
     "metadata": {},
     "output_type": "execute_result"
    }
   ],
   "source": [
    "frame.year"
   ]
  },
  {
   "cell_type": "markdown",
   "metadata": {},
   "source": [
    "indexing-选取删除增加替换"
   ]
  },
  {
   "cell_type": "code",
   "execution_count": 56,
   "metadata": {},
   "outputs": [
    {
     "data": {
      "text/html": [
       "<div>\n",
       "<style scoped>\n",
       "    .dataframe tbody tr th:only-of-type {\n",
       "        vertical-align: middle;\n",
       "    }\n",
       "\n",
       "    .dataframe tbody tr th {\n",
       "        vertical-align: top;\n",
       "    }\n",
       "\n",
       "    .dataframe thead th {\n",
       "        text-align: right;\n",
       "    }\n",
       "</style>\n",
       "<table border=\"1\" class=\"dataframe\">\n",
       "  <thead>\n",
       "    <tr style=\"text-align: right;\">\n",
       "      <th></th>\n",
       "      <th>state</th>\n",
       "      <th>year</th>\n",
       "      <th>pop</th>\n",
       "    </tr>\n",
       "  </thead>\n",
       "  <tbody>\n",
       "    <tr>\n",
       "      <td>a</td>\n",
       "      <td>Ohio</td>\n",
       "      <td>2000</td>\n",
       "      <td>1.5</td>\n",
       "    </tr>\n",
       "    <tr>\n",
       "      <td>b</td>\n",
       "      <td>Ohio</td>\n",
       "      <td>2001</td>\n",
       "      <td>1.7</td>\n",
       "    </tr>\n",
       "    <tr>\n",
       "      <td>c</td>\n",
       "      <td>Ohio</td>\n",
       "      <td>2002</td>\n",
       "      <td>3.6</td>\n",
       "    </tr>\n",
       "    <tr>\n",
       "      <td>d</td>\n",
       "      <td>Nevada</td>\n",
       "      <td>2001</td>\n",
       "      <td>2.4</td>\n",
       "    </tr>\n",
       "    <tr>\n",
       "      <td>e</td>\n",
       "      <td>Nevada</td>\n",
       "      <td>2002</td>\n",
       "      <td>2.9</td>\n",
       "    </tr>\n",
       "    <tr>\n",
       "      <td>f</td>\n",
       "      <td>Nevada</td>\n",
       "      <td>2003</td>\n",
       "      <td>3.2</td>\n",
       "    </tr>\n",
       "  </tbody>\n",
       "</table>\n",
       "</div>"
      ],
      "text/plain": [
       "    state  year  pop\n",
       "a    Ohio  2000  1.5\n",
       "b    Ohio  2001  1.7\n",
       "c    Ohio  2002  3.6\n",
       "d  Nevada  2001  2.4\n",
       "e  Nevada  2002  2.9\n",
       "f  Nevada  2003  3.2"
      ]
     },
     "execution_count": 56,
     "metadata": {},
     "output_type": "execute_result"
    }
   ],
   "source": [
    "frame"
   ]
  },
  {
   "cell_type": "code",
   "execution_count": 57,
   "metadata": {},
   "outputs": [
    {
     "data": {
      "text/plain": [
       "1.7"
      ]
     },
     "execution_count": 57,
     "metadata": {},
     "output_type": "execute_result"
    }
   ],
   "source": [
    "frame.iloc[1,2]"
   ]
  },
  {
   "cell_type": "code",
   "execution_count": 58,
   "metadata": {},
   "outputs": [
    {
     "data": {
      "text/plain": [
       "b    1.7\n",
       "c    3.6\n",
       "Name: pop, dtype: float64"
      ]
     },
     "execution_count": 58,
     "metadata": {},
     "output_type": "execute_result"
    }
   ],
   "source": [
    "frame.iloc[1:3,2]"
   ]
  },
  {
   "cell_type": "code",
   "execution_count": 59,
   "metadata": {},
   "outputs": [
    {
     "data": {
      "text/html": [
       "<div>\n",
       "<style scoped>\n",
       "    .dataframe tbody tr th:only-of-type {\n",
       "        vertical-align: middle;\n",
       "    }\n",
       "\n",
       "    .dataframe tbody tr th {\n",
       "        vertical-align: top;\n",
       "    }\n",
       "\n",
       "    .dataframe thead th {\n",
       "        text-align: right;\n",
       "    }\n",
       "</style>\n",
       "<table border=\"1\" class=\"dataframe\">\n",
       "  <thead>\n",
       "    <tr style=\"text-align: right;\">\n",
       "      <th></th>\n",
       "      <th>state</th>\n",
       "      <th>year</th>\n",
       "      <th>pop</th>\n",
       "    </tr>\n",
       "  </thead>\n",
       "  <tbody>\n",
       "    <tr>\n",
       "      <td>a</td>\n",
       "      <td>Ohio</td>\n",
       "      <td>2000</td>\n",
       "      <td>1.5</td>\n",
       "    </tr>\n",
       "    <tr>\n",
       "      <td>c</td>\n",
       "      <td>Ohio</td>\n",
       "      <td>2002</td>\n",
       "      <td>3.6</td>\n",
       "    </tr>\n",
       "  </tbody>\n",
       "</table>\n",
       "</div>"
      ],
      "text/plain": [
       "  state  year  pop\n",
       "a  Ohio  2000  1.5\n",
       "c  Ohio  2002  3.6"
      ]
     },
     "execution_count": 59,
     "metadata": {},
     "output_type": "execute_result"
    }
   ],
   "source": [
    "frame.loc[['a','c']]"
   ]
  },
  {
   "cell_type": "code",
   "execution_count": 60,
   "metadata": {},
   "outputs": [
    {
     "data": {
      "text/plain": [
       "a    Ohio\n",
       "c    Ohio\n",
       "Name: state, dtype: object"
      ]
     },
     "execution_count": 60,
     "metadata": {},
     "output_type": "execute_result"
    }
   ],
   "source": [
    "frame.loc[['a','c'],'state']"
   ]
  },
  {
   "cell_type": "code",
   "execution_count": 61,
   "metadata": {},
   "outputs": [
    {
     "data": {
      "text/html": [
       "<div>\n",
       "<style scoped>\n",
       "    .dataframe tbody tr th:only-of-type {\n",
       "        vertical-align: middle;\n",
       "    }\n",
       "\n",
       "    .dataframe tbody tr th {\n",
       "        vertical-align: top;\n",
       "    }\n",
       "\n",
       "    .dataframe thead th {\n",
       "        text-align: right;\n",
       "    }\n",
       "</style>\n",
       "<table border=\"1\" class=\"dataframe\">\n",
       "  <thead>\n",
       "    <tr style=\"text-align: right;\">\n",
       "      <th></th>\n",
       "      <th>state</th>\n",
       "      <th>year</th>\n",
       "      <th>pop</th>\n",
       "    </tr>\n",
       "  </thead>\n",
       "  <tbody>\n",
       "    <tr>\n",
       "      <td>a</td>\n",
       "      <td>Ohio</td>\n",
       "      <td>2000</td>\n",
       "      <td>1.5</td>\n",
       "    </tr>\n",
       "    <tr>\n",
       "      <td>b</td>\n",
       "      <td>Ohio</td>\n",
       "      <td>2001</td>\n",
       "      <td>1.7</td>\n",
       "    </tr>\n",
       "    <tr>\n",
       "      <td>c</td>\n",
       "      <td>Ohio</td>\n",
       "      <td>2002</td>\n",
       "      <td>3.6</td>\n",
       "    </tr>\n",
       "    <tr>\n",
       "      <td>d</td>\n",
       "      <td>Nevada</td>\n",
       "      <td>2001</td>\n",
       "      <td>2.4</td>\n",
       "    </tr>\n",
       "    <tr>\n",
       "      <td>e</td>\n",
       "      <td>Nevada</td>\n",
       "      <td>2002</td>\n",
       "      <td>2.9</td>\n",
       "    </tr>\n",
       "    <tr>\n",
       "      <td>f</td>\n",
       "      <td>Nevada</td>\n",
       "      <td>2003</td>\n",
       "      <td>3.2</td>\n",
       "    </tr>\n",
       "  </tbody>\n",
       "</table>\n",
       "</div>"
      ],
      "text/plain": [
       "    state  year  pop\n",
       "a    Ohio  2000  1.5\n",
       "b    Ohio  2001  1.7\n",
       "c    Ohio  2002  3.6\n",
       "d  Nevada  2001  2.4\n",
       "e  Nevada  2002  2.9\n",
       "f  Nevada  2003  3.2"
      ]
     },
     "execution_count": 61,
     "metadata": {},
     "output_type": "execute_result"
    }
   ],
   "source": [
    "frame"
   ]
  },
  {
   "cell_type": "code",
   "execution_count": 62,
   "metadata": {},
   "outputs": [
    {
     "data": {
      "text/html": [
       "<div>\n",
       "<style scoped>\n",
       "    .dataframe tbody tr th:only-of-type {\n",
       "        vertical-align: middle;\n",
       "    }\n",
       "\n",
       "    .dataframe tbody tr th {\n",
       "        vertical-align: top;\n",
       "    }\n",
       "\n",
       "    .dataframe thead th {\n",
       "        text-align: right;\n",
       "    }\n",
       "</style>\n",
       "<table border=\"1\" class=\"dataframe\">\n",
       "  <thead>\n",
       "    <tr style=\"text-align: right;\">\n",
       "      <th></th>\n",
       "      <th>state</th>\n",
       "      <th>year</th>\n",
       "      <th>pop</th>\n",
       "    </tr>\n",
       "  </thead>\n",
       "  <tbody>\n",
       "    <tr>\n",
       "      <td>b</td>\n",
       "      <td>Ohio</td>\n",
       "      <td>2001</td>\n",
       "      <td>1.7</td>\n",
       "    </tr>\n",
       "    <tr>\n",
       "      <td>c</td>\n",
       "      <td>Ohio</td>\n",
       "      <td>2002</td>\n",
       "      <td>3.6</td>\n",
       "    </tr>\n",
       "    <tr>\n",
       "      <td>d</td>\n",
       "      <td>Nevada</td>\n",
       "      <td>2001</td>\n",
       "      <td>2.4</td>\n",
       "    </tr>\n",
       "    <tr>\n",
       "      <td>e</td>\n",
       "      <td>Nevada</td>\n",
       "      <td>2002</td>\n",
       "      <td>2.9</td>\n",
       "    </tr>\n",
       "    <tr>\n",
       "      <td>f</td>\n",
       "      <td>Nevada</td>\n",
       "      <td>2003</td>\n",
       "      <td>3.2</td>\n",
       "    </tr>\n",
       "  </tbody>\n",
       "</table>\n",
       "</div>"
      ],
      "text/plain": [
       "    state  year  pop\n",
       "b    Ohio  2001  1.7\n",
       "c    Ohio  2002  3.6\n",
       "d  Nevada  2001  2.4\n",
       "e  Nevada  2002  2.9\n",
       "f  Nevada  2003  3.2"
      ]
     },
     "execution_count": 62,
     "metadata": {},
     "output_type": "execute_result"
    }
   ],
   "source": [
    "frame.drop(['a'])"
   ]
  },
  {
   "cell_type": "code",
   "execution_count": 63,
   "metadata": {},
   "outputs": [],
   "source": [
    "del frame['pop']"
   ]
  },
  {
   "cell_type": "code",
   "execution_count": 64,
   "metadata": {},
   "outputs": [
    {
     "data": {
      "text/html": [
       "<div>\n",
       "<style scoped>\n",
       "    .dataframe tbody tr th:only-of-type {\n",
       "        vertical-align: middle;\n",
       "    }\n",
       "\n",
       "    .dataframe tbody tr th {\n",
       "        vertical-align: top;\n",
       "    }\n",
       "\n",
       "    .dataframe thead th {\n",
       "        text-align: right;\n",
       "    }\n",
       "</style>\n",
       "<table border=\"1\" class=\"dataframe\">\n",
       "  <thead>\n",
       "    <tr style=\"text-align: right;\">\n",
       "      <th></th>\n",
       "      <th>state</th>\n",
       "      <th>year</th>\n",
       "    </tr>\n",
       "  </thead>\n",
       "  <tbody>\n",
       "    <tr>\n",
       "      <td>a</td>\n",
       "      <td>Ohio</td>\n",
       "      <td>2000</td>\n",
       "    </tr>\n",
       "    <tr>\n",
       "      <td>b</td>\n",
       "      <td>Ohio</td>\n",
       "      <td>2001</td>\n",
       "    </tr>\n",
       "    <tr>\n",
       "      <td>c</td>\n",
       "      <td>Ohio</td>\n",
       "      <td>2002</td>\n",
       "    </tr>\n",
       "    <tr>\n",
       "      <td>d</td>\n",
       "      <td>Nevada</td>\n",
       "      <td>2001</td>\n",
       "    </tr>\n",
       "    <tr>\n",
       "      <td>e</td>\n",
       "      <td>Nevada</td>\n",
       "      <td>2002</td>\n",
       "    </tr>\n",
       "    <tr>\n",
       "      <td>f</td>\n",
       "      <td>Nevada</td>\n",
       "      <td>2003</td>\n",
       "    </tr>\n",
       "  </tbody>\n",
       "</table>\n",
       "</div>"
      ],
      "text/plain": [
       "    state  year\n",
       "a    Ohio  2000\n",
       "b    Ohio  2001\n",
       "c    Ohio  2002\n",
       "d  Nevada  2001\n",
       "e  Nevada  2002\n",
       "f  Nevada  2003"
      ]
     },
     "execution_count": 64,
     "metadata": {},
     "output_type": "execute_result"
    }
   ],
   "source": [
    "frame"
   ]
  },
  {
   "cell_type": "code",
   "execution_count": 65,
   "metadata": {},
   "outputs": [],
   "source": [
    "frame['pop']=[1,2,3,4,5,6]"
   ]
  },
  {
   "cell_type": "code",
   "execution_count": 66,
   "metadata": {},
   "outputs": [
    {
     "data": {
      "text/html": [
       "<div>\n",
       "<style scoped>\n",
       "    .dataframe tbody tr th:only-of-type {\n",
       "        vertical-align: middle;\n",
       "    }\n",
       "\n",
       "    .dataframe tbody tr th {\n",
       "        vertical-align: top;\n",
       "    }\n",
       "\n",
       "    .dataframe thead th {\n",
       "        text-align: right;\n",
       "    }\n",
       "</style>\n",
       "<table border=\"1\" class=\"dataframe\">\n",
       "  <thead>\n",
       "    <tr style=\"text-align: right;\">\n",
       "      <th></th>\n",
       "      <th>state</th>\n",
       "      <th>year</th>\n",
       "      <th>pop</th>\n",
       "    </tr>\n",
       "  </thead>\n",
       "  <tbody>\n",
       "    <tr>\n",
       "      <td>a</td>\n",
       "      <td>Ohio</td>\n",
       "      <td>2000</td>\n",
       "      <td>1</td>\n",
       "    </tr>\n",
       "    <tr>\n",
       "      <td>b</td>\n",
       "      <td>Ohio</td>\n",
       "      <td>2001</td>\n",
       "      <td>2</td>\n",
       "    </tr>\n",
       "    <tr>\n",
       "      <td>c</td>\n",
       "      <td>Ohio</td>\n",
       "      <td>2002</td>\n",
       "      <td>3</td>\n",
       "    </tr>\n",
       "    <tr>\n",
       "      <td>d</td>\n",
       "      <td>Nevada</td>\n",
       "      <td>2001</td>\n",
       "      <td>4</td>\n",
       "    </tr>\n",
       "    <tr>\n",
       "      <td>e</td>\n",
       "      <td>Nevada</td>\n",
       "      <td>2002</td>\n",
       "      <td>5</td>\n",
       "    </tr>\n",
       "    <tr>\n",
       "      <td>f</td>\n",
       "      <td>Nevada</td>\n",
       "      <td>2003</td>\n",
       "      <td>6</td>\n",
       "    </tr>\n",
       "  </tbody>\n",
       "</table>\n",
       "</div>"
      ],
      "text/plain": [
       "    state  year  pop\n",
       "a    Ohio  2000    1\n",
       "b    Ohio  2001    2\n",
       "c    Ohio  2002    3\n",
       "d  Nevada  2001    4\n",
       "e  Nevada  2002    5\n",
       "f  Nevada  2003    6"
      ]
     },
     "execution_count": 66,
     "metadata": {},
     "output_type": "execute_result"
    }
   ],
   "source": [
    "frame"
   ]
  },
  {
   "cell_type": "code",
   "execution_count": 67,
   "metadata": {},
   "outputs": [
    {
     "data": {
      "text/html": [
       "<div>\n",
       "<style scoped>\n",
       "    .dataframe tbody tr th:only-of-type {\n",
       "        vertical-align: middle;\n",
       "    }\n",
       "\n",
       "    .dataframe tbody tr th {\n",
       "        vertical-align: top;\n",
       "    }\n",
       "\n",
       "    .dataframe thead th {\n",
       "        text-align: right;\n",
       "    }\n",
       "</style>\n",
       "<table border=\"1\" class=\"dataframe\">\n",
       "  <thead>\n",
       "    <tr style=\"text-align: right;\">\n",
       "      <th></th>\n",
       "      <th>state</th>\n",
       "      <th>year</th>\n",
       "      <th>pop</th>\n",
       "    </tr>\n",
       "  </thead>\n",
       "  <tbody>\n",
       "    <tr>\n",
       "      <td>0</td>\n",
       "      <td>Ohio</td>\n",
       "      <td>2000</td>\n",
       "      <td>1</td>\n",
       "    </tr>\n",
       "    <tr>\n",
       "      <td>1</td>\n",
       "      <td>Ohio</td>\n",
       "      <td>2001</td>\n",
       "      <td>2</td>\n",
       "    </tr>\n",
       "    <tr>\n",
       "      <td>2</td>\n",
       "      <td>Ohio</td>\n",
       "      <td>2002</td>\n",
       "      <td>3</td>\n",
       "    </tr>\n",
       "    <tr>\n",
       "      <td>3</td>\n",
       "      <td>Nevada</td>\n",
       "      <td>2001</td>\n",
       "      <td>4</td>\n",
       "    </tr>\n",
       "    <tr>\n",
       "      <td>4</td>\n",
       "      <td>Nevada</td>\n",
       "      <td>2002</td>\n",
       "      <td>5</td>\n",
       "    </tr>\n",
       "    <tr>\n",
       "      <td>5</td>\n",
       "      <td>Nevada</td>\n",
       "      <td>2003</td>\n",
       "      <td>6</td>\n",
       "    </tr>\n",
       "    <tr>\n",
       "      <td>6</td>\n",
       "      <td>NJ</td>\n",
       "      <td>2000</td>\n",
       "      <td>7</td>\n",
       "    </tr>\n",
       "  </tbody>\n",
       "</table>\n",
       "</div>"
      ],
      "text/plain": [
       "    state  year  pop\n",
       "0    Ohio  2000    1\n",
       "1    Ohio  2001    2\n",
       "2    Ohio  2002    3\n",
       "3  Nevada  2001    4\n",
       "4  Nevada  2002    5\n",
       "5  Nevada  2003    6\n",
       "6      NJ  2000    7"
      ]
     },
     "execution_count": 67,
     "metadata": {},
     "output_type": "execute_result"
    }
   ],
   "source": [
    "frame.append({'state':'NJ','year':2000,'pop':7},ignore_index=True)"
   ]
  },
  {
   "cell_type": "code",
   "execution_count": 68,
   "metadata": {},
   "outputs": [],
   "source": [
    "frame[frame.year==2001]=np.nan"
   ]
  },
  {
   "cell_type": "code",
   "execution_count": 69,
   "metadata": {},
   "outputs": [
    {
     "data": {
      "text/html": [
       "<div>\n",
       "<style scoped>\n",
       "    .dataframe tbody tr th:only-of-type {\n",
       "        vertical-align: middle;\n",
       "    }\n",
       "\n",
       "    .dataframe tbody tr th {\n",
       "        vertical-align: top;\n",
       "    }\n",
       "\n",
       "    .dataframe thead th {\n",
       "        text-align: right;\n",
       "    }\n",
       "</style>\n",
       "<table border=\"1\" class=\"dataframe\">\n",
       "  <thead>\n",
       "    <tr style=\"text-align: right;\">\n",
       "      <th></th>\n",
       "      <th>state</th>\n",
       "      <th>year</th>\n",
       "      <th>pop</th>\n",
       "    </tr>\n",
       "  </thead>\n",
       "  <tbody>\n",
       "    <tr>\n",
       "      <td>b</td>\n",
       "      <td>NaN</td>\n",
       "      <td>NaN</td>\n",
       "      <td>NaN</td>\n",
       "    </tr>\n",
       "    <tr>\n",
       "      <td>d</td>\n",
       "      <td>NaN</td>\n",
       "      <td>NaN</td>\n",
       "      <td>NaN</td>\n",
       "    </tr>\n",
       "    <tr>\n",
       "      <td>e</td>\n",
       "      <td>Nevada</td>\n",
       "      <td>2002.0</td>\n",
       "      <td>5.0</td>\n",
       "    </tr>\n",
       "    <tr>\n",
       "      <td>f</td>\n",
       "      <td>Nevada</td>\n",
       "      <td>2003.0</td>\n",
       "      <td>6.0</td>\n",
       "    </tr>\n",
       "  </tbody>\n",
       "</table>\n",
       "</div>"
      ],
      "text/plain": [
       "    state    year  pop\n",
       "b     NaN     NaN  NaN\n",
       "d     NaN     NaN  NaN\n",
       "e  Nevada  2002.0  5.0\n",
       "f  Nevada  2003.0  6.0"
      ]
     },
     "execution_count": 69,
     "metadata": {},
     "output_type": "execute_result"
    }
   ],
   "source": [
    "frame[frame.state!='Ohio']"
   ]
  },
  {
   "cell_type": "code",
   "execution_count": 70,
   "metadata": {},
   "outputs": [
    {
     "data": {
      "text/html": [
       "<div>\n",
       "<style scoped>\n",
       "    .dataframe tbody tr th:only-of-type {\n",
       "        vertical-align: middle;\n",
       "    }\n",
       "\n",
       "    .dataframe tbody tr th {\n",
       "        vertical-align: top;\n",
       "    }\n",
       "\n",
       "    .dataframe thead th {\n",
       "        text-align: right;\n",
       "    }\n",
       "</style>\n",
       "<table border=\"1\" class=\"dataframe\">\n",
       "  <thead>\n",
       "    <tr style=\"text-align: right;\">\n",
       "      <th></th>\n",
       "      <th>state</th>\n",
       "      <th>year</th>\n",
       "      <th>pop</th>\n",
       "    </tr>\n",
       "  </thead>\n",
       "  <tbody>\n",
       "    <tr>\n",
       "      <td>a</td>\n",
       "      <td>Ohio</td>\n",
       "      <td>2000.0</td>\n",
       "      <td>NaN</td>\n",
       "    </tr>\n",
       "    <tr>\n",
       "      <td>b</td>\n",
       "      <td>NaN</td>\n",
       "      <td>NaN</td>\n",
       "      <td>NaN</td>\n",
       "    </tr>\n",
       "    <tr>\n",
       "      <td>c</td>\n",
       "      <td>Ohio</td>\n",
       "      <td>2002.0</td>\n",
       "      <td>NaN</td>\n",
       "    </tr>\n",
       "    <tr>\n",
       "      <td>d</td>\n",
       "      <td>NaN</td>\n",
       "      <td>NaN</td>\n",
       "      <td>NaN</td>\n",
       "    </tr>\n",
       "    <tr>\n",
       "      <td>e</td>\n",
       "      <td>Nevada</td>\n",
       "      <td>2002.0</td>\n",
       "      <td>NaN</td>\n",
       "    </tr>\n",
       "    <tr>\n",
       "      <td>f</td>\n",
       "      <td>Nevada</td>\n",
       "      <td>2003.0</td>\n",
       "      <td>NaN</td>\n",
       "    </tr>\n",
       "  </tbody>\n",
       "</table>\n",
       "</div>"
      ],
      "text/plain": [
       "    state    year  pop\n",
       "a    Ohio  2000.0  NaN\n",
       "b     NaN     NaN  NaN\n",
       "c    Ohio  2002.0  NaN\n",
       "d     NaN     NaN  NaN\n",
       "e  Nevada  2002.0  NaN\n",
       "f  Nevada  2003.0  NaN"
      ]
     },
     "execution_count": 70,
     "metadata": {},
     "output_type": "execute_result"
    }
   ],
   "source": [
    "frame.loc[:,'pop']=np.nan\n",
    "frame"
   ]
  },
  {
   "cell_type": "code",
   "execution_count": 71,
   "metadata": {},
   "outputs": [],
   "source": [
    "frame = pd.DataFrame(np.random.randn(4, 3), columns=list('bde'),index=['Utah', 'Ohio', 'Texas', 'Oregon'])"
   ]
  },
  {
   "cell_type": "code",
   "execution_count": 72,
   "metadata": {},
   "outputs": [
    {
     "data": {
      "text/html": [
       "<div>\n",
       "<style scoped>\n",
       "    .dataframe tbody tr th:only-of-type {\n",
       "        vertical-align: middle;\n",
       "    }\n",
       "\n",
       "    .dataframe tbody tr th {\n",
       "        vertical-align: top;\n",
       "    }\n",
       "\n",
       "    .dataframe thead th {\n",
       "        text-align: right;\n",
       "    }\n",
       "</style>\n",
       "<table border=\"1\" class=\"dataframe\">\n",
       "  <thead>\n",
       "    <tr style=\"text-align: right;\">\n",
       "      <th></th>\n",
       "      <th>b</th>\n",
       "      <th>d</th>\n",
       "      <th>e</th>\n",
       "    </tr>\n",
       "  </thead>\n",
       "  <tbody>\n",
       "    <tr>\n",
       "      <td>Utah</td>\n",
       "      <td>0.013277</td>\n",
       "      <td>0.704971</td>\n",
       "      <td>3.215713</td>\n",
       "    </tr>\n",
       "    <tr>\n",
       "      <td>Ohio</td>\n",
       "      <td>0.059244</td>\n",
       "      <td>0.563806</td>\n",
       "      <td>0.787742</td>\n",
       "    </tr>\n",
       "    <tr>\n",
       "      <td>Texas</td>\n",
       "      <td>0.586634</td>\n",
       "      <td>0.444122</td>\n",
       "      <td>0.248932</td>\n",
       "    </tr>\n",
       "    <tr>\n",
       "      <td>Oregon</td>\n",
       "      <td>1.135250</td>\n",
       "      <td>0.479135</td>\n",
       "      <td>1.288256</td>\n",
       "    </tr>\n",
       "  </tbody>\n",
       "</table>\n",
       "</div>"
      ],
      "text/plain": [
       "               b         d         e\n",
       "Utah    0.013277  0.704971  3.215713\n",
       "Ohio    0.059244  0.563806  0.787742\n",
       "Texas   0.586634  0.444122  0.248932\n",
       "Oregon  1.135250  0.479135  1.288256"
      ]
     },
     "execution_count": 72,
     "metadata": {},
     "output_type": "execute_result"
    }
   ],
   "source": [
    "np.abs(frame)"
   ]
  },
  {
   "cell_type": "code",
   "execution_count": 73,
   "metadata": {},
   "outputs": [
    {
     "data": {
      "text/plain": [
       "b    1.721885\n",
       "d    1.268777\n",
       "e    4.503969\n",
       "dtype: float64"
      ]
     },
     "execution_count": 73,
     "metadata": {},
     "output_type": "execute_result"
    }
   ],
   "source": [
    "f = lambda x: x.max() - x.min()\n",
    "frame.apply(f,axis=0)"
   ]
  },
  {
   "cell_type": "code",
   "execution_count": 74,
   "metadata": {},
   "outputs": [
    {
     "data": {
      "text/plain": [
       "Utah      3.920684\n",
       "Ohio      0.728498\n",
       "Texas     0.835566\n",
       "Oregon    0.809121\n",
       "dtype: float64"
      ]
     },
     "execution_count": 74,
     "metadata": {},
     "output_type": "execute_result"
    }
   ],
   "source": [
    "frame.apply(f,axis=1)"
   ]
  },
  {
   "cell_type": "code",
   "execution_count": 75,
   "metadata": {},
   "outputs": [
    {
     "data": {
      "text/html": [
       "<div>\n",
       "<style scoped>\n",
       "    .dataframe tbody tr th:only-of-type {\n",
       "        vertical-align: middle;\n",
       "    }\n",
       "\n",
       "    .dataframe tbody tr th {\n",
       "        vertical-align: top;\n",
       "    }\n",
       "\n",
       "    .dataframe thead th {\n",
       "        text-align: right;\n",
       "    }\n",
       "</style>\n",
       "<table border=\"1\" class=\"dataframe\">\n",
       "  <thead>\n",
       "    <tr style=\"text-align: right;\">\n",
       "      <th></th>\n",
       "      <th>b</th>\n",
       "      <th>d</th>\n",
       "      <th>e</th>\n",
       "    </tr>\n",
       "  </thead>\n",
       "  <tbody>\n",
       "    <tr>\n",
       "      <td>Utah</td>\n",
       "      <td>0.013277</td>\n",
       "      <td>0.704971</td>\n",
       "      <td>10.340808</td>\n",
       "    </tr>\n",
       "    <tr>\n",
       "      <td>Ohio</td>\n",
       "      <td>-0.059244</td>\n",
       "      <td>-0.563806</td>\n",
       "      <td>0.620537</td>\n",
       "    </tr>\n",
       "    <tr>\n",
       "      <td>Texas</td>\n",
       "      <td>-0.586634</td>\n",
       "      <td>-0.444122</td>\n",
       "      <td>0.061967</td>\n",
       "    </tr>\n",
       "    <tr>\n",
       "      <td>Oregon</td>\n",
       "      <td>1.135250</td>\n",
       "      <td>0.479135</td>\n",
       "      <td>1.659603</td>\n",
       "    </tr>\n",
       "  </tbody>\n",
       "</table>\n",
       "</div>"
      ],
      "text/plain": [
       "               b         d          e\n",
       "Utah    0.013277  0.704971  10.340808\n",
       "Ohio   -0.059244 -0.563806   0.620537\n",
       "Texas  -0.586634 -0.444122   0.061967\n",
       "Oregon  1.135250  0.479135   1.659603"
      ]
     },
     "execution_count": 75,
     "metadata": {},
     "output_type": "execute_result"
    }
   ],
   "source": [
    "frame['e']=frame['e'].map(lambda x:x**2)\n",
    "frame"
   ]
  },
  {
   "cell_type": "code",
   "execution_count": 76,
   "metadata": {},
   "outputs": [
    {
     "data": {
      "text/html": [
       "<div>\n",
       "<style scoped>\n",
       "    .dataframe tbody tr th:only-of-type {\n",
       "        vertical-align: middle;\n",
       "    }\n",
       "\n",
       "    .dataframe tbody tr th {\n",
       "        vertical-align: top;\n",
       "    }\n",
       "\n",
       "    .dataframe thead th {\n",
       "        text-align: right;\n",
       "    }\n",
       "</style>\n",
       "<table border=\"1\" class=\"dataframe\">\n",
       "  <thead>\n",
       "    <tr style=\"text-align: right;\">\n",
       "      <th></th>\n",
       "      <th>b</th>\n",
       "      <th>d</th>\n",
       "      <th>e</th>\n",
       "    </tr>\n",
       "  </thead>\n",
       "  <tbody>\n",
       "    <tr>\n",
       "      <td>Utah</td>\n",
       "      <td>0.013277</td>\n",
       "      <td>0.704971</td>\n",
       "      <td>10.340808</td>\n",
       "    </tr>\n",
       "    <tr>\n",
       "      <td>Ohio</td>\n",
       "      <td>-0.059244</td>\n",
       "      <td>-0.563806</td>\n",
       "      <td>0.620537</td>\n",
       "    </tr>\n",
       "    <tr>\n",
       "      <td>Texas</td>\n",
       "      <td>-0.586634</td>\n",
       "      <td>-0.444122</td>\n",
       "      <td>0.061967</td>\n",
       "    </tr>\n",
       "    <tr>\n",
       "      <td>Oregon</td>\n",
       "      <td>1.135250</td>\n",
       "      <td>0.479135</td>\n",
       "      <td>1.659603</td>\n",
       "    </tr>\n",
       "  </tbody>\n",
       "</table>\n",
       "</div>"
      ],
      "text/plain": [
       "               b         d          e\n",
       "Utah    0.013277  0.704971  10.340808\n",
       "Ohio   -0.059244 -0.563806   0.620537\n",
       "Texas  -0.586634 -0.444122   0.061967\n",
       "Oregon  1.135250  0.479135   1.659603"
      ]
     },
     "execution_count": 76,
     "metadata": {},
     "output_type": "execute_result"
    }
   ],
   "source": [
    "frame"
   ]
  },
  {
   "cell_type": "code",
   "execution_count": 77,
   "metadata": {},
   "outputs": [
    {
     "data": {
      "text/html": [
       "<div>\n",
       "<style scoped>\n",
       "    .dataframe tbody tr th:only-of-type {\n",
       "        vertical-align: middle;\n",
       "    }\n",
       "\n",
       "    .dataframe tbody tr th {\n",
       "        vertical-align: top;\n",
       "    }\n",
       "\n",
       "    .dataframe thead th {\n",
       "        text-align: right;\n",
       "    }\n",
       "</style>\n",
       "<table border=\"1\" class=\"dataframe\">\n",
       "  <thead>\n",
       "    <tr style=\"text-align: right;\">\n",
       "      <th></th>\n",
       "      <th>b</th>\n",
       "      <th>d</th>\n",
       "      <th>e</th>\n",
       "    </tr>\n",
       "  </thead>\n",
       "  <tbody>\n",
       "    <tr>\n",
       "      <td>Utah</td>\n",
       "      <td>0.013277</td>\n",
       "      <td>0.704971</td>\n",
       "      <td>10.340808</td>\n",
       "    </tr>\n",
       "    <tr>\n",
       "      <td>Ohio</td>\n",
       "      <td>-0.059244</td>\n",
       "      <td>-0.563806</td>\n",
       "      <td>0.620537</td>\n",
       "    </tr>\n",
       "    <tr>\n",
       "      <td>Texas</td>\n",
       "      <td>-0.586634</td>\n",
       "      <td>-0.444122</td>\n",
       "      <td>0.061967</td>\n",
       "    </tr>\n",
       "    <tr>\n",
       "      <td>Oregon</td>\n",
       "      <td>1.135250</td>\n",
       "      <td>0.479135</td>\n",
       "      <td>1.659603</td>\n",
       "    </tr>\n",
       "  </tbody>\n",
       "</table>\n",
       "</div>"
      ],
      "text/plain": [
       "               b         d          e\n",
       "Utah    0.013277  0.704971  10.340808\n",
       "Ohio   -0.059244 -0.563806   0.620537\n",
       "Texas  -0.586634 -0.444122   0.061967\n",
       "Oregon  1.135250  0.479135   1.659603"
      ]
     },
     "execution_count": 77,
     "metadata": {},
     "output_type": "execute_result"
    }
   ],
   "source": [
    "frame.sort_index(axis=1)"
   ]
  },
  {
   "cell_type": "code",
   "execution_count": 78,
   "metadata": {},
   "outputs": [
    {
     "data": {
      "text/html": [
       "<div>\n",
       "<style scoped>\n",
       "    .dataframe tbody tr th:only-of-type {\n",
       "        vertical-align: middle;\n",
       "    }\n",
       "\n",
       "    .dataframe tbody tr th {\n",
       "        vertical-align: top;\n",
       "    }\n",
       "\n",
       "    .dataframe thead th {\n",
       "        text-align: right;\n",
       "    }\n",
       "</style>\n",
       "<table border=\"1\" class=\"dataframe\">\n",
       "  <thead>\n",
       "    <tr style=\"text-align: right;\">\n",
       "      <th></th>\n",
       "      <th>b</th>\n",
       "      <th>d</th>\n",
       "      <th>e</th>\n",
       "    </tr>\n",
       "  </thead>\n",
       "  <tbody>\n",
       "    <tr>\n",
       "      <td>Ohio</td>\n",
       "      <td>-0.059244</td>\n",
       "      <td>-0.563806</td>\n",
       "      <td>0.620537</td>\n",
       "    </tr>\n",
       "    <tr>\n",
       "      <td>Oregon</td>\n",
       "      <td>1.135250</td>\n",
       "      <td>0.479135</td>\n",
       "      <td>1.659603</td>\n",
       "    </tr>\n",
       "    <tr>\n",
       "      <td>Texas</td>\n",
       "      <td>-0.586634</td>\n",
       "      <td>-0.444122</td>\n",
       "      <td>0.061967</td>\n",
       "    </tr>\n",
       "    <tr>\n",
       "      <td>Utah</td>\n",
       "      <td>0.013277</td>\n",
       "      <td>0.704971</td>\n",
       "      <td>10.340808</td>\n",
       "    </tr>\n",
       "  </tbody>\n",
       "</table>\n",
       "</div>"
      ],
      "text/plain": [
       "               b         d          e\n",
       "Ohio   -0.059244 -0.563806   0.620537\n",
       "Oregon  1.135250  0.479135   1.659603\n",
       "Texas  -0.586634 -0.444122   0.061967\n",
       "Utah    0.013277  0.704971  10.340808"
      ]
     },
     "execution_count": 78,
     "metadata": {},
     "output_type": "execute_result"
    }
   ],
   "source": [
    "frame.sort_index(axis=0)"
   ]
  },
  {
   "cell_type": "code",
   "execution_count": 79,
   "metadata": {},
   "outputs": [
    {
     "data": {
      "text/html": [
       "<div>\n",
       "<style scoped>\n",
       "    .dataframe tbody tr th:only-of-type {\n",
       "        vertical-align: middle;\n",
       "    }\n",
       "\n",
       "    .dataframe tbody tr th {\n",
       "        vertical-align: top;\n",
       "    }\n",
       "\n",
       "    .dataframe thead th {\n",
       "        text-align: right;\n",
       "    }\n",
       "</style>\n",
       "<table border=\"1\" class=\"dataframe\">\n",
       "  <thead>\n",
       "    <tr style=\"text-align: right;\">\n",
       "      <th></th>\n",
       "      <th>b</th>\n",
       "      <th>d</th>\n",
       "      <th>e</th>\n",
       "    </tr>\n",
       "  </thead>\n",
       "  <tbody>\n",
       "    <tr>\n",
       "      <td>Utah</td>\n",
       "      <td>0.013277</td>\n",
       "      <td>0.704971</td>\n",
       "      <td>10.340808</td>\n",
       "    </tr>\n",
       "    <tr>\n",
       "      <td>Ohio</td>\n",
       "      <td>-0.059244</td>\n",
       "      <td>-0.563806</td>\n",
       "      <td>0.620537</td>\n",
       "    </tr>\n",
       "    <tr>\n",
       "      <td>Texas</td>\n",
       "      <td>-0.586634</td>\n",
       "      <td>-0.444122</td>\n",
       "      <td>0.061967</td>\n",
       "    </tr>\n",
       "    <tr>\n",
       "      <td>Oregon</td>\n",
       "      <td>1.135250</td>\n",
       "      <td>0.479135</td>\n",
       "      <td>1.659603</td>\n",
       "    </tr>\n",
       "  </tbody>\n",
       "</table>\n",
       "</div>"
      ],
      "text/plain": [
       "               b         d          e\n",
       "Utah    0.013277  0.704971  10.340808\n",
       "Ohio   -0.059244 -0.563806   0.620537\n",
       "Texas  -0.586634 -0.444122   0.061967\n",
       "Oregon  1.135250  0.479135   1.659603"
      ]
     },
     "execution_count": 79,
     "metadata": {},
     "output_type": "execute_result"
    }
   ],
   "source": [
    "frame"
   ]
  },
  {
   "cell_type": "code",
   "execution_count": 80,
   "metadata": {},
   "outputs": [
    {
     "data": {
      "text/html": [
       "<div>\n",
       "<style scoped>\n",
       "    .dataframe tbody tr th:only-of-type {\n",
       "        vertical-align: middle;\n",
       "    }\n",
       "\n",
       "    .dataframe tbody tr th {\n",
       "        vertical-align: top;\n",
       "    }\n",
       "\n",
       "    .dataframe thead th {\n",
       "        text-align: right;\n",
       "    }\n",
       "</style>\n",
       "<table border=\"1\" class=\"dataframe\">\n",
       "  <thead>\n",
       "    <tr style=\"text-align: right;\">\n",
       "      <th></th>\n",
       "      <th>b</th>\n",
       "      <th>d</th>\n",
       "      <th>e</th>\n",
       "    </tr>\n",
       "  </thead>\n",
       "  <tbody>\n",
       "    <tr>\n",
       "      <td>Ohio</td>\n",
       "      <td>-0.059244</td>\n",
       "      <td>-0.563806</td>\n",
       "      <td>0.620537</td>\n",
       "    </tr>\n",
       "    <tr>\n",
       "      <td>Texas</td>\n",
       "      <td>-0.586634</td>\n",
       "      <td>-0.444122</td>\n",
       "      <td>0.061967</td>\n",
       "    </tr>\n",
       "    <tr>\n",
       "      <td>Oregon</td>\n",
       "      <td>1.135250</td>\n",
       "      <td>0.479135</td>\n",
       "      <td>1.659603</td>\n",
       "    </tr>\n",
       "    <tr>\n",
       "      <td>Utah</td>\n",
       "      <td>0.013277</td>\n",
       "      <td>0.704971</td>\n",
       "      <td>10.340808</td>\n",
       "    </tr>\n",
       "  </tbody>\n",
       "</table>\n",
       "</div>"
      ],
      "text/plain": [
       "               b         d          e\n",
       "Ohio   -0.059244 -0.563806   0.620537\n",
       "Texas  -0.586634 -0.444122   0.061967\n",
       "Oregon  1.135250  0.479135   1.659603\n",
       "Utah    0.013277  0.704971  10.340808"
      ]
     },
     "execution_count": 80,
     "metadata": {},
     "output_type": "execute_result"
    }
   ],
   "source": [
    "frame.sort_values(by=['d'])"
   ]
  },
  {
   "cell_type": "markdown",
   "metadata": {},
   "source": [
    "描述性统计量"
   ]
  },
  {
   "cell_type": "code",
   "execution_count": 81,
   "metadata": {},
   "outputs": [
    {
     "data": {
      "text/plain": [
       "b    0.125662\n",
       "d    0.044044\n",
       "e    3.170729\n",
       "dtype: float64"
      ]
     },
     "execution_count": 81,
     "metadata": {},
     "output_type": "execute_result"
    }
   ],
   "source": [
    "frame.mean(axis=0)"
   ]
  },
  {
   "cell_type": "code",
   "execution_count": 82,
   "metadata": {},
   "outputs": [
    {
     "data": {
      "text/plain": [
       "Utah      3.686352\n",
       "Ohio     -0.000838\n",
       "Texas    -0.322930\n",
       "Oregon    1.091330\n",
       "dtype: float64"
      ]
     },
     "execution_count": 82,
     "metadata": {},
     "output_type": "execute_result"
    }
   ],
   "source": [
    "frame.mean(axis=1)"
   ]
  },
  {
   "cell_type": "code",
   "execution_count": 83,
   "metadata": {},
   "outputs": [
    {
     "data": {
      "text/plain": [
       "b    Oregon\n",
       "d      Utah\n",
       "e      Utah\n",
       "dtype: object"
      ]
     },
     "execution_count": 83,
     "metadata": {},
     "output_type": "execute_result"
    }
   ],
   "source": [
    "frame.idxmax(axis=0)"
   ]
  },
  {
   "cell_type": "code",
   "execution_count": 84,
   "metadata": {},
   "outputs": [
    {
     "data": {
      "text/plain": [
       "Utah      e\n",
       "Ohio      e\n",
       "Texas     e\n",
       "Oregon    e\n",
       "dtype: object"
      ]
     },
     "execution_count": 84,
     "metadata": {},
     "output_type": "execute_result"
    }
   ],
   "source": [
    "frame.idxmax(axis=1)"
   ]
  },
  {
   "cell_type": "code",
   "execution_count": 85,
   "metadata": {},
   "outputs": [
    {
     "data": {
      "text/html": [
       "<div>\n",
       "<style scoped>\n",
       "    .dataframe tbody tr th:only-of-type {\n",
       "        vertical-align: middle;\n",
       "    }\n",
       "\n",
       "    .dataframe tbody tr th {\n",
       "        vertical-align: top;\n",
       "    }\n",
       "\n",
       "    .dataframe thead th {\n",
       "        text-align: right;\n",
       "    }\n",
       "</style>\n",
       "<table border=\"1\" class=\"dataframe\">\n",
       "  <thead>\n",
       "    <tr style=\"text-align: right;\">\n",
       "      <th></th>\n",
       "      <th>b</th>\n",
       "      <th>d</th>\n",
       "      <th>e</th>\n",
       "    </tr>\n",
       "  </thead>\n",
       "  <tbody>\n",
       "    <tr>\n",
       "      <td>count</td>\n",
       "      <td>4.000000</td>\n",
       "      <td>4.000000</td>\n",
       "      <td>4.000000</td>\n",
       "    </tr>\n",
       "    <tr>\n",
       "      <td>mean</td>\n",
       "      <td>0.125662</td>\n",
       "      <td>0.044044</td>\n",
       "      <td>3.170729</td>\n",
       "    </tr>\n",
       "    <tr>\n",
       "      <td>std</td>\n",
       "      <td>0.724213</td>\n",
       "      <td>0.641331</td>\n",
       "      <td>4.825675</td>\n",
       "    </tr>\n",
       "    <tr>\n",
       "      <td>min</td>\n",
       "      <td>-0.586634</td>\n",
       "      <td>-0.563806</td>\n",
       "      <td>0.061967</td>\n",
       "    </tr>\n",
       "    <tr>\n",
       "      <td>25%</td>\n",
       "      <td>-0.191091</td>\n",
       "      <td>-0.474043</td>\n",
       "      <td>0.480894</td>\n",
       "    </tr>\n",
       "    <tr>\n",
       "      <td>50%</td>\n",
       "      <td>-0.022983</td>\n",
       "      <td>0.017507</td>\n",
       "      <td>1.140070</td>\n",
       "    </tr>\n",
       "    <tr>\n",
       "      <td>75%</td>\n",
       "      <td>0.293771</td>\n",
       "      <td>0.535594</td>\n",
       "      <td>3.829905</td>\n",
       "    </tr>\n",
       "    <tr>\n",
       "      <td>max</td>\n",
       "      <td>1.135250</td>\n",
       "      <td>0.704971</td>\n",
       "      <td>10.340808</td>\n",
       "    </tr>\n",
       "  </tbody>\n",
       "</table>\n",
       "</div>"
      ],
      "text/plain": [
       "              b         d          e\n",
       "count  4.000000  4.000000   4.000000\n",
       "mean   0.125662  0.044044   3.170729\n",
       "std    0.724213  0.641331   4.825675\n",
       "min   -0.586634 -0.563806   0.061967\n",
       "25%   -0.191091 -0.474043   0.480894\n",
       "50%   -0.022983  0.017507   1.140070\n",
       "75%    0.293771  0.535594   3.829905\n",
       "max    1.135250  0.704971  10.340808"
      ]
     },
     "execution_count": 85,
     "metadata": {},
     "output_type": "execute_result"
    }
   ],
   "source": [
    "frame.describe()"
   ]
  },
  {
   "cell_type": "code",
   "execution_count": 86,
   "metadata": {},
   "outputs": [
    {
     "data": {
      "text/html": [
       "<div>\n",
       "<style scoped>\n",
       "    .dataframe tbody tr th:only-of-type {\n",
       "        vertical-align: middle;\n",
       "    }\n",
       "\n",
       "    .dataframe tbody tr th {\n",
       "        vertical-align: top;\n",
       "    }\n",
       "\n",
       "    .dataframe thead th {\n",
       "        text-align: right;\n",
       "    }\n",
       "</style>\n",
       "<table border=\"1\" class=\"dataframe\">\n",
       "  <thead>\n",
       "    <tr style=\"text-align: right;\">\n",
       "      <th></th>\n",
       "      <th>b</th>\n",
       "      <th>d</th>\n",
       "      <th>e</th>\n",
       "    </tr>\n",
       "  </thead>\n",
       "  <tbody>\n",
       "    <tr>\n",
       "      <td>Ohio</td>\n",
       "      <td>-5.461972</td>\n",
       "      <td>-1.799758</td>\n",
       "      <td>-0.939991</td>\n",
       "    </tr>\n",
       "    <tr>\n",
       "      <td>Texas</td>\n",
       "      <td>8.902033</td>\n",
       "      <td>-0.212279</td>\n",
       "      <td>-0.900139</td>\n",
       "    </tr>\n",
       "    <tr>\n",
       "      <td>Oregon</td>\n",
       "      <td>-2.935192</td>\n",
       "      <td>-2.078837</td>\n",
       "      <td>25.781978</td>\n",
       "    </tr>\n",
       "  </tbody>\n",
       "</table>\n",
       "</div>"
      ],
      "text/plain": [
       "               b         d          e\n",
       "Ohio   -5.461972 -1.799758  -0.939991\n",
       "Texas   8.902033 -0.212279  -0.900139\n",
       "Oregon -2.935192 -2.078837  25.781978"
      ]
     },
     "execution_count": 86,
     "metadata": {},
     "output_type": "execute_result"
    }
   ],
   "source": [
    "frame.pct_change().dropna()"
   ]
  },
  {
   "cell_type": "code",
   "execution_count": null,
   "metadata": {},
   "outputs": [],
   "source": [
    "min，max计算最小值和最大值\n",
    "argmin，argmax分别计算获得最小值或最大值的索引位置（整数）\n",
    "idxmin，idxmax分别计算获得最小值或最大值的索引标签\n",
    "quantile 计算范围从0到1的样本分位数\n",
    "cumsum 总和值的总和\n",
    "median 中位数（50％分位数）的值\n",
    "mad平均绝对偏离平均值\n",
    "prod所有值的产品\n",
    "var值的样本方差\n",
    "std值的标准差的样本\n",
    "skew样本偏度（第三时刻）\n",
    "kurt值的样本峰度（第四时刻）\n",
    "cumsum累计值的总和\n",
    "cummin，cummax分别为累计值的最小值或最大值\n",
    "cumprod价值的累积产品\n",
    "diff计算第一个算术差异（对时间序列有用）\n",
    "pct_change计算百分比变化"
   ]
  },
  {
   "cell_type": "code",
   "execution_count": 91,
   "metadata": {},
   "outputs": [],
   "source": [
    "import quandl\n",
    "quandl.ApiConfig.api_key = \"-y4nyUjzVoLepWhbKCQ3\""
   ]
  },
  {
   "cell_type": "code",
   "execution_count": 99,
   "metadata": {},
   "outputs": [],
   "source": [
    "import pandas_datareader.data as web\n",
    "\n",
    "symbol = 'WIKI/AAPL'  # or 'AAPL.US' #'GOOG'\n",
    "df = web.DataReader(symbol, 'quandl', '2015-01-01', '2015-03-05',api_key=\"-y4nyUjzVoLepWhbKCQ3\")#'yahoo','google'"
   ]
  },
  {
   "cell_type": "code",
   "execution_count": 100,
   "metadata": {},
   "outputs": [
    {
     "data": {
      "text/html": [
       "<div>\n",
       "<style scoped>\n",
       "    .dataframe tbody tr th:only-of-type {\n",
       "        vertical-align: middle;\n",
       "    }\n",
       "\n",
       "    .dataframe tbody tr th {\n",
       "        vertical-align: top;\n",
       "    }\n",
       "\n",
       "    .dataframe thead th {\n",
       "        text-align: right;\n",
       "    }\n",
       "</style>\n",
       "<table border=\"1\" class=\"dataframe\">\n",
       "  <thead>\n",
       "    <tr style=\"text-align: right;\">\n",
       "      <th></th>\n",
       "      <th>Open</th>\n",
       "      <th>High</th>\n",
       "      <th>Low</th>\n",
       "      <th>Close</th>\n",
       "      <th>Volume</th>\n",
       "      <th>ExDividend</th>\n",
       "      <th>SplitRatio</th>\n",
       "      <th>AdjOpen</th>\n",
       "      <th>AdjHigh</th>\n",
       "      <th>AdjLow</th>\n",
       "      <th>AdjClose</th>\n",
       "      <th>AdjVolume</th>\n",
       "    </tr>\n",
       "    <tr>\n",
       "      <th>Date</th>\n",
       "      <th></th>\n",
       "      <th></th>\n",
       "      <th></th>\n",
       "      <th></th>\n",
       "      <th></th>\n",
       "      <th></th>\n",
       "      <th></th>\n",
       "      <th></th>\n",
       "      <th></th>\n",
       "      <th></th>\n",
       "      <th></th>\n",
       "      <th></th>\n",
       "    </tr>\n",
       "  </thead>\n",
       "  <tbody>\n",
       "    <tr>\n",
       "      <td>2015-01-02</td>\n",
       "      <td>111.390</td>\n",
       "      <td>111.4400</td>\n",
       "      <td>107.350</td>\n",
       "      <td>109.330</td>\n",
       "      <td>53204626.0</td>\n",
       "      <td>0.00</td>\n",
       "      <td>1.0</td>\n",
       "      <td>105.820966</td>\n",
       "      <td>105.868466</td>\n",
       "      <td>101.982949</td>\n",
       "      <td>103.863957</td>\n",
       "      <td>53204626.0</td>\n",
       "    </tr>\n",
       "    <tr>\n",
       "      <td>2015-01-05</td>\n",
       "      <td>108.290</td>\n",
       "      <td>108.6500</td>\n",
       "      <td>105.410</td>\n",
       "      <td>106.250</td>\n",
       "      <td>64285491.0</td>\n",
       "      <td>0.00</td>\n",
       "      <td>1.0</td>\n",
       "      <td>102.875953</td>\n",
       "      <td>103.217954</td>\n",
       "      <td>100.139941</td>\n",
       "      <td>100.937944</td>\n",
       "      <td>64285491.0</td>\n",
       "    </tr>\n",
       "    <tr>\n",
       "      <td>2015-01-06</td>\n",
       "      <td>106.540</td>\n",
       "      <td>107.4300</td>\n",
       "      <td>104.630</td>\n",
       "      <td>106.260</td>\n",
       "      <td>65797116.0</td>\n",
       "      <td>0.00</td>\n",
       "      <td>1.0</td>\n",
       "      <td>101.213446</td>\n",
       "      <td>102.058949</td>\n",
       "      <td>99.398938</td>\n",
       "      <td>100.947444</td>\n",
       "      <td>65797116.0</td>\n",
       "    </tr>\n",
       "    <tr>\n",
       "      <td>2015-01-07</td>\n",
       "      <td>107.200</td>\n",
       "      <td>108.2000</td>\n",
       "      <td>106.695</td>\n",
       "      <td>107.750</td>\n",
       "      <td>40105934.0</td>\n",
       "      <td>0.00</td>\n",
       "      <td>1.0</td>\n",
       "      <td>101.840448</td>\n",
       "      <td>102.790453</td>\n",
       "      <td>101.360696</td>\n",
       "      <td>102.362951</td>\n",
       "      <td>40105934.0</td>\n",
       "    </tr>\n",
       "    <tr>\n",
       "      <td>2015-01-08</td>\n",
       "      <td>109.230</td>\n",
       "      <td>112.1500</td>\n",
       "      <td>108.700</td>\n",
       "      <td>111.890</td>\n",
       "      <td>59364547.0</td>\n",
       "      <td>0.00</td>\n",
       "      <td>1.0</td>\n",
       "      <td>103.768957</td>\n",
       "      <td>106.542969</td>\n",
       "      <td>103.265455</td>\n",
       "      <td>106.295968</td>\n",
       "      <td>59364547.0</td>\n",
       "    </tr>\n",
       "    <tr>\n",
       "      <td>2015-01-09</td>\n",
       "      <td>112.670</td>\n",
       "      <td>113.2500</td>\n",
       "      <td>110.210</td>\n",
       "      <td>112.010</td>\n",
       "      <td>53315099.0</td>\n",
       "      <td>0.00</td>\n",
       "      <td>1.0</td>\n",
       "      <td>107.036971</td>\n",
       "      <td>107.587974</td>\n",
       "      <td>104.699961</td>\n",
       "      <td>106.409968</td>\n",
       "      <td>53315099.0</td>\n",
       "    </tr>\n",
       "    <tr>\n",
       "      <td>2015-01-12</td>\n",
       "      <td>112.600</td>\n",
       "      <td>112.6300</td>\n",
       "      <td>108.800</td>\n",
       "      <td>109.250</td>\n",
       "      <td>49650790.0</td>\n",
       "      <td>0.00</td>\n",
       "      <td>1.0</td>\n",
       "      <td>106.970471</td>\n",
       "      <td>106.998971</td>\n",
       "      <td>103.360455</td>\n",
       "      <td>103.787957</td>\n",
       "      <td>49650790.0</td>\n",
       "    </tr>\n",
       "    <tr>\n",
       "      <td>2015-01-13</td>\n",
       "      <td>111.430</td>\n",
       "      <td>112.8000</td>\n",
       "      <td>108.910</td>\n",
       "      <td>110.220</td>\n",
       "      <td>67091928.0</td>\n",
       "      <td>0.00</td>\n",
       "      <td>1.0</td>\n",
       "      <td>105.858966</td>\n",
       "      <td>107.160472</td>\n",
       "      <td>103.464955</td>\n",
       "      <td>104.709461</td>\n",
       "      <td>67091928.0</td>\n",
       "    </tr>\n",
       "    <tr>\n",
       "      <td>2015-01-14</td>\n",
       "      <td>109.040</td>\n",
       "      <td>110.4900</td>\n",
       "      <td>108.500</td>\n",
       "      <td>109.800</td>\n",
       "      <td>48956588.0</td>\n",
       "      <td>0.00</td>\n",
       "      <td>1.0</td>\n",
       "      <td>103.588456</td>\n",
       "      <td>104.965962</td>\n",
       "      <td>103.075454</td>\n",
       "      <td>104.310459</td>\n",
       "      <td>48956588.0</td>\n",
       "    </tr>\n",
       "    <tr>\n",
       "      <td>2015-01-15</td>\n",
       "      <td>110.000</td>\n",
       "      <td>110.0600</td>\n",
       "      <td>106.660</td>\n",
       "      <td>106.820</td>\n",
       "      <td>60013996.0</td>\n",
       "      <td>0.00</td>\n",
       "      <td>1.0</td>\n",
       "      <td>104.500460</td>\n",
       "      <td>104.557460</td>\n",
       "      <td>101.327446</td>\n",
       "      <td>101.479447</td>\n",
       "      <td>60013996.0</td>\n",
       "    </tr>\n",
       "    <tr>\n",
       "      <td>2015-01-16</td>\n",
       "      <td>107.030</td>\n",
       "      <td>107.5800</td>\n",
       "      <td>105.200</td>\n",
       "      <td>105.990</td>\n",
       "      <td>78513345.0</td>\n",
       "      <td>0.00</td>\n",
       "      <td>1.0</td>\n",
       "      <td>101.678948</td>\n",
       "      <td>102.201450</td>\n",
       "      <td>99.940440</td>\n",
       "      <td>100.690943</td>\n",
       "      <td>78513345.0</td>\n",
       "    </tr>\n",
       "    <tr>\n",
       "      <td>2015-01-20</td>\n",
       "      <td>107.840</td>\n",
       "      <td>108.9667</td>\n",
       "      <td>106.500</td>\n",
       "      <td>108.720</td>\n",
       "      <td>49899907.0</td>\n",
       "      <td>0.00</td>\n",
       "      <td>1.0</td>\n",
       "      <td>102.448451</td>\n",
       "      <td>103.518821</td>\n",
       "      <td>101.175445</td>\n",
       "      <td>103.284455</td>\n",
       "      <td>49899907.0</td>\n",
       "    </tr>\n",
       "    <tr>\n",
       "      <td>2015-01-21</td>\n",
       "      <td>108.950</td>\n",
       "      <td>111.0600</td>\n",
       "      <td>108.270</td>\n",
       "      <td>109.550</td>\n",
       "      <td>48575897.0</td>\n",
       "      <td>0.00</td>\n",
       "      <td>1.0</td>\n",
       "      <td>103.502956</td>\n",
       "      <td>105.507464</td>\n",
       "      <td>102.856953</td>\n",
       "      <td>104.072958</td>\n",
       "      <td>48575897.0</td>\n",
       "    </tr>\n",
       "    <tr>\n",
       "      <td>2015-01-22</td>\n",
       "      <td>110.260</td>\n",
       "      <td>112.4700</td>\n",
       "      <td>109.720</td>\n",
       "      <td>112.400</td>\n",
       "      <td>53796409.0</td>\n",
       "      <td>0.00</td>\n",
       "      <td>1.0</td>\n",
       "      <td>104.747461</td>\n",
       "      <td>106.846970</td>\n",
       "      <td>104.234459</td>\n",
       "      <td>106.780470</td>\n",
       "      <td>53796409.0</td>\n",
       "    </tr>\n",
       "    <tr>\n",
       "      <td>2015-01-23</td>\n",
       "      <td>112.300</td>\n",
       "      <td>113.7500</td>\n",
       "      <td>111.530</td>\n",
       "      <td>112.980</td>\n",
       "      <td>46464828.0</td>\n",
       "      <td>0.00</td>\n",
       "      <td>1.0</td>\n",
       "      <td>106.685470</td>\n",
       "      <td>108.062976</td>\n",
       "      <td>105.953966</td>\n",
       "      <td>107.331473</td>\n",
       "      <td>46464828.0</td>\n",
       "    </tr>\n",
       "    <tr>\n",
       "      <td>2015-01-26</td>\n",
       "      <td>113.740</td>\n",
       "      <td>114.3626</td>\n",
       "      <td>112.800</td>\n",
       "      <td>113.100</td>\n",
       "      <td>55614979.0</td>\n",
       "      <td>0.00</td>\n",
       "      <td>1.0</td>\n",
       "      <td>108.053476</td>\n",
       "      <td>108.644948</td>\n",
       "      <td>107.160472</td>\n",
       "      <td>107.445473</td>\n",
       "      <td>55614979.0</td>\n",
       "    </tr>\n",
       "    <tr>\n",
       "      <td>2015-01-27</td>\n",
       "      <td>112.420</td>\n",
       "      <td>112.4800</td>\n",
       "      <td>109.030</td>\n",
       "      <td>109.140</td>\n",
       "      <td>95568749.0</td>\n",
       "      <td>0.00</td>\n",
       "      <td>1.0</td>\n",
       "      <td>106.799470</td>\n",
       "      <td>106.856470</td>\n",
       "      <td>103.578956</td>\n",
       "      <td>103.683456</td>\n",
       "      <td>95568749.0</td>\n",
       "    </tr>\n",
       "    <tr>\n",
       "      <td>2015-01-28</td>\n",
       "      <td>117.625</td>\n",
       "      <td>118.1200</td>\n",
       "      <td>115.310</td>\n",
       "      <td>115.310</td>\n",
       "      <td>146477063.0</td>\n",
       "      <td>0.00</td>\n",
       "      <td>1.0</td>\n",
       "      <td>111.744242</td>\n",
       "      <td>112.214494</td>\n",
       "      <td>109.544982</td>\n",
       "      <td>109.544982</td>\n",
       "      <td>146477063.0</td>\n",
       "    </tr>\n",
       "    <tr>\n",
       "      <td>2015-01-29</td>\n",
       "      <td>116.320</td>\n",
       "      <td>119.1900</td>\n",
       "      <td>115.560</td>\n",
       "      <td>118.900</td>\n",
       "      <td>84436432.0</td>\n",
       "      <td>0.00</td>\n",
       "      <td>1.0</td>\n",
       "      <td>110.504486</td>\n",
       "      <td>113.230998</td>\n",
       "      <td>109.782483</td>\n",
       "      <td>112.955497</td>\n",
       "      <td>84436432.0</td>\n",
       "    </tr>\n",
       "    <tr>\n",
       "      <td>2015-01-30</td>\n",
       "      <td>118.400</td>\n",
       "      <td>120.0000</td>\n",
       "      <td>116.850</td>\n",
       "      <td>117.160</td>\n",
       "      <td>83745461.0</td>\n",
       "      <td>0.00</td>\n",
       "      <td>1.0</td>\n",
       "      <td>112.480495</td>\n",
       "      <td>114.000502</td>\n",
       "      <td>111.007989</td>\n",
       "      <td>111.302490</td>\n",
       "      <td>83745461.0</td>\n",
       "    </tr>\n",
       "    <tr>\n",
       "      <td>2015-02-02</td>\n",
       "      <td>118.050</td>\n",
       "      <td>119.1700</td>\n",
       "      <td>116.080</td>\n",
       "      <td>118.630</td>\n",
       "      <td>62739100.0</td>\n",
       "      <td>0.00</td>\n",
       "      <td>1.0</td>\n",
       "      <td>112.147994</td>\n",
       "      <td>113.211998</td>\n",
       "      <td>110.276485</td>\n",
       "      <td>112.698996</td>\n",
       "      <td>62739100.0</td>\n",
       "    </tr>\n",
       "    <tr>\n",
       "      <td>2015-02-03</td>\n",
       "      <td>118.500</td>\n",
       "      <td>119.0900</td>\n",
       "      <td>117.610</td>\n",
       "      <td>118.650</td>\n",
       "      <td>51915749.0</td>\n",
       "      <td>0.00</td>\n",
       "      <td>1.0</td>\n",
       "      <td>112.575496</td>\n",
       "      <td>113.135998</td>\n",
       "      <td>111.729992</td>\n",
       "      <td>112.717996</td>\n",
       "      <td>51915749.0</td>\n",
       "    </tr>\n",
       "    <tr>\n",
       "      <td>2015-02-04</td>\n",
       "      <td>118.500</td>\n",
       "      <td>120.5100</td>\n",
       "      <td>118.309</td>\n",
       "      <td>119.560</td>\n",
       "      <td>70149743.0</td>\n",
       "      <td>0.00</td>\n",
       "      <td>1.0</td>\n",
       "      <td>112.575496</td>\n",
       "      <td>114.485004</td>\n",
       "      <td>112.394045</td>\n",
       "      <td>113.582500</td>\n",
       "      <td>70149743.0</td>\n",
       "    </tr>\n",
       "    <tr>\n",
       "      <td>2015-02-05</td>\n",
       "      <td>120.020</td>\n",
       "      <td>120.2300</td>\n",
       "      <td>119.250</td>\n",
       "      <td>119.940</td>\n",
       "      <td>42246245.0</td>\n",
       "      <td>0.47</td>\n",
       "      <td>1.0</td>\n",
       "      <td>114.466302</td>\n",
       "      <td>114.666584</td>\n",
       "      <td>113.731932</td>\n",
       "      <td>114.390004</td>\n",
       "      <td>42246245.0</td>\n",
       "    </tr>\n",
       "    <tr>\n",
       "      <td>2015-02-06</td>\n",
       "      <td>120.020</td>\n",
       "      <td>120.2500</td>\n",
       "      <td>118.450</td>\n",
       "      <td>118.930</td>\n",
       "      <td>43706567.0</td>\n",
       "      <td>0.00</td>\n",
       "      <td>1.0</td>\n",
       "      <td>114.466302</td>\n",
       "      <td>114.685659</td>\n",
       "      <td>112.968951</td>\n",
       "      <td>113.426739</td>\n",
       "      <td>43706567.0</td>\n",
       "    </tr>\n",
       "    <tr>\n",
       "      <td>2015-02-09</td>\n",
       "      <td>118.550</td>\n",
       "      <td>119.8400</td>\n",
       "      <td>118.430</td>\n",
       "      <td>119.720</td>\n",
       "      <td>38889797.0</td>\n",
       "      <td>0.00</td>\n",
       "      <td>1.0</td>\n",
       "      <td>113.064323</td>\n",
       "      <td>114.294631</td>\n",
       "      <td>112.949876</td>\n",
       "      <td>114.180184</td>\n",
       "      <td>38889797.0</td>\n",
       "    </tr>\n",
       "    <tr>\n",
       "      <td>2015-02-10</td>\n",
       "      <td>120.170</td>\n",
       "      <td>122.1500</td>\n",
       "      <td>120.160</td>\n",
       "      <td>122.020</td>\n",
       "      <td>62008506.0</td>\n",
       "      <td>0.00</td>\n",
       "      <td>1.0</td>\n",
       "      <td>114.609361</td>\n",
       "      <td>116.497740</td>\n",
       "      <td>114.599823</td>\n",
       "      <td>116.373756</td>\n",
       "      <td>62008506.0</td>\n",
       "    </tr>\n",
       "    <tr>\n",
       "      <td>2015-02-11</td>\n",
       "      <td>122.770</td>\n",
       "      <td>124.9200</td>\n",
       "      <td>122.500</td>\n",
       "      <td>124.880</td>\n",
       "      <td>73561797.0</td>\n",
       "      <td>0.00</td>\n",
       "      <td>1.0</td>\n",
       "      <td>117.089051</td>\n",
       "      <td>119.139564</td>\n",
       "      <td>116.831544</td>\n",
       "      <td>119.101414</td>\n",
       "      <td>73561797.0</td>\n",
       "    </tr>\n",
       "    <tr>\n",
       "      <td>2015-02-12</td>\n",
       "      <td>126.060</td>\n",
       "      <td>127.4800</td>\n",
       "      <td>125.570</td>\n",
       "      <td>126.460</td>\n",
       "      <td>74474466.0</td>\n",
       "      <td>0.00</td>\n",
       "      <td>1.0</td>\n",
       "      <td>120.226812</td>\n",
       "      <td>121.581104</td>\n",
       "      <td>119.759486</td>\n",
       "      <td>120.608303</td>\n",
       "      <td>74474466.0</td>\n",
       "    </tr>\n",
       "    <tr>\n",
       "      <td>2015-02-13</td>\n",
       "      <td>127.280</td>\n",
       "      <td>127.2800</td>\n",
       "      <td>125.650</td>\n",
       "      <td>127.080</td>\n",
       "      <td>54272219.0</td>\n",
       "      <td>0.00</td>\n",
       "      <td>1.0</td>\n",
       "      <td>121.390359</td>\n",
       "      <td>121.390359</td>\n",
       "      <td>119.835784</td>\n",
       "      <td>121.199614</td>\n",
       "      <td>54272219.0</td>\n",
       "    </tr>\n",
       "    <tr>\n",
       "      <td>2015-02-17</td>\n",
       "      <td>127.490</td>\n",
       "      <td>128.8800</td>\n",
       "      <td>126.920</td>\n",
       "      <td>127.830</td>\n",
       "      <td>63152405.0</td>\n",
       "      <td>0.00</td>\n",
       "      <td>1.0</td>\n",
       "      <td>121.590642</td>\n",
       "      <td>122.916322</td>\n",
       "      <td>121.047017</td>\n",
       "      <td>121.914909</td>\n",
       "      <td>63152405.0</td>\n",
       "    </tr>\n",
       "    <tr>\n",
       "      <td>2015-02-18</td>\n",
       "      <td>127.625</td>\n",
       "      <td>128.7800</td>\n",
       "      <td>127.450</td>\n",
       "      <td>128.715</td>\n",
       "      <td>44891737.0</td>\n",
       "      <td>0.00</td>\n",
       "      <td>1.0</td>\n",
       "      <td>121.719395</td>\n",
       "      <td>122.820949</td>\n",
       "      <td>121.552493</td>\n",
       "      <td>122.758957</td>\n",
       "      <td>44891737.0</td>\n",
       "    </tr>\n",
       "    <tr>\n",
       "      <td>2015-02-19</td>\n",
       "      <td>128.480</td>\n",
       "      <td>129.0300</td>\n",
       "      <td>128.330</td>\n",
       "      <td>128.450</td>\n",
       "      <td>37362381.0</td>\n",
       "      <td>0.00</td>\n",
       "      <td>1.0</td>\n",
       "      <td>122.534831</td>\n",
       "      <td>123.059381</td>\n",
       "      <td>122.391772</td>\n",
       "      <td>122.506219</td>\n",
       "      <td>37362381.0</td>\n",
       "    </tr>\n",
       "    <tr>\n",
       "      <td>2015-02-20</td>\n",
       "      <td>128.620</td>\n",
       "      <td>129.5000</td>\n",
       "      <td>128.050</td>\n",
       "      <td>129.495</td>\n",
       "      <td>48948419.0</td>\n",
       "      <td>0.00</td>\n",
       "      <td>1.0</td>\n",
       "      <td>122.668353</td>\n",
       "      <td>123.507633</td>\n",
       "      <td>122.124729</td>\n",
       "      <td>123.502864</td>\n",
       "      <td>48948419.0</td>\n",
       "    </tr>\n",
       "    <tr>\n",
       "      <td>2015-02-23</td>\n",
       "      <td>130.020</td>\n",
       "      <td>133.0000</td>\n",
       "      <td>129.660</td>\n",
       "      <td>133.000</td>\n",
       "      <td>70974110.0</td>\n",
       "      <td>0.00</td>\n",
       "      <td>1.0</td>\n",
       "      <td>124.003571</td>\n",
       "      <td>126.845677</td>\n",
       "      <td>123.660229</td>\n",
       "      <td>126.845677</td>\n",
       "      <td>70974110.0</td>\n",
       "    </tr>\n",
       "    <tr>\n",
       "      <td>2015-02-24</td>\n",
       "      <td>132.940</td>\n",
       "      <td>133.6000</td>\n",
       "      <td>131.170</td>\n",
       "      <td>132.170</td>\n",
       "      <td>69228130.0</td>\n",
       "      <td>0.00</td>\n",
       "      <td>1.0</td>\n",
       "      <td>126.788453</td>\n",
       "      <td>127.417913</td>\n",
       "      <td>125.100357</td>\n",
       "      <td>126.054083</td>\n",
       "      <td>69228130.0</td>\n",
       "    </tr>\n",
       "    <tr>\n",
       "      <td>2015-02-25</td>\n",
       "      <td>131.560</td>\n",
       "      <td>131.6000</td>\n",
       "      <td>128.150</td>\n",
       "      <td>128.790</td>\n",
       "      <td>74711746.0</td>\n",
       "      <td>0.00</td>\n",
       "      <td>1.0</td>\n",
       "      <td>125.472310</td>\n",
       "      <td>125.510459</td>\n",
       "      <td>122.220101</td>\n",
       "      <td>122.830487</td>\n",
       "      <td>74711746.0</td>\n",
       "    </tr>\n",
       "    <tr>\n",
       "      <td>2015-02-26</td>\n",
       "      <td>128.785</td>\n",
       "      <td>130.8700</td>\n",
       "      <td>126.610</td>\n",
       "      <td>130.415</td>\n",
       "      <td>91287529.0</td>\n",
       "      <td>0.00</td>\n",
       "      <td>1.0</td>\n",
       "      <td>122.825718</td>\n",
       "      <td>124.814239</td>\n",
       "      <td>120.751362</td>\n",
       "      <td>124.380293</td>\n",
       "      <td>91287529.0</td>\n",
       "    </tr>\n",
       "    <tr>\n",
       "      <td>2015-02-27</td>\n",
       "      <td>130.000</td>\n",
       "      <td>130.5700</td>\n",
       "      <td>128.240</td>\n",
       "      <td>128.460</td>\n",
       "      <td>62014847.0</td>\n",
       "      <td>0.00</td>\n",
       "      <td>1.0</td>\n",
       "      <td>123.984496</td>\n",
       "      <td>124.528120</td>\n",
       "      <td>122.305937</td>\n",
       "      <td>122.515757</td>\n",
       "      <td>62014847.0</td>\n",
       "    </tr>\n",
       "    <tr>\n",
       "      <td>2015-03-02</td>\n",
       "      <td>129.250</td>\n",
       "      <td>130.2800</td>\n",
       "      <td>128.300</td>\n",
       "      <td>129.090</td>\n",
       "      <td>48096663.0</td>\n",
       "      <td>0.00</td>\n",
       "      <td>1.0</td>\n",
       "      <td>123.269201</td>\n",
       "      <td>124.251540</td>\n",
       "      <td>122.363160</td>\n",
       "      <td>123.116605</td>\n",
       "      <td>48096663.0</td>\n",
       "    </tr>\n",
       "    <tr>\n",
       "      <td>2015-03-03</td>\n",
       "      <td>128.960</td>\n",
       "      <td>129.5200</td>\n",
       "      <td>128.090</td>\n",
       "      <td>129.360</td>\n",
       "      <td>37816283.0</td>\n",
       "      <td>0.00</td>\n",
       "      <td>1.0</td>\n",
       "      <td>122.992620</td>\n",
       "      <td>123.526707</td>\n",
       "      <td>122.162878</td>\n",
       "      <td>123.374111</td>\n",
       "      <td>37816283.0</td>\n",
       "    </tr>\n",
       "    <tr>\n",
       "      <td>2015-03-04</td>\n",
       "      <td>129.100</td>\n",
       "      <td>129.5600</td>\n",
       "      <td>128.320</td>\n",
       "      <td>128.540</td>\n",
       "      <td>31666340.0</td>\n",
       "      <td>0.00</td>\n",
       "      <td>1.0</td>\n",
       "      <td>123.126142</td>\n",
       "      <td>123.564856</td>\n",
       "      <td>122.382235</td>\n",
       "      <td>122.592055</td>\n",
       "      <td>31666340.0</td>\n",
       "    </tr>\n",
       "    <tr>\n",
       "      <td>2015-03-05</td>\n",
       "      <td>128.580</td>\n",
       "      <td>128.7500</td>\n",
       "      <td>125.760</td>\n",
       "      <td>126.410</td>\n",
       "      <td>56517146.0</td>\n",
       "      <td>0.00</td>\n",
       "      <td>1.0</td>\n",
       "      <td>122.630204</td>\n",
       "      <td>122.792338</td>\n",
       "      <td>119.940694</td>\n",
       "      <td>120.560617</td>\n",
       "      <td>56517146.0</td>\n",
       "    </tr>\n",
       "  </tbody>\n",
       "</table>\n",
       "</div>"
      ],
      "text/plain": [
       "               Open      High      Low    Close       Volume  ExDividend  \\\n",
       "Date                                                                       \n",
       "2015-01-02  111.390  111.4400  107.350  109.330   53204626.0        0.00   \n",
       "2015-01-05  108.290  108.6500  105.410  106.250   64285491.0        0.00   \n",
       "2015-01-06  106.540  107.4300  104.630  106.260   65797116.0        0.00   \n",
       "2015-01-07  107.200  108.2000  106.695  107.750   40105934.0        0.00   \n",
       "2015-01-08  109.230  112.1500  108.700  111.890   59364547.0        0.00   \n",
       "2015-01-09  112.670  113.2500  110.210  112.010   53315099.0        0.00   \n",
       "2015-01-12  112.600  112.6300  108.800  109.250   49650790.0        0.00   \n",
       "2015-01-13  111.430  112.8000  108.910  110.220   67091928.0        0.00   \n",
       "2015-01-14  109.040  110.4900  108.500  109.800   48956588.0        0.00   \n",
       "2015-01-15  110.000  110.0600  106.660  106.820   60013996.0        0.00   \n",
       "2015-01-16  107.030  107.5800  105.200  105.990   78513345.0        0.00   \n",
       "2015-01-20  107.840  108.9667  106.500  108.720   49899907.0        0.00   \n",
       "2015-01-21  108.950  111.0600  108.270  109.550   48575897.0        0.00   \n",
       "2015-01-22  110.260  112.4700  109.720  112.400   53796409.0        0.00   \n",
       "2015-01-23  112.300  113.7500  111.530  112.980   46464828.0        0.00   \n",
       "2015-01-26  113.740  114.3626  112.800  113.100   55614979.0        0.00   \n",
       "2015-01-27  112.420  112.4800  109.030  109.140   95568749.0        0.00   \n",
       "2015-01-28  117.625  118.1200  115.310  115.310  146477063.0        0.00   \n",
       "2015-01-29  116.320  119.1900  115.560  118.900   84436432.0        0.00   \n",
       "2015-01-30  118.400  120.0000  116.850  117.160   83745461.0        0.00   \n",
       "2015-02-02  118.050  119.1700  116.080  118.630   62739100.0        0.00   \n",
       "2015-02-03  118.500  119.0900  117.610  118.650   51915749.0        0.00   \n",
       "2015-02-04  118.500  120.5100  118.309  119.560   70149743.0        0.00   \n",
       "2015-02-05  120.020  120.2300  119.250  119.940   42246245.0        0.47   \n",
       "2015-02-06  120.020  120.2500  118.450  118.930   43706567.0        0.00   \n",
       "2015-02-09  118.550  119.8400  118.430  119.720   38889797.0        0.00   \n",
       "2015-02-10  120.170  122.1500  120.160  122.020   62008506.0        0.00   \n",
       "2015-02-11  122.770  124.9200  122.500  124.880   73561797.0        0.00   \n",
       "2015-02-12  126.060  127.4800  125.570  126.460   74474466.0        0.00   \n",
       "2015-02-13  127.280  127.2800  125.650  127.080   54272219.0        0.00   \n",
       "2015-02-17  127.490  128.8800  126.920  127.830   63152405.0        0.00   \n",
       "2015-02-18  127.625  128.7800  127.450  128.715   44891737.0        0.00   \n",
       "2015-02-19  128.480  129.0300  128.330  128.450   37362381.0        0.00   \n",
       "2015-02-20  128.620  129.5000  128.050  129.495   48948419.0        0.00   \n",
       "2015-02-23  130.020  133.0000  129.660  133.000   70974110.0        0.00   \n",
       "2015-02-24  132.940  133.6000  131.170  132.170   69228130.0        0.00   \n",
       "2015-02-25  131.560  131.6000  128.150  128.790   74711746.0        0.00   \n",
       "2015-02-26  128.785  130.8700  126.610  130.415   91287529.0        0.00   \n",
       "2015-02-27  130.000  130.5700  128.240  128.460   62014847.0        0.00   \n",
       "2015-03-02  129.250  130.2800  128.300  129.090   48096663.0        0.00   \n",
       "2015-03-03  128.960  129.5200  128.090  129.360   37816283.0        0.00   \n",
       "2015-03-04  129.100  129.5600  128.320  128.540   31666340.0        0.00   \n",
       "2015-03-05  128.580  128.7500  125.760  126.410   56517146.0        0.00   \n",
       "\n",
       "            SplitRatio     AdjOpen     AdjHigh      AdjLow    AdjClose  \\\n",
       "Date                                                                     \n",
       "2015-01-02         1.0  105.820966  105.868466  101.982949  103.863957   \n",
       "2015-01-05         1.0  102.875953  103.217954  100.139941  100.937944   \n",
       "2015-01-06         1.0  101.213446  102.058949   99.398938  100.947444   \n",
       "2015-01-07         1.0  101.840448  102.790453  101.360696  102.362951   \n",
       "2015-01-08         1.0  103.768957  106.542969  103.265455  106.295968   \n",
       "2015-01-09         1.0  107.036971  107.587974  104.699961  106.409968   \n",
       "2015-01-12         1.0  106.970471  106.998971  103.360455  103.787957   \n",
       "2015-01-13         1.0  105.858966  107.160472  103.464955  104.709461   \n",
       "2015-01-14         1.0  103.588456  104.965962  103.075454  104.310459   \n",
       "2015-01-15         1.0  104.500460  104.557460  101.327446  101.479447   \n",
       "2015-01-16         1.0  101.678948  102.201450   99.940440  100.690943   \n",
       "2015-01-20         1.0  102.448451  103.518821  101.175445  103.284455   \n",
       "2015-01-21         1.0  103.502956  105.507464  102.856953  104.072958   \n",
       "2015-01-22         1.0  104.747461  106.846970  104.234459  106.780470   \n",
       "2015-01-23         1.0  106.685470  108.062976  105.953966  107.331473   \n",
       "2015-01-26         1.0  108.053476  108.644948  107.160472  107.445473   \n",
       "2015-01-27         1.0  106.799470  106.856470  103.578956  103.683456   \n",
       "2015-01-28         1.0  111.744242  112.214494  109.544982  109.544982   \n",
       "2015-01-29         1.0  110.504486  113.230998  109.782483  112.955497   \n",
       "2015-01-30         1.0  112.480495  114.000502  111.007989  111.302490   \n",
       "2015-02-02         1.0  112.147994  113.211998  110.276485  112.698996   \n",
       "2015-02-03         1.0  112.575496  113.135998  111.729992  112.717996   \n",
       "2015-02-04         1.0  112.575496  114.485004  112.394045  113.582500   \n",
       "2015-02-05         1.0  114.466302  114.666584  113.731932  114.390004   \n",
       "2015-02-06         1.0  114.466302  114.685659  112.968951  113.426739   \n",
       "2015-02-09         1.0  113.064323  114.294631  112.949876  114.180184   \n",
       "2015-02-10         1.0  114.609361  116.497740  114.599823  116.373756   \n",
       "2015-02-11         1.0  117.089051  119.139564  116.831544  119.101414   \n",
       "2015-02-12         1.0  120.226812  121.581104  119.759486  120.608303   \n",
       "2015-02-13         1.0  121.390359  121.390359  119.835784  121.199614   \n",
       "2015-02-17         1.0  121.590642  122.916322  121.047017  121.914909   \n",
       "2015-02-18         1.0  121.719395  122.820949  121.552493  122.758957   \n",
       "2015-02-19         1.0  122.534831  123.059381  122.391772  122.506219   \n",
       "2015-02-20         1.0  122.668353  123.507633  122.124729  123.502864   \n",
       "2015-02-23         1.0  124.003571  126.845677  123.660229  126.845677   \n",
       "2015-02-24         1.0  126.788453  127.417913  125.100357  126.054083   \n",
       "2015-02-25         1.0  125.472310  125.510459  122.220101  122.830487   \n",
       "2015-02-26         1.0  122.825718  124.814239  120.751362  124.380293   \n",
       "2015-02-27         1.0  123.984496  124.528120  122.305937  122.515757   \n",
       "2015-03-02         1.0  123.269201  124.251540  122.363160  123.116605   \n",
       "2015-03-03         1.0  122.992620  123.526707  122.162878  123.374111   \n",
       "2015-03-04         1.0  123.126142  123.564856  122.382235  122.592055   \n",
       "2015-03-05         1.0  122.630204  122.792338  119.940694  120.560617   \n",
       "\n",
       "              AdjVolume  \n",
       "Date                     \n",
       "2015-01-02   53204626.0  \n",
       "2015-01-05   64285491.0  \n",
       "2015-01-06   65797116.0  \n",
       "2015-01-07   40105934.0  \n",
       "2015-01-08   59364547.0  \n",
       "2015-01-09   53315099.0  \n",
       "2015-01-12   49650790.0  \n",
       "2015-01-13   67091928.0  \n",
       "2015-01-14   48956588.0  \n",
       "2015-01-15   60013996.0  \n",
       "2015-01-16   78513345.0  \n",
       "2015-01-20   49899907.0  \n",
       "2015-01-21   48575897.0  \n",
       "2015-01-22   53796409.0  \n",
       "2015-01-23   46464828.0  \n",
       "2015-01-26   55614979.0  \n",
       "2015-01-27   95568749.0  \n",
       "2015-01-28  146477063.0  \n",
       "2015-01-29   84436432.0  \n",
       "2015-01-30   83745461.0  \n",
       "2015-02-02   62739100.0  \n",
       "2015-02-03   51915749.0  \n",
       "2015-02-04   70149743.0  \n",
       "2015-02-05   42246245.0  \n",
       "2015-02-06   43706567.0  \n",
       "2015-02-09   38889797.0  \n",
       "2015-02-10   62008506.0  \n",
       "2015-02-11   73561797.0  \n",
       "2015-02-12   74474466.0  \n",
       "2015-02-13   54272219.0  \n",
       "2015-02-17   63152405.0  \n",
       "2015-02-18   44891737.0  \n",
       "2015-02-19   37362381.0  \n",
       "2015-02-20   48948419.0  \n",
       "2015-02-23   70974110.0  \n",
       "2015-02-24   69228130.0  \n",
       "2015-02-25   74711746.0  \n",
       "2015-02-26   91287529.0  \n",
       "2015-02-27   62014847.0  \n",
       "2015-03-02   48096663.0  \n",
       "2015-03-03   37816283.0  \n",
       "2015-03-04   31666340.0  \n",
       "2015-03-05   56517146.0  "
      ]
     },
     "execution_count": 100,
     "metadata": {},
     "output_type": "execute_result"
    }
   ],
   "source": [
    "df=df.sort_index()#时间从小到大排序\n",
    "df"
   ]
  },
  {
   "cell_type": "code",
   "execution_count": 101,
   "metadata": {},
   "outputs": [
    {
     "data": {
      "text/html": [
       "<div>\n",
       "<style scoped>\n",
       "    .dataframe tbody tr th:only-of-type {\n",
       "        vertical-align: middle;\n",
       "    }\n",
       "\n",
       "    .dataframe tbody tr th {\n",
       "        vertical-align: top;\n",
       "    }\n",
       "\n",
       "    .dataframe thead th {\n",
       "        text-align: right;\n",
       "    }\n",
       "</style>\n",
       "<table border=\"1\" class=\"dataframe\">\n",
       "  <thead>\n",
       "    <tr style=\"text-align: right;\">\n",
       "      <th></th>\n",
       "      <th>Open</th>\n",
       "      <th>High</th>\n",
       "      <th>Low</th>\n",
       "      <th>Close</th>\n",
       "      <th>Volume</th>\n",
       "      <th>ExDividend</th>\n",
       "      <th>SplitRatio</th>\n",
       "      <th>AdjOpen</th>\n",
       "      <th>AdjHigh</th>\n",
       "      <th>AdjLow</th>\n",
       "      <th>AdjClose</th>\n",
       "      <th>AdjVolume</th>\n",
       "    </tr>\n",
       "    <tr>\n",
       "      <th>Date</th>\n",
       "      <th></th>\n",
       "      <th></th>\n",
       "      <th></th>\n",
       "      <th></th>\n",
       "      <th></th>\n",
       "      <th></th>\n",
       "      <th></th>\n",
       "      <th></th>\n",
       "      <th></th>\n",
       "      <th></th>\n",
       "      <th></th>\n",
       "      <th></th>\n",
       "    </tr>\n",
       "  </thead>\n",
       "  <tbody>\n",
       "    <tr>\n",
       "      <td>2015-01-02</td>\n",
       "      <td>NaN</td>\n",
       "      <td>NaN</td>\n",
       "      <td>NaN</td>\n",
       "      <td>NaN</td>\n",
       "      <td>NaN</td>\n",
       "      <td>NaN</td>\n",
       "      <td>NaN</td>\n",
       "      <td>NaN</td>\n",
       "      <td>NaN</td>\n",
       "      <td>NaN</td>\n",
       "      <td>NaN</td>\n",
       "      <td>NaN</td>\n",
       "    </tr>\n",
       "    <tr>\n",
       "      <td>2015-01-05</td>\n",
       "      <td>-0.027830</td>\n",
       "      <td>-0.025036</td>\n",
       "      <td>-0.018072</td>\n",
       "      <td>-0.028172</td>\n",
       "      <td>0.208269</td>\n",
       "      <td>NaN</td>\n",
       "      <td>0.0</td>\n",
       "      <td>-0.027830</td>\n",
       "      <td>-0.025036</td>\n",
       "      <td>-0.018072</td>\n",
       "      <td>-0.028172</td>\n",
       "      <td>0.208269</td>\n",
       "    </tr>\n",
       "    <tr>\n",
       "      <td>2015-01-06</td>\n",
       "      <td>-0.016160</td>\n",
       "      <td>-0.011229</td>\n",
       "      <td>-0.007400</td>\n",
       "      <td>0.000094</td>\n",
       "      <td>0.023514</td>\n",
       "      <td>NaN</td>\n",
       "      <td>0.0</td>\n",
       "      <td>-0.016160</td>\n",
       "      <td>-0.011229</td>\n",
       "      <td>-0.007400</td>\n",
       "      <td>0.000094</td>\n",
       "      <td>0.023514</td>\n",
       "    </tr>\n",
       "    <tr>\n",
       "      <td>2015-01-07</td>\n",
       "      <td>0.006195</td>\n",
       "      <td>0.007167</td>\n",
       "      <td>0.019736</td>\n",
       "      <td>0.014022</td>\n",
       "      <td>-0.390461</td>\n",
       "      <td>NaN</td>\n",
       "      <td>0.0</td>\n",
       "      <td>0.006195</td>\n",
       "      <td>0.007167</td>\n",
       "      <td>0.019736</td>\n",
       "      <td>0.014022</td>\n",
       "      <td>-0.390461</td>\n",
       "    </tr>\n",
       "    <tr>\n",
       "      <td>2015-01-08</td>\n",
       "      <td>0.018937</td>\n",
       "      <td>0.036506</td>\n",
       "      <td>0.018792</td>\n",
       "      <td>0.038422</td>\n",
       "      <td>0.480194</td>\n",
       "      <td>NaN</td>\n",
       "      <td>0.0</td>\n",
       "      <td>0.018937</td>\n",
       "      <td>0.036506</td>\n",
       "      <td>0.018792</td>\n",
       "      <td>0.038422</td>\n",
       "      <td>0.480194</td>\n",
       "    </tr>\n",
       "    <tr>\n",
       "      <td>2015-01-09</td>\n",
       "      <td>0.031493</td>\n",
       "      <td>0.009808</td>\n",
       "      <td>0.013891</td>\n",
       "      <td>0.001072</td>\n",
       "      <td>-0.101903</td>\n",
       "      <td>NaN</td>\n",
       "      <td>0.0</td>\n",
       "      <td>0.031493</td>\n",
       "      <td>0.009808</td>\n",
       "      <td>0.013891</td>\n",
       "      <td>0.001072</td>\n",
       "      <td>-0.101903</td>\n",
       "    </tr>\n",
       "    <tr>\n",
       "      <td>2015-01-12</td>\n",
       "      <td>-0.000621</td>\n",
       "      <td>-0.005475</td>\n",
       "      <td>-0.012794</td>\n",
       "      <td>-0.024641</td>\n",
       "      <td>-0.068729</td>\n",
       "      <td>NaN</td>\n",
       "      <td>0.0</td>\n",
       "      <td>-0.000621</td>\n",
       "      <td>-0.005475</td>\n",
       "      <td>-0.012794</td>\n",
       "      <td>-0.024641</td>\n",
       "      <td>-0.068729</td>\n",
       "    </tr>\n",
       "    <tr>\n",
       "      <td>2015-01-13</td>\n",
       "      <td>-0.010391</td>\n",
       "      <td>0.001509</td>\n",
       "      <td>0.001011</td>\n",
       "      <td>0.008879</td>\n",
       "      <td>0.351276</td>\n",
       "      <td>NaN</td>\n",
       "      <td>0.0</td>\n",
       "      <td>-0.010391</td>\n",
       "      <td>0.001509</td>\n",
       "      <td>0.001011</td>\n",
       "      <td>0.008879</td>\n",
       "      <td>0.351276</td>\n",
       "    </tr>\n",
       "    <tr>\n",
       "      <td>2015-01-14</td>\n",
       "      <td>-0.021448</td>\n",
       "      <td>-0.020479</td>\n",
       "      <td>-0.003765</td>\n",
       "      <td>-0.003811</td>\n",
       "      <td>-0.270306</td>\n",
       "      <td>NaN</td>\n",
       "      <td>0.0</td>\n",
       "      <td>-0.021448</td>\n",
       "      <td>-0.020479</td>\n",
       "      <td>-0.003765</td>\n",
       "      <td>-0.003811</td>\n",
       "      <td>-0.270306</td>\n",
       "    </tr>\n",
       "    <tr>\n",
       "      <td>2015-01-15</td>\n",
       "      <td>0.008804</td>\n",
       "      <td>-0.003892</td>\n",
       "      <td>-0.016959</td>\n",
       "      <td>-0.027140</td>\n",
       "      <td>0.225861</td>\n",
       "      <td>NaN</td>\n",
       "      <td>0.0</td>\n",
       "      <td>0.008804</td>\n",
       "      <td>-0.003892</td>\n",
       "      <td>-0.016959</td>\n",
       "      <td>-0.027140</td>\n",
       "      <td>0.225861</td>\n",
       "    </tr>\n",
       "    <tr>\n",
       "      <td>2015-01-16</td>\n",
       "      <td>-0.027000</td>\n",
       "      <td>-0.022533</td>\n",
       "      <td>-0.013688</td>\n",
       "      <td>-0.007770</td>\n",
       "      <td>0.308251</td>\n",
       "      <td>NaN</td>\n",
       "      <td>0.0</td>\n",
       "      <td>-0.027000</td>\n",
       "      <td>-0.022533</td>\n",
       "      <td>-0.013688</td>\n",
       "      <td>-0.007770</td>\n",
       "      <td>0.308251</td>\n",
       "    </tr>\n",
       "    <tr>\n",
       "      <td>2015-01-20</td>\n",
       "      <td>0.007568</td>\n",
       "      <td>0.012890</td>\n",
       "      <td>0.012357</td>\n",
       "      <td>0.025757</td>\n",
       "      <td>-0.364440</td>\n",
       "      <td>NaN</td>\n",
       "      <td>0.0</td>\n",
       "      <td>0.007568</td>\n",
       "      <td>0.012890</td>\n",
       "      <td>0.012357</td>\n",
       "      <td>0.025757</td>\n",
       "      <td>-0.364440</td>\n",
       "    </tr>\n",
       "    <tr>\n",
       "      <td>2015-01-21</td>\n",
       "      <td>0.010293</td>\n",
       "      <td>0.019210</td>\n",
       "      <td>0.016620</td>\n",
       "      <td>0.007634</td>\n",
       "      <td>-0.026533</td>\n",
       "      <td>NaN</td>\n",
       "      <td>0.0</td>\n",
       "      <td>0.010293</td>\n",
       "      <td>0.019210</td>\n",
       "      <td>0.016620</td>\n",
       "      <td>0.007634</td>\n",
       "      <td>-0.026533</td>\n",
       "    </tr>\n",
       "    <tr>\n",
       "      <td>2015-01-22</td>\n",
       "      <td>0.012024</td>\n",
       "      <td>0.012696</td>\n",
       "      <td>0.013392</td>\n",
       "      <td>0.026016</td>\n",
       "      <td>0.107471</td>\n",
       "      <td>NaN</td>\n",
       "      <td>0.0</td>\n",
       "      <td>0.012024</td>\n",
       "      <td>0.012696</td>\n",
       "      <td>0.013392</td>\n",
       "      <td>0.026016</td>\n",
       "      <td>0.107471</td>\n",
       "    </tr>\n",
       "    <tr>\n",
       "      <td>2015-01-23</td>\n",
       "      <td>0.018502</td>\n",
       "      <td>0.011381</td>\n",
       "      <td>0.016497</td>\n",
       "      <td>0.005160</td>\n",
       "      <td>-0.136284</td>\n",
       "      <td>NaN</td>\n",
       "      <td>0.0</td>\n",
       "      <td>0.018502</td>\n",
       "      <td>0.011381</td>\n",
       "      <td>0.016497</td>\n",
       "      <td>0.005160</td>\n",
       "      <td>-0.136284</td>\n",
       "    </tr>\n",
       "    <tr>\n",
       "      <td>2015-01-26</td>\n",
       "      <td>0.012823</td>\n",
       "      <td>0.005385</td>\n",
       "      <td>0.011387</td>\n",
       "      <td>0.001062</td>\n",
       "      <td>0.196926</td>\n",
       "      <td>NaN</td>\n",
       "      <td>0.0</td>\n",
       "      <td>0.012823</td>\n",
       "      <td>0.005385</td>\n",
       "      <td>0.011387</td>\n",
       "      <td>0.001062</td>\n",
       "      <td>0.196926</td>\n",
       "    </tr>\n",
       "    <tr>\n",
       "      <td>2015-01-27</td>\n",
       "      <td>-0.011605</td>\n",
       "      <td>-0.016462</td>\n",
       "      <td>-0.033422</td>\n",
       "      <td>-0.035013</td>\n",
       "      <td>0.718399</td>\n",
       "      <td>NaN</td>\n",
       "      <td>0.0</td>\n",
       "      <td>-0.011605</td>\n",
       "      <td>-0.016462</td>\n",
       "      <td>-0.033422</td>\n",
       "      <td>-0.035013</td>\n",
       "      <td>0.718399</td>\n",
       "    </tr>\n",
       "    <tr>\n",
       "      <td>2015-01-28</td>\n",
       "      <td>0.046300</td>\n",
       "      <td>0.050142</td>\n",
       "      <td>0.057599</td>\n",
       "      <td>0.056533</td>\n",
       "      <td>0.532688</td>\n",
       "      <td>NaN</td>\n",
       "      <td>0.0</td>\n",
       "      <td>0.046300</td>\n",
       "      <td>0.050142</td>\n",
       "      <td>0.057599</td>\n",
       "      <td>0.056533</td>\n",
       "      <td>0.532688</td>\n",
       "    </tr>\n",
       "    <tr>\n",
       "      <td>2015-01-29</td>\n",
       "      <td>-0.011095</td>\n",
       "      <td>0.009059</td>\n",
       "      <td>0.002168</td>\n",
       "      <td>0.031133</td>\n",
       "      <td>-0.423552</td>\n",
       "      <td>NaN</td>\n",
       "      <td>0.0</td>\n",
       "      <td>-0.011095</td>\n",
       "      <td>0.009059</td>\n",
       "      <td>0.002168</td>\n",
       "      <td>0.031133</td>\n",
       "      <td>-0.423552</td>\n",
       "    </tr>\n",
       "    <tr>\n",
       "      <td>2015-01-30</td>\n",
       "      <td>0.017882</td>\n",
       "      <td>0.006796</td>\n",
       "      <td>0.011163</td>\n",
       "      <td>-0.014634</td>\n",
       "      <td>-0.008183</td>\n",
       "      <td>NaN</td>\n",
       "      <td>0.0</td>\n",
       "      <td>0.017882</td>\n",
       "      <td>0.006796</td>\n",
       "      <td>0.011163</td>\n",
       "      <td>-0.014634</td>\n",
       "      <td>-0.008183</td>\n",
       "    </tr>\n",
       "    <tr>\n",
       "      <td>2015-02-02</td>\n",
       "      <td>-0.002956</td>\n",
       "      <td>-0.006917</td>\n",
       "      <td>-0.006590</td>\n",
       "      <td>0.012547</td>\n",
       "      <td>-0.250836</td>\n",
       "      <td>NaN</td>\n",
       "      <td>0.0</td>\n",
       "      <td>-0.002956</td>\n",
       "      <td>-0.006917</td>\n",
       "      <td>-0.006590</td>\n",
       "      <td>0.012547</td>\n",
       "      <td>-0.250836</td>\n",
       "    </tr>\n",
       "    <tr>\n",
       "      <td>2015-02-03</td>\n",
       "      <td>0.003812</td>\n",
       "      <td>-0.000671</td>\n",
       "      <td>0.013181</td>\n",
       "      <td>0.000169</td>\n",
       "      <td>-0.172514</td>\n",
       "      <td>NaN</td>\n",
       "      <td>0.0</td>\n",
       "      <td>0.003812</td>\n",
       "      <td>-0.000671</td>\n",
       "      <td>0.013181</td>\n",
       "      <td>0.000169</td>\n",
       "      <td>-0.172514</td>\n",
       "    </tr>\n",
       "    <tr>\n",
       "      <td>2015-02-04</td>\n",
       "      <td>0.000000</td>\n",
       "      <td>0.011924</td>\n",
       "      <td>0.005943</td>\n",
       "      <td>0.007670</td>\n",
       "      <td>0.351223</td>\n",
       "      <td>NaN</td>\n",
       "      <td>0.0</td>\n",
       "      <td>0.000000</td>\n",
       "      <td>0.011924</td>\n",
       "      <td>0.005943</td>\n",
       "      <td>0.007670</td>\n",
       "      <td>0.351223</td>\n",
       "    </tr>\n",
       "    <tr>\n",
       "      <td>2015-02-05</td>\n",
       "      <td>0.012827</td>\n",
       "      <td>-0.002323</td>\n",
       "      <td>0.007954</td>\n",
       "      <td>0.003178</td>\n",
       "      <td>-0.397770</td>\n",
       "      <td>inf</td>\n",
       "      <td>0.0</td>\n",
       "      <td>0.016796</td>\n",
       "      <td>0.001586</td>\n",
       "      <td>0.011904</td>\n",
       "      <td>0.007109</td>\n",
       "      <td>-0.397770</td>\n",
       "    </tr>\n",
       "    <tr>\n",
       "      <td>2015-02-06</td>\n",
       "      <td>0.000000</td>\n",
       "      <td>0.000166</td>\n",
       "      <td>-0.006709</td>\n",
       "      <td>-0.008421</td>\n",
       "      <td>0.034567</td>\n",
       "      <td>-1.0</td>\n",
       "      <td>0.0</td>\n",
       "      <td>0.000000</td>\n",
       "      <td>0.000166</td>\n",
       "      <td>-0.006709</td>\n",
       "      <td>-0.008421</td>\n",
       "      <td>0.034567</td>\n",
       "    </tr>\n",
       "    <tr>\n",
       "      <td>2015-02-09</td>\n",
       "      <td>-0.012248</td>\n",
       "      <td>-0.003410</td>\n",
       "      <td>-0.000169</td>\n",
       "      <td>0.006643</td>\n",
       "      <td>-0.110207</td>\n",
       "      <td>NaN</td>\n",
       "      <td>0.0</td>\n",
       "      <td>-0.012248</td>\n",
       "      <td>-0.003410</td>\n",
       "      <td>-0.000169</td>\n",
       "      <td>0.006643</td>\n",
       "      <td>-0.110207</td>\n",
       "    </tr>\n",
       "    <tr>\n",
       "      <td>2015-02-10</td>\n",
       "      <td>0.013665</td>\n",
       "      <td>0.019276</td>\n",
       "      <td>0.014608</td>\n",
       "      <td>0.019211</td>\n",
       "      <td>0.594467</td>\n",
       "      <td>NaN</td>\n",
       "      <td>0.0</td>\n",
       "      <td>0.013665</td>\n",
       "      <td>0.019276</td>\n",
       "      <td>0.014608</td>\n",
       "      <td>0.019211</td>\n",
       "      <td>0.594467</td>\n",
       "    </tr>\n",
       "    <tr>\n",
       "      <td>2015-02-11</td>\n",
       "      <td>0.021636</td>\n",
       "      <td>0.022677</td>\n",
       "      <td>0.019474</td>\n",
       "      <td>0.023439</td>\n",
       "      <td>0.186318</td>\n",
       "      <td>NaN</td>\n",
       "      <td>0.0</td>\n",
       "      <td>0.021636</td>\n",
       "      <td>0.022677</td>\n",
       "      <td>0.019474</td>\n",
       "      <td>0.023439</td>\n",
       "      <td>0.186318</td>\n",
       "    </tr>\n",
       "    <tr>\n",
       "      <td>2015-02-12</td>\n",
       "      <td>0.026798</td>\n",
       "      <td>0.020493</td>\n",
       "      <td>0.025061</td>\n",
       "      <td>0.012652</td>\n",
       "      <td>0.012407</td>\n",
       "      <td>NaN</td>\n",
       "      <td>0.0</td>\n",
       "      <td>0.026798</td>\n",
       "      <td>0.020493</td>\n",
       "      <td>0.025061</td>\n",
       "      <td>0.012652</td>\n",
       "      <td>0.012407</td>\n",
       "    </tr>\n",
       "    <tr>\n",
       "      <td>2015-02-13</td>\n",
       "      <td>0.009678</td>\n",
       "      <td>-0.001569</td>\n",
       "      <td>0.000637</td>\n",
       "      <td>0.004903</td>\n",
       "      <td>-0.271264</td>\n",
       "      <td>NaN</td>\n",
       "      <td>0.0</td>\n",
       "      <td>0.009678</td>\n",
       "      <td>-0.001569</td>\n",
       "      <td>0.000637</td>\n",
       "      <td>0.004903</td>\n",
       "      <td>-0.271264</td>\n",
       "    </tr>\n",
       "    <tr>\n",
       "      <td>2015-02-17</td>\n",
       "      <td>0.001650</td>\n",
       "      <td>0.012571</td>\n",
       "      <td>0.010107</td>\n",
       "      <td>0.005902</td>\n",
       "      <td>0.163623</td>\n",
       "      <td>NaN</td>\n",
       "      <td>0.0</td>\n",
       "      <td>0.001650</td>\n",
       "      <td>0.012571</td>\n",
       "      <td>0.010107</td>\n",
       "      <td>0.005902</td>\n",
       "      <td>0.163623</td>\n",
       "    </tr>\n",
       "    <tr>\n",
       "      <td>2015-02-18</td>\n",
       "      <td>0.001059</td>\n",
       "      <td>-0.000776</td>\n",
       "      <td>0.004176</td>\n",
       "      <td>0.006923</td>\n",
       "      <td>-0.289152</td>\n",
       "      <td>NaN</td>\n",
       "      <td>0.0</td>\n",
       "      <td>0.001059</td>\n",
       "      <td>-0.000776</td>\n",
       "      <td>0.004176</td>\n",
       "      <td>0.006923</td>\n",
       "      <td>-0.289152</td>\n",
       "    </tr>\n",
       "    <tr>\n",
       "      <td>2015-02-19</td>\n",
       "      <td>0.006699</td>\n",
       "      <td>0.001941</td>\n",
       "      <td>0.006905</td>\n",
       "      <td>-0.002059</td>\n",
       "      <td>-0.167723</td>\n",
       "      <td>NaN</td>\n",
       "      <td>0.0</td>\n",
       "      <td>0.006699</td>\n",
       "      <td>0.001941</td>\n",
       "      <td>0.006905</td>\n",
       "      <td>-0.002059</td>\n",
       "      <td>-0.167723</td>\n",
       "    </tr>\n",
       "    <tr>\n",
       "      <td>2015-02-20</td>\n",
       "      <td>0.001090</td>\n",
       "      <td>0.003643</td>\n",
       "      <td>-0.002182</td>\n",
       "      <td>0.008135</td>\n",
       "      <td>0.310099</td>\n",
       "      <td>NaN</td>\n",
       "      <td>0.0</td>\n",
       "      <td>0.001090</td>\n",
       "      <td>0.003643</td>\n",
       "      <td>-0.002182</td>\n",
       "      <td>0.008135</td>\n",
       "      <td>0.310099</td>\n",
       "    </tr>\n",
       "    <tr>\n",
       "      <td>2015-02-23</td>\n",
       "      <td>0.010885</td>\n",
       "      <td>0.027027</td>\n",
       "      <td>0.012573</td>\n",
       "      <td>0.027067</td>\n",
       "      <td>0.449978</td>\n",
       "      <td>NaN</td>\n",
       "      <td>0.0</td>\n",
       "      <td>0.010885</td>\n",
       "      <td>0.027027</td>\n",
       "      <td>0.012573</td>\n",
       "      <td>0.027067</td>\n",
       "      <td>0.449978</td>\n",
       "    </tr>\n",
       "    <tr>\n",
       "      <td>2015-02-24</td>\n",
       "      <td>0.022458</td>\n",
       "      <td>0.004511</td>\n",
       "      <td>0.011646</td>\n",
       "      <td>-0.006241</td>\n",
       "      <td>-0.024600</td>\n",
       "      <td>NaN</td>\n",
       "      <td>0.0</td>\n",
       "      <td>0.022458</td>\n",
       "      <td>0.004511</td>\n",
       "      <td>0.011646</td>\n",
       "      <td>-0.006241</td>\n",
       "      <td>-0.024600</td>\n",
       "    </tr>\n",
       "    <tr>\n",
       "      <td>2015-02-25</td>\n",
       "      <td>-0.010381</td>\n",
       "      <td>-0.014970</td>\n",
       "      <td>-0.023024</td>\n",
       "      <td>-0.025573</td>\n",
       "      <td>0.079211</td>\n",
       "      <td>NaN</td>\n",
       "      <td>0.0</td>\n",
       "      <td>-0.010381</td>\n",
       "      <td>-0.014970</td>\n",
       "      <td>-0.023024</td>\n",
       "      <td>-0.025573</td>\n",
       "      <td>0.079211</td>\n",
       "    </tr>\n",
       "    <tr>\n",
       "      <td>2015-02-26</td>\n",
       "      <td>-0.021093</td>\n",
       "      <td>-0.005547</td>\n",
       "      <td>-0.012017</td>\n",
       "      <td>0.012617</td>\n",
       "      <td>0.221863</td>\n",
       "      <td>NaN</td>\n",
       "      <td>0.0</td>\n",
       "      <td>-0.021093</td>\n",
       "      <td>-0.005547</td>\n",
       "      <td>-0.012017</td>\n",
       "      <td>0.012617</td>\n",
       "      <td>0.221863</td>\n",
       "    </tr>\n",
       "    <tr>\n",
       "      <td>2015-02-27</td>\n",
       "      <td>0.009434</td>\n",
       "      <td>-0.002292</td>\n",
       "      <td>0.012874</td>\n",
       "      <td>-0.014991</td>\n",
       "      <td>-0.320665</td>\n",
       "      <td>NaN</td>\n",
       "      <td>0.0</td>\n",
       "      <td>0.009434</td>\n",
       "      <td>-0.002292</td>\n",
       "      <td>0.012874</td>\n",
       "      <td>-0.014991</td>\n",
       "      <td>-0.320665</td>\n",
       "    </tr>\n",
       "    <tr>\n",
       "      <td>2015-03-02</td>\n",
       "      <td>-0.005769</td>\n",
       "      <td>-0.002221</td>\n",
       "      <td>0.000468</td>\n",
       "      <td>0.004904</td>\n",
       "      <td>-0.224433</td>\n",
       "      <td>NaN</td>\n",
       "      <td>0.0</td>\n",
       "      <td>-0.005769</td>\n",
       "      <td>-0.002221</td>\n",
       "      <td>0.000468</td>\n",
       "      <td>0.004904</td>\n",
       "      <td>-0.224433</td>\n",
       "    </tr>\n",
       "    <tr>\n",
       "      <td>2015-03-03</td>\n",
       "      <td>-0.002244</td>\n",
       "      <td>-0.005834</td>\n",
       "      <td>-0.001637</td>\n",
       "      <td>0.002092</td>\n",
       "      <td>-0.213744</td>\n",
       "      <td>NaN</td>\n",
       "      <td>0.0</td>\n",
       "      <td>-0.002244</td>\n",
       "      <td>-0.005834</td>\n",
       "      <td>-0.001637</td>\n",
       "      <td>0.002092</td>\n",
       "      <td>-0.213744</td>\n",
       "    </tr>\n",
       "    <tr>\n",
       "      <td>2015-03-04</td>\n",
       "      <td>0.001086</td>\n",
       "      <td>0.000309</td>\n",
       "      <td>0.001796</td>\n",
       "      <td>-0.006339</td>\n",
       "      <td>-0.162627</td>\n",
       "      <td>NaN</td>\n",
       "      <td>0.0</td>\n",
       "      <td>0.001086</td>\n",
       "      <td>0.000309</td>\n",
       "      <td>0.001796</td>\n",
       "      <td>-0.006339</td>\n",
       "      <td>-0.162627</td>\n",
       "    </tr>\n",
       "    <tr>\n",
       "      <td>2015-03-05</td>\n",
       "      <td>-0.004028</td>\n",
       "      <td>-0.006252</td>\n",
       "      <td>-0.019950</td>\n",
       "      <td>-0.016571</td>\n",
       "      <td>0.784770</td>\n",
       "      <td>NaN</td>\n",
       "      <td>0.0</td>\n",
       "      <td>-0.004028</td>\n",
       "      <td>-0.006252</td>\n",
       "      <td>-0.019950</td>\n",
       "      <td>-0.016571</td>\n",
       "      <td>0.784770</td>\n",
       "    </tr>\n",
       "  </tbody>\n",
       "</table>\n",
       "</div>"
      ],
      "text/plain": [
       "                Open      High       Low     Close    Volume  ExDividend  \\\n",
       "Date                                                                       \n",
       "2015-01-02       NaN       NaN       NaN       NaN       NaN         NaN   \n",
       "2015-01-05 -0.027830 -0.025036 -0.018072 -0.028172  0.208269         NaN   \n",
       "2015-01-06 -0.016160 -0.011229 -0.007400  0.000094  0.023514         NaN   \n",
       "2015-01-07  0.006195  0.007167  0.019736  0.014022 -0.390461         NaN   \n",
       "2015-01-08  0.018937  0.036506  0.018792  0.038422  0.480194         NaN   \n",
       "2015-01-09  0.031493  0.009808  0.013891  0.001072 -0.101903         NaN   \n",
       "2015-01-12 -0.000621 -0.005475 -0.012794 -0.024641 -0.068729         NaN   \n",
       "2015-01-13 -0.010391  0.001509  0.001011  0.008879  0.351276         NaN   \n",
       "2015-01-14 -0.021448 -0.020479 -0.003765 -0.003811 -0.270306         NaN   \n",
       "2015-01-15  0.008804 -0.003892 -0.016959 -0.027140  0.225861         NaN   \n",
       "2015-01-16 -0.027000 -0.022533 -0.013688 -0.007770  0.308251         NaN   \n",
       "2015-01-20  0.007568  0.012890  0.012357  0.025757 -0.364440         NaN   \n",
       "2015-01-21  0.010293  0.019210  0.016620  0.007634 -0.026533         NaN   \n",
       "2015-01-22  0.012024  0.012696  0.013392  0.026016  0.107471         NaN   \n",
       "2015-01-23  0.018502  0.011381  0.016497  0.005160 -0.136284         NaN   \n",
       "2015-01-26  0.012823  0.005385  0.011387  0.001062  0.196926         NaN   \n",
       "2015-01-27 -0.011605 -0.016462 -0.033422 -0.035013  0.718399         NaN   \n",
       "2015-01-28  0.046300  0.050142  0.057599  0.056533  0.532688         NaN   \n",
       "2015-01-29 -0.011095  0.009059  0.002168  0.031133 -0.423552         NaN   \n",
       "2015-01-30  0.017882  0.006796  0.011163 -0.014634 -0.008183         NaN   \n",
       "2015-02-02 -0.002956 -0.006917 -0.006590  0.012547 -0.250836         NaN   \n",
       "2015-02-03  0.003812 -0.000671  0.013181  0.000169 -0.172514         NaN   \n",
       "2015-02-04  0.000000  0.011924  0.005943  0.007670  0.351223         NaN   \n",
       "2015-02-05  0.012827 -0.002323  0.007954  0.003178 -0.397770         inf   \n",
       "2015-02-06  0.000000  0.000166 -0.006709 -0.008421  0.034567        -1.0   \n",
       "2015-02-09 -0.012248 -0.003410 -0.000169  0.006643 -0.110207         NaN   \n",
       "2015-02-10  0.013665  0.019276  0.014608  0.019211  0.594467         NaN   \n",
       "2015-02-11  0.021636  0.022677  0.019474  0.023439  0.186318         NaN   \n",
       "2015-02-12  0.026798  0.020493  0.025061  0.012652  0.012407         NaN   \n",
       "2015-02-13  0.009678 -0.001569  0.000637  0.004903 -0.271264         NaN   \n",
       "2015-02-17  0.001650  0.012571  0.010107  0.005902  0.163623         NaN   \n",
       "2015-02-18  0.001059 -0.000776  0.004176  0.006923 -0.289152         NaN   \n",
       "2015-02-19  0.006699  0.001941  0.006905 -0.002059 -0.167723         NaN   \n",
       "2015-02-20  0.001090  0.003643 -0.002182  0.008135  0.310099         NaN   \n",
       "2015-02-23  0.010885  0.027027  0.012573  0.027067  0.449978         NaN   \n",
       "2015-02-24  0.022458  0.004511  0.011646 -0.006241 -0.024600         NaN   \n",
       "2015-02-25 -0.010381 -0.014970 -0.023024 -0.025573  0.079211         NaN   \n",
       "2015-02-26 -0.021093 -0.005547 -0.012017  0.012617  0.221863         NaN   \n",
       "2015-02-27  0.009434 -0.002292  0.012874 -0.014991 -0.320665         NaN   \n",
       "2015-03-02 -0.005769 -0.002221  0.000468  0.004904 -0.224433         NaN   \n",
       "2015-03-03 -0.002244 -0.005834 -0.001637  0.002092 -0.213744         NaN   \n",
       "2015-03-04  0.001086  0.000309  0.001796 -0.006339 -0.162627         NaN   \n",
       "2015-03-05 -0.004028 -0.006252 -0.019950 -0.016571  0.784770         NaN   \n",
       "\n",
       "            SplitRatio   AdjOpen   AdjHigh    AdjLow  AdjClose  AdjVolume  \n",
       "Date                                                                       \n",
       "2015-01-02         NaN       NaN       NaN       NaN       NaN        NaN  \n",
       "2015-01-05         0.0 -0.027830 -0.025036 -0.018072 -0.028172   0.208269  \n",
       "2015-01-06         0.0 -0.016160 -0.011229 -0.007400  0.000094   0.023514  \n",
       "2015-01-07         0.0  0.006195  0.007167  0.019736  0.014022  -0.390461  \n",
       "2015-01-08         0.0  0.018937  0.036506  0.018792  0.038422   0.480194  \n",
       "2015-01-09         0.0  0.031493  0.009808  0.013891  0.001072  -0.101903  \n",
       "2015-01-12         0.0 -0.000621 -0.005475 -0.012794 -0.024641  -0.068729  \n",
       "2015-01-13         0.0 -0.010391  0.001509  0.001011  0.008879   0.351276  \n",
       "2015-01-14         0.0 -0.021448 -0.020479 -0.003765 -0.003811  -0.270306  \n",
       "2015-01-15         0.0  0.008804 -0.003892 -0.016959 -0.027140   0.225861  \n",
       "2015-01-16         0.0 -0.027000 -0.022533 -0.013688 -0.007770   0.308251  \n",
       "2015-01-20         0.0  0.007568  0.012890  0.012357  0.025757  -0.364440  \n",
       "2015-01-21         0.0  0.010293  0.019210  0.016620  0.007634  -0.026533  \n",
       "2015-01-22         0.0  0.012024  0.012696  0.013392  0.026016   0.107471  \n",
       "2015-01-23         0.0  0.018502  0.011381  0.016497  0.005160  -0.136284  \n",
       "2015-01-26         0.0  0.012823  0.005385  0.011387  0.001062   0.196926  \n",
       "2015-01-27         0.0 -0.011605 -0.016462 -0.033422 -0.035013   0.718399  \n",
       "2015-01-28         0.0  0.046300  0.050142  0.057599  0.056533   0.532688  \n",
       "2015-01-29         0.0 -0.011095  0.009059  0.002168  0.031133  -0.423552  \n",
       "2015-01-30         0.0  0.017882  0.006796  0.011163 -0.014634  -0.008183  \n",
       "2015-02-02         0.0 -0.002956 -0.006917 -0.006590  0.012547  -0.250836  \n",
       "2015-02-03         0.0  0.003812 -0.000671  0.013181  0.000169  -0.172514  \n",
       "2015-02-04         0.0  0.000000  0.011924  0.005943  0.007670   0.351223  \n",
       "2015-02-05         0.0  0.016796  0.001586  0.011904  0.007109  -0.397770  \n",
       "2015-02-06         0.0  0.000000  0.000166 -0.006709 -0.008421   0.034567  \n",
       "2015-02-09         0.0 -0.012248 -0.003410 -0.000169  0.006643  -0.110207  \n",
       "2015-02-10         0.0  0.013665  0.019276  0.014608  0.019211   0.594467  \n",
       "2015-02-11         0.0  0.021636  0.022677  0.019474  0.023439   0.186318  \n",
       "2015-02-12         0.0  0.026798  0.020493  0.025061  0.012652   0.012407  \n",
       "2015-02-13         0.0  0.009678 -0.001569  0.000637  0.004903  -0.271264  \n",
       "2015-02-17         0.0  0.001650  0.012571  0.010107  0.005902   0.163623  \n",
       "2015-02-18         0.0  0.001059 -0.000776  0.004176  0.006923  -0.289152  \n",
       "2015-02-19         0.0  0.006699  0.001941  0.006905 -0.002059  -0.167723  \n",
       "2015-02-20         0.0  0.001090  0.003643 -0.002182  0.008135   0.310099  \n",
       "2015-02-23         0.0  0.010885  0.027027  0.012573  0.027067   0.449978  \n",
       "2015-02-24         0.0  0.022458  0.004511  0.011646 -0.006241  -0.024600  \n",
       "2015-02-25         0.0 -0.010381 -0.014970 -0.023024 -0.025573   0.079211  \n",
       "2015-02-26         0.0 -0.021093 -0.005547 -0.012017  0.012617   0.221863  \n",
       "2015-02-27         0.0  0.009434 -0.002292  0.012874 -0.014991  -0.320665  \n",
       "2015-03-02         0.0 -0.005769 -0.002221  0.000468  0.004904  -0.224433  \n",
       "2015-03-03         0.0 -0.002244 -0.005834 -0.001637  0.002092  -0.213744  \n",
       "2015-03-04         0.0  0.001086  0.000309  0.001796 -0.006339  -0.162627  \n",
       "2015-03-05         0.0 -0.004028 -0.006252 -0.019950 -0.016571   0.784770  "
      ]
     },
     "execution_count": 101,
     "metadata": {},
     "output_type": "execute_result"
    }
   ],
   "source": [
    "df.pct_change()"
   ]
  },
  {
   "cell_type": "code",
   "execution_count": 102,
   "metadata": {},
   "outputs": [
    {
     "data": {
      "text/html": [
       "<div>\n",
       "<style scoped>\n",
       "    .dataframe tbody tr th:only-of-type {\n",
       "        vertical-align: middle;\n",
       "    }\n",
       "\n",
       "    .dataframe tbody tr th {\n",
       "        vertical-align: top;\n",
       "    }\n",
       "\n",
       "    .dataframe thead th {\n",
       "        text-align: right;\n",
       "    }\n",
       "</style>\n",
       "<table border=\"1\" class=\"dataframe\">\n",
       "  <thead>\n",
       "    <tr style=\"text-align: right;\">\n",
       "      <th></th>\n",
       "      <th>Open</th>\n",
       "      <th>High</th>\n",
       "      <th>Low</th>\n",
       "      <th>Close</th>\n",
       "      <th>Volume</th>\n",
       "      <th>ExDividend</th>\n",
       "      <th>SplitRatio</th>\n",
       "      <th>AdjOpen</th>\n",
       "      <th>AdjHigh</th>\n",
       "      <th>AdjLow</th>\n",
       "      <th>AdjClose</th>\n",
       "      <th>AdjVolume</th>\n",
       "    </tr>\n",
       "  </thead>\n",
       "  <tbody>\n",
       "    <tr>\n",
       "      <td>Open</td>\n",
       "      <td>1.000000</td>\n",
       "      <td>0.995115</td>\n",
       "      <td>0.992132</td>\n",
       "      <td>0.982492</td>\n",
       "      <td>-0.022813</td>\n",
       "      <td>0.019851</td>\n",
       "      <td>NaN</td>\n",
       "      <td>0.999914</td>\n",
       "      <td>0.995307</td>\n",
       "      <td>0.992024</td>\n",
       "      <td>0.982798</td>\n",
       "      <td>-0.022813</td>\n",
       "    </tr>\n",
       "    <tr>\n",
       "      <td>High</td>\n",
       "      <td>0.995115</td>\n",
       "      <td>1.000000</td>\n",
       "      <td>0.995024</td>\n",
       "      <td>0.993292</td>\n",
       "      <td>-0.009027</td>\n",
       "      <td>0.004278</td>\n",
       "      <td>NaN</td>\n",
       "      <td>0.994984</td>\n",
       "      <td>0.999908</td>\n",
       "      <td>0.994688</td>\n",
       "      <td>0.993185</td>\n",
       "      <td>-0.009027</td>\n",
       "    </tr>\n",
       "    <tr>\n",
       "      <td>Low</td>\n",
       "      <td>0.992132</td>\n",
       "      <td>0.995024</td>\n",
       "      <td>1.000000</td>\n",
       "      <td>0.993962</td>\n",
       "      <td>-0.061587</td>\n",
       "      <td>0.030735</td>\n",
       "      <td>NaN</td>\n",
       "      <td>0.992467</td>\n",
       "      <td>0.995448</td>\n",
       "      <td>0.999926</td>\n",
       "      <td>0.994216</td>\n",
       "      <td>-0.061587</td>\n",
       "    </tr>\n",
       "    <tr>\n",
       "      <td>Close</td>\n",
       "      <td>0.982492</td>\n",
       "      <td>0.993292</td>\n",
       "      <td>0.993962</td>\n",
       "      <td>1.000000</td>\n",
       "      <td>-0.056087</td>\n",
       "      <td>0.019903</td>\n",
       "      <td>NaN</td>\n",
       "      <td>0.982863</td>\n",
       "      <td>0.993560</td>\n",
       "      <td>0.993836</td>\n",
       "      <td>0.999920</td>\n",
       "      <td>-0.056087</td>\n",
       "    </tr>\n",
       "    <tr>\n",
       "      <td>Volume</td>\n",
       "      <td>-0.022813</td>\n",
       "      <td>-0.009027</td>\n",
       "      <td>-0.061587</td>\n",
       "      <td>-0.056087</td>\n",
       "      <td>1.000000</td>\n",
       "      <td>-0.144746</td>\n",
       "      <td>NaN</td>\n",
       "      <td>-0.028207</td>\n",
       "      <td>-0.014768</td>\n",
       "      <td>-0.065845</td>\n",
       "      <td>-0.060440</td>\n",
       "      <td>1.000000</td>\n",
       "    </tr>\n",
       "    <tr>\n",
       "      <td>ExDividend</td>\n",
       "      <td>0.019851</td>\n",
       "      <td>0.004278</td>\n",
       "      <td>0.030735</td>\n",
       "      <td>0.019903</td>\n",
       "      <td>-0.144746</td>\n",
       "      <td>1.000000</td>\n",
       "      <td>NaN</td>\n",
       "      <td>0.023637</td>\n",
       "      <td>0.008456</td>\n",
       "      <td>0.034110</td>\n",
       "      <td>0.023552</td>\n",
       "      <td>-0.144746</td>\n",
       "    </tr>\n",
       "    <tr>\n",
       "      <td>SplitRatio</td>\n",
       "      <td>NaN</td>\n",
       "      <td>NaN</td>\n",
       "      <td>NaN</td>\n",
       "      <td>NaN</td>\n",
       "      <td>NaN</td>\n",
       "      <td>NaN</td>\n",
       "      <td>NaN</td>\n",
       "      <td>NaN</td>\n",
       "      <td>NaN</td>\n",
       "      <td>NaN</td>\n",
       "      <td>NaN</td>\n",
       "      <td>NaN</td>\n",
       "    </tr>\n",
       "    <tr>\n",
       "      <td>AdjOpen</td>\n",
       "      <td>0.999914</td>\n",
       "      <td>0.994984</td>\n",
       "      <td>0.992467</td>\n",
       "      <td>0.982863</td>\n",
       "      <td>-0.028207</td>\n",
       "      <td>0.023637</td>\n",
       "      <td>NaN</td>\n",
       "      <td>1.000000</td>\n",
       "      <td>0.995351</td>\n",
       "      <td>0.992515</td>\n",
       "      <td>0.983325</td>\n",
       "      <td>-0.028207</td>\n",
       "    </tr>\n",
       "    <tr>\n",
       "      <td>AdjHigh</td>\n",
       "      <td>0.995307</td>\n",
       "      <td>0.999908</td>\n",
       "      <td>0.995448</td>\n",
       "      <td>0.993560</td>\n",
       "      <td>-0.014768</td>\n",
       "      <td>0.008456</td>\n",
       "      <td>NaN</td>\n",
       "      <td>0.995351</td>\n",
       "      <td>1.000000</td>\n",
       "      <td>0.995275</td>\n",
       "      <td>0.993620</td>\n",
       "      <td>-0.014768</td>\n",
       "    </tr>\n",
       "    <tr>\n",
       "      <td>AdjLow</td>\n",
       "      <td>0.992024</td>\n",
       "      <td>0.994688</td>\n",
       "      <td>0.999926</td>\n",
       "      <td>0.993836</td>\n",
       "      <td>-0.065845</td>\n",
       "      <td>0.034110</td>\n",
       "      <td>NaN</td>\n",
       "      <td>0.992515</td>\n",
       "      <td>0.995275</td>\n",
       "      <td>1.000000</td>\n",
       "      <td>0.994241</td>\n",
       "      <td>-0.065845</td>\n",
       "    </tr>\n",
       "    <tr>\n",
       "      <td>AdjClose</td>\n",
       "      <td>0.982798</td>\n",
       "      <td>0.993185</td>\n",
       "      <td>0.994216</td>\n",
       "      <td>0.999920</td>\n",
       "      <td>-0.060440</td>\n",
       "      <td>0.023552</td>\n",
       "      <td>NaN</td>\n",
       "      <td>0.983325</td>\n",
       "      <td>0.993620</td>\n",
       "      <td>0.994241</td>\n",
       "      <td>1.000000</td>\n",
       "      <td>-0.060440</td>\n",
       "    </tr>\n",
       "    <tr>\n",
       "      <td>AdjVolume</td>\n",
       "      <td>-0.022813</td>\n",
       "      <td>-0.009027</td>\n",
       "      <td>-0.061587</td>\n",
       "      <td>-0.056087</td>\n",
       "      <td>1.000000</td>\n",
       "      <td>-0.144746</td>\n",
       "      <td>NaN</td>\n",
       "      <td>-0.028207</td>\n",
       "      <td>-0.014768</td>\n",
       "      <td>-0.065845</td>\n",
       "      <td>-0.060440</td>\n",
       "      <td>1.000000</td>\n",
       "    </tr>\n",
       "  </tbody>\n",
       "</table>\n",
       "</div>"
      ],
      "text/plain": [
       "                Open      High       Low     Close    Volume  ExDividend  \\\n",
       "Open        1.000000  0.995115  0.992132  0.982492 -0.022813    0.019851   \n",
       "High        0.995115  1.000000  0.995024  0.993292 -0.009027    0.004278   \n",
       "Low         0.992132  0.995024  1.000000  0.993962 -0.061587    0.030735   \n",
       "Close       0.982492  0.993292  0.993962  1.000000 -0.056087    0.019903   \n",
       "Volume     -0.022813 -0.009027 -0.061587 -0.056087  1.000000   -0.144746   \n",
       "ExDividend  0.019851  0.004278  0.030735  0.019903 -0.144746    1.000000   \n",
       "SplitRatio       NaN       NaN       NaN       NaN       NaN         NaN   \n",
       "AdjOpen     0.999914  0.994984  0.992467  0.982863 -0.028207    0.023637   \n",
       "AdjHigh     0.995307  0.999908  0.995448  0.993560 -0.014768    0.008456   \n",
       "AdjLow      0.992024  0.994688  0.999926  0.993836 -0.065845    0.034110   \n",
       "AdjClose    0.982798  0.993185  0.994216  0.999920 -0.060440    0.023552   \n",
       "AdjVolume  -0.022813 -0.009027 -0.061587 -0.056087  1.000000   -0.144746   \n",
       "\n",
       "            SplitRatio   AdjOpen   AdjHigh    AdjLow  AdjClose  AdjVolume  \n",
       "Open               NaN  0.999914  0.995307  0.992024  0.982798  -0.022813  \n",
       "High               NaN  0.994984  0.999908  0.994688  0.993185  -0.009027  \n",
       "Low                NaN  0.992467  0.995448  0.999926  0.994216  -0.061587  \n",
       "Close              NaN  0.982863  0.993560  0.993836  0.999920  -0.056087  \n",
       "Volume             NaN -0.028207 -0.014768 -0.065845 -0.060440   1.000000  \n",
       "ExDividend         NaN  0.023637  0.008456  0.034110  0.023552  -0.144746  \n",
       "SplitRatio         NaN       NaN       NaN       NaN       NaN        NaN  \n",
       "AdjOpen            NaN  1.000000  0.995351  0.992515  0.983325  -0.028207  \n",
       "AdjHigh            NaN  0.995351  1.000000  0.995275  0.993620  -0.014768  \n",
       "AdjLow             NaN  0.992515  0.995275  1.000000  0.994241  -0.065845  \n",
       "AdjClose           NaN  0.983325  0.993620  0.994241  1.000000  -0.060440  \n",
       "AdjVolume          NaN -0.028207 -0.014768 -0.065845 -0.060440   1.000000  "
      ]
     },
     "execution_count": 102,
     "metadata": {},
     "output_type": "execute_result"
    }
   ],
   "source": [
    "df.corr()"
   ]
  },
  {
   "cell_type": "markdown",
   "metadata": {},
   "source": [
    "读取"
   ]
  },
  {
   "cell_type": "code",
   "execution_count": null,
   "metadata": {},
   "outputs": [],
   "source": [
    "read_csv从文件，URL或文件类对象中加载分隔的数据; 使用逗号作为默认分隔符\n",
    "read_table从文件，URL或文件类对象中加载分隔的数据; 使用选项卡（'\\ t'）作为默认分隔符\n",
    "read_fwf以固定宽度的列格式读取数据（即没有分隔符）\n",
    "read_clipboard从剪贴板读取数据的read_table版本; 用于从Web转换表格\n",
    "网页\n",
    "read_excel从Excel XLS或XLSX文件中读取表格数据\n",
    "read_hdf读取由pandas编写的HDF5文件\n",
    "read_html读取给定HTML文档中的所有表格\n",
    "read_json从JSON（JavaScript Object Notation）字符串表示中读取数据"
   ]
  },
  {
   "cell_type": "code",
   "execution_count": 156,
   "metadata": {},
   "outputs": [],
   "source": [
    "path='/Users/yisheng/JOB/Consulting/MM/data/ex1.csv'\n",
    "data1=pd.read_csv(path, header=None)"
   ]
  },
  {
   "cell_type": "code",
   "execution_count": 157,
   "metadata": {},
   "outputs": [
    {
     "data": {
      "text/html": [
       "<div>\n",
       "<style scoped>\n",
       "    .dataframe tbody tr th:only-of-type {\n",
       "        vertical-align: middle;\n",
       "    }\n",
       "\n",
       "    .dataframe tbody tr th {\n",
       "        vertical-align: top;\n",
       "    }\n",
       "\n",
       "    .dataframe thead th {\n",
       "        text-align: right;\n",
       "    }\n",
       "</style>\n",
       "<table border=\"1\" class=\"dataframe\">\n",
       "  <thead>\n",
       "    <tr style=\"text-align: right;\">\n",
       "      <th></th>\n",
       "      <th>0</th>\n",
       "      <th>1</th>\n",
       "    </tr>\n",
       "  </thead>\n",
       "  <tbody>\n",
       "    <tr>\n",
       "      <th>0</th>\n",
       "      <td>Date</td>\n",
       "      <td>GOOG</td>\n",
       "    </tr>\n",
       "    <tr>\n",
       "      <th>1</th>\n",
       "      <td>1/1/2001</td>\n",
       "      <td>100</td>\n",
       "    </tr>\n",
       "    <tr>\n",
       "      <th>2</th>\n",
       "      <td>1/2/2001</td>\n",
       "      <td>100.9131207</td>\n",
       "    </tr>\n",
       "    <tr>\n",
       "      <th>3</th>\n",
       "      <td>1/3/2001</td>\n",
       "      <td>101.0527905</td>\n",
       "    </tr>\n",
       "    <tr>\n",
       "      <th>4</th>\n",
       "      <td>1/4/2001</td>\n",
       "      <td>101.6052034</td>\n",
       "    </tr>\n",
       "    <tr>\n",
       "      <th>5</th>\n",
       "      <td>1/5/2001</td>\n",
       "      <td>101.6441324</td>\n",
       "    </tr>\n",
       "    <tr>\n",
       "      <th>6</th>\n",
       "      <td>1/6/2001</td>\n",
       "      <td>101.7086605</td>\n",
       "    </tr>\n",
       "    <tr>\n",
       "      <th>7</th>\n",
       "      <td>1/7/2001</td>\n",
       "      <td>101.7109091</td>\n",
       "    </tr>\n",
       "    <tr>\n",
       "      <th>8</th>\n",
       "      <td>1/8/2001</td>\n",
       "      <td>101.9278376</td>\n",
       "    </tr>\n",
       "    <tr>\n",
       "      <th>9</th>\n",
       "      <td>1/9/2001</td>\n",
       "      <td>102.3611665</td>\n",
       "    </tr>\n",
       "    <tr>\n",
       "      <th>10</th>\n",
       "      <td>1/10/2001</td>\n",
       "      <td>103.2007675</td>\n",
       "    </tr>\n",
       "    <tr>\n",
       "      <th>11</th>\n",
       "      <td>1/11/2001</td>\n",
       "      <td>103.9678147</td>\n",
       "    </tr>\n",
       "    <tr>\n",
       "      <th>12</th>\n",
       "      <td>1/12/2001</td>\n",
       "      <td>104.8336819</td>\n",
       "    </tr>\n",
       "    <tr>\n",
       "      <th>13</th>\n",
       "      <td>1/13/2001</td>\n",
       "      <td>105.1782184</td>\n",
       "    </tr>\n",
       "    <tr>\n",
       "      <th>14</th>\n",
       "      <td>1/14/2001</td>\n",
       "      <td>105.7031422</td>\n",
       "    </tr>\n",
       "    <tr>\n",
       "      <th>15</th>\n",
       "      <td>1/15/2001</td>\n",
       "      <td>106.5667231</td>\n",
       "    </tr>\n",
       "    <tr>\n",
       "      <th>16</th>\n",
       "      <td>1/16/2001</td>\n",
       "      <td>106.5754048</td>\n",
       "    </tr>\n",
       "    <tr>\n",
       "      <th>17</th>\n",
       "      <td>1/17/2001</td>\n",
       "      <td>107.1186813</td>\n",
       "    </tr>\n",
       "  </tbody>\n",
       "</table>\n",
       "</div>"
      ],
      "text/plain": [
       "            0            1\n",
       "0        Date         GOOG\n",
       "1    1/1/2001          100\n",
       "2    1/2/2001  100.9131207\n",
       "3    1/3/2001  101.0527905\n",
       "4    1/4/2001  101.6052034\n",
       "5    1/5/2001  101.6441324\n",
       "6    1/6/2001  101.7086605\n",
       "7    1/7/2001  101.7109091\n",
       "8    1/8/2001  101.9278376\n",
       "9    1/9/2001  102.3611665\n",
       "10  1/10/2001  103.2007675\n",
       "11  1/11/2001  103.9678147\n",
       "12  1/12/2001  104.8336819\n",
       "13  1/13/2001  105.1782184\n",
       "14  1/14/2001  105.7031422\n",
       "15  1/15/2001  106.5667231\n",
       "16  1/16/2001  106.5754048\n",
       "17  1/17/2001  107.1186813"
      ]
     },
     "execution_count": 157,
     "metadata": {},
     "output_type": "execute_result"
    }
   ],
   "source": [
    "data1"
   ]
  },
  {
   "cell_type": "code",
   "execution_count": 158,
   "metadata": {},
   "outputs": [
    {
     "data": {
      "text/html": [
       "<div>\n",
       "<style scoped>\n",
       "    .dataframe tbody tr th:only-of-type {\n",
       "        vertical-align: middle;\n",
       "    }\n",
       "\n",
       "    .dataframe tbody tr th {\n",
       "        vertical-align: top;\n",
       "    }\n",
       "\n",
       "    .dataframe thead th {\n",
       "        text-align: right;\n",
       "    }\n",
       "</style>\n",
       "<table border=\"1\" class=\"dataframe\">\n",
       "  <thead>\n",
       "    <tr style=\"text-align: right;\">\n",
       "      <th></th>\n",
       "      <th>date</th>\n",
       "      <th>Goog close</th>\n",
       "    </tr>\n",
       "  </thead>\n",
       "  <tbody>\n",
       "    <tr>\n",
       "      <th>0</th>\n",
       "      <td>Date</td>\n",
       "      <td>GOOG</td>\n",
       "    </tr>\n",
       "    <tr>\n",
       "      <th>1</th>\n",
       "      <td>1/1/2001</td>\n",
       "      <td>100</td>\n",
       "    </tr>\n",
       "    <tr>\n",
       "      <th>2</th>\n",
       "      <td>1/2/2001</td>\n",
       "      <td>100.9131207</td>\n",
       "    </tr>\n",
       "    <tr>\n",
       "      <th>3</th>\n",
       "      <td>1/3/2001</td>\n",
       "      <td>101.0527905</td>\n",
       "    </tr>\n",
       "    <tr>\n",
       "      <th>4</th>\n",
       "      <td>1/4/2001</td>\n",
       "      <td>101.6052034</td>\n",
       "    </tr>\n",
       "    <tr>\n",
       "      <th>5</th>\n",
       "      <td>1/5/2001</td>\n",
       "      <td>101.6441324</td>\n",
       "    </tr>\n",
       "    <tr>\n",
       "      <th>6</th>\n",
       "      <td>1/6/2001</td>\n",
       "      <td>101.7086605</td>\n",
       "    </tr>\n",
       "    <tr>\n",
       "      <th>7</th>\n",
       "      <td>1/7/2001</td>\n",
       "      <td>101.7109091</td>\n",
       "    </tr>\n",
       "    <tr>\n",
       "      <th>8</th>\n",
       "      <td>1/8/2001</td>\n",
       "      <td>101.9278376</td>\n",
       "    </tr>\n",
       "    <tr>\n",
       "      <th>9</th>\n",
       "      <td>1/9/2001</td>\n",
       "      <td>102.3611665</td>\n",
       "    </tr>\n",
       "    <tr>\n",
       "      <th>10</th>\n",
       "      <td>1/10/2001</td>\n",
       "      <td>103.2007675</td>\n",
       "    </tr>\n",
       "    <tr>\n",
       "      <th>11</th>\n",
       "      <td>1/11/2001</td>\n",
       "      <td>103.9678147</td>\n",
       "    </tr>\n",
       "    <tr>\n",
       "      <th>12</th>\n",
       "      <td>1/12/2001</td>\n",
       "      <td>104.8336819</td>\n",
       "    </tr>\n",
       "    <tr>\n",
       "      <th>13</th>\n",
       "      <td>1/13/2001</td>\n",
       "      <td>105.1782184</td>\n",
       "    </tr>\n",
       "    <tr>\n",
       "      <th>14</th>\n",
       "      <td>1/14/2001</td>\n",
       "      <td>105.7031422</td>\n",
       "    </tr>\n",
       "    <tr>\n",
       "      <th>15</th>\n",
       "      <td>1/15/2001</td>\n",
       "      <td>106.5667231</td>\n",
       "    </tr>\n",
       "    <tr>\n",
       "      <th>16</th>\n",
       "      <td>1/16/2001</td>\n",
       "      <td>106.5754048</td>\n",
       "    </tr>\n",
       "    <tr>\n",
       "      <th>17</th>\n",
       "      <td>1/17/2001</td>\n",
       "      <td>107.1186813</td>\n",
       "    </tr>\n",
       "  </tbody>\n",
       "</table>\n",
       "</div>"
      ],
      "text/plain": [
       "         date   Goog close\n",
       "0        Date         GOOG\n",
       "1    1/1/2001          100\n",
       "2    1/2/2001  100.9131207\n",
       "3    1/3/2001  101.0527905\n",
       "4    1/4/2001  101.6052034\n",
       "5    1/5/2001  101.6441324\n",
       "6    1/6/2001  101.7086605\n",
       "7    1/7/2001  101.7109091\n",
       "8    1/8/2001  101.9278376\n",
       "9    1/9/2001  102.3611665\n",
       "10  1/10/2001  103.2007675\n",
       "11  1/11/2001  103.9678147\n",
       "12  1/12/2001  104.8336819\n",
       "13  1/13/2001  105.1782184\n",
       "14  1/14/2001  105.7031422\n",
       "15  1/15/2001  106.5667231\n",
       "16  1/16/2001  106.5754048\n",
       "17  1/17/2001  107.1186813"
      ]
     },
     "execution_count": 158,
     "metadata": {},
     "output_type": "execute_result"
    }
   ],
   "source": [
    "data1=pd.read_csv(path, header=None,names=['date','Goog close'])\n",
    "data1"
   ]
  },
  {
   "cell_type": "code",
   "execution_count": 163,
   "metadata": {},
   "outputs": [
    {
     "data": {
      "text/html": [
       "<div>\n",
       "<style scoped>\n",
       "    .dataframe tbody tr th:only-of-type {\n",
       "        vertical-align: middle;\n",
       "    }\n",
       "\n",
       "    .dataframe tbody tr th {\n",
       "        vertical-align: top;\n",
       "    }\n",
       "\n",
       "    .dataframe thead th {\n",
       "        text-align: right;\n",
       "    }\n",
       "</style>\n",
       "<table border=\"1\" class=\"dataframe\">\n",
       "  <thead>\n",
       "    <tr style=\"text-align: right;\">\n",
       "      <th></th>\n",
       "      <th>GOOG</th>\n",
       "    </tr>\n",
       "    <tr>\n",
       "      <th>Date</th>\n",
       "      <th></th>\n",
       "    </tr>\n",
       "  </thead>\n",
       "  <tbody>\n",
       "    <tr>\n",
       "      <th>1/1/2001</th>\n",
       "      <td>100.000000</td>\n",
       "    </tr>\n",
       "    <tr>\n",
       "      <th>1/2/2001</th>\n",
       "      <td>100.913121</td>\n",
       "    </tr>\n",
       "    <tr>\n",
       "      <th>1/3/2001</th>\n",
       "      <td>101.052791</td>\n",
       "    </tr>\n",
       "    <tr>\n",
       "      <th>1/4/2001</th>\n",
       "      <td>101.605203</td>\n",
       "    </tr>\n",
       "    <tr>\n",
       "      <th>1/5/2001</th>\n",
       "      <td>101.644132</td>\n",
       "    </tr>\n",
       "    <tr>\n",
       "      <th>1/6/2001</th>\n",
       "      <td>101.708660</td>\n",
       "    </tr>\n",
       "    <tr>\n",
       "      <th>1/7/2001</th>\n",
       "      <td>101.710909</td>\n",
       "    </tr>\n",
       "    <tr>\n",
       "      <th>1/8/2001</th>\n",
       "      <td>101.927838</td>\n",
       "    </tr>\n",
       "    <tr>\n",
       "      <th>1/9/2001</th>\n",
       "      <td>102.361167</td>\n",
       "    </tr>\n",
       "    <tr>\n",
       "      <th>1/10/2001</th>\n",
       "      <td>103.200767</td>\n",
       "    </tr>\n",
       "    <tr>\n",
       "      <th>1/11/2001</th>\n",
       "      <td>103.967815</td>\n",
       "    </tr>\n",
       "    <tr>\n",
       "      <th>1/12/2001</th>\n",
       "      <td>104.833682</td>\n",
       "    </tr>\n",
       "    <tr>\n",
       "      <th>1/13/2001</th>\n",
       "      <td>105.178218</td>\n",
       "    </tr>\n",
       "    <tr>\n",
       "      <th>1/14/2001</th>\n",
       "      <td>105.703142</td>\n",
       "    </tr>\n",
       "    <tr>\n",
       "      <th>1/15/2001</th>\n",
       "      <td>106.566723</td>\n",
       "    </tr>\n",
       "    <tr>\n",
       "      <th>1/16/2001</th>\n",
       "      <td>106.575405</td>\n",
       "    </tr>\n",
       "    <tr>\n",
       "      <th>1/17/2001</th>\n",
       "      <td>107.118681</td>\n",
       "    </tr>\n",
       "  </tbody>\n",
       "</table>\n",
       "</div>"
      ],
      "text/plain": [
       "                 GOOG\n",
       "Date                 \n",
       "1/1/2001   100.000000\n",
       "1/2/2001   100.913121\n",
       "1/3/2001   101.052791\n",
       "1/4/2001   101.605203\n",
       "1/5/2001   101.644132\n",
       "1/6/2001   101.708660\n",
       "1/7/2001   101.710909\n",
       "1/8/2001   101.927838\n",
       "1/9/2001   102.361167\n",
       "1/10/2001  103.200767\n",
       "1/11/2001  103.967815\n",
       "1/12/2001  104.833682\n",
       "1/13/2001  105.178218\n",
       "1/14/2001  105.703142\n",
       "1/15/2001  106.566723\n",
       "1/16/2001  106.575405\n",
       "1/17/2001  107.118681"
      ]
     },
     "execution_count": 163,
     "metadata": {},
     "output_type": "execute_result"
    }
   ],
   "source": [
    "data1=pd.read_csv(path, header=0,index_col='Date') #na_values=['.','none']\n",
    "data1"
   ]
  },
  {
   "cell_type": "code",
   "execution_count": null,
   "metadata": {},
   "outputs": [],
   "source": [
    "data1.to_csv(path)"
   ]
  },
  {
   "cell_type": "code",
   "execution_count": 166,
   "metadata": {},
   "outputs": [],
   "source": [
    "data2=pd.read_excel('/Users/yisheng/JOB/Consulting/MM/data/ex1.xls',sheet_name='GOOG')"
   ]
  },
  {
   "cell_type": "markdown",
   "metadata": {},
   "source": [
    "缺失数据"
   ]
  },
  {
   "cell_type": "code",
   "execution_count": 103,
   "metadata": {},
   "outputs": [
    {
     "data": {
      "text/html": [
       "<div>\n",
       "<style scoped>\n",
       "    .dataframe tbody tr th:only-of-type {\n",
       "        vertical-align: middle;\n",
       "    }\n",
       "\n",
       "    .dataframe tbody tr th {\n",
       "        vertical-align: top;\n",
       "    }\n",
       "\n",
       "    .dataframe thead th {\n",
       "        text-align: right;\n",
       "    }\n",
       "</style>\n",
       "<table border=\"1\" class=\"dataframe\">\n",
       "  <thead>\n",
       "    <tr style=\"text-align: right;\">\n",
       "      <th></th>\n",
       "      <th>0</th>\n",
       "      <th>1</th>\n",
       "      <th>2</th>\n",
       "    </tr>\n",
       "  </thead>\n",
       "  <tbody>\n",
       "    <tr>\n",
       "      <td>0</td>\n",
       "      <td>1.0</td>\n",
       "      <td>6.5</td>\n",
       "      <td>3.0</td>\n",
       "    </tr>\n",
       "    <tr>\n",
       "      <td>1</td>\n",
       "      <td>1.0</td>\n",
       "      <td>NaN</td>\n",
       "      <td>NaN</td>\n",
       "    </tr>\n",
       "    <tr>\n",
       "      <td>2</td>\n",
       "      <td>NaN</td>\n",
       "      <td>NaN</td>\n",
       "      <td>NaN</td>\n",
       "    </tr>\n",
       "    <tr>\n",
       "      <td>3</td>\n",
       "      <td>NaN</td>\n",
       "      <td>6.5</td>\n",
       "      <td>3.0</td>\n",
       "    </tr>\n",
       "  </tbody>\n",
       "</table>\n",
       "</div>"
      ],
      "text/plain": [
       "     0    1    2\n",
       "0  1.0  6.5  3.0\n",
       "1  1.0  NaN  NaN\n",
       "2  NaN  NaN  NaN\n",
       "3  NaN  6.5  3.0"
      ]
     },
     "execution_count": 103,
     "metadata": {},
     "output_type": "execute_result"
    }
   ],
   "source": [
    "data = pd.DataFrame([[1., 6.5, 3.], [1.,nan, nan],[nan, nan, nan], [nan, 6.5, 3.]])\n",
    "data"
   ]
  },
  {
   "cell_type": "code",
   "execution_count": 104,
   "metadata": {},
   "outputs": [
    {
     "data": {
      "text/html": [
       "<div>\n",
       "<style scoped>\n",
       "    .dataframe tbody tr th:only-of-type {\n",
       "        vertical-align: middle;\n",
       "    }\n",
       "\n",
       "    .dataframe tbody tr th {\n",
       "        vertical-align: top;\n",
       "    }\n",
       "\n",
       "    .dataframe thead th {\n",
       "        text-align: right;\n",
       "    }\n",
       "</style>\n",
       "<table border=\"1\" class=\"dataframe\">\n",
       "  <thead>\n",
       "    <tr style=\"text-align: right;\">\n",
       "      <th></th>\n",
       "      <th>0</th>\n",
       "      <th>1</th>\n",
       "      <th>2</th>\n",
       "    </tr>\n",
       "  </thead>\n",
       "  <tbody>\n",
       "    <tr>\n",
       "      <td>0</td>\n",
       "      <td>1.0</td>\n",
       "      <td>6.5</td>\n",
       "      <td>3.0</td>\n",
       "    </tr>\n",
       "  </tbody>\n",
       "</table>\n",
       "</div>"
      ],
      "text/plain": [
       "     0    1    2\n",
       "0  1.0  6.5  3.0"
      ]
     },
     "execution_count": 104,
     "metadata": {},
     "output_type": "execute_result"
    }
   ],
   "source": [
    "cleaned = data.dropna()\n",
    "cleaned"
   ]
  },
  {
   "cell_type": "code",
   "execution_count": 105,
   "metadata": {},
   "outputs": [
    {
     "data": {
      "text/html": [
       "<div>\n",
       "<style scoped>\n",
       "    .dataframe tbody tr th:only-of-type {\n",
       "        vertical-align: middle;\n",
       "    }\n",
       "\n",
       "    .dataframe tbody tr th {\n",
       "        vertical-align: top;\n",
       "    }\n",
       "\n",
       "    .dataframe thead th {\n",
       "        text-align: right;\n",
       "    }\n",
       "</style>\n",
       "<table border=\"1\" class=\"dataframe\">\n",
       "  <thead>\n",
       "    <tr style=\"text-align: right;\">\n",
       "      <th></th>\n",
       "      <th>0</th>\n",
       "      <th>1</th>\n",
       "      <th>2</th>\n",
       "    </tr>\n",
       "  </thead>\n",
       "  <tbody>\n",
       "    <tr>\n",
       "      <td>0</td>\n",
       "      <td>1.0</td>\n",
       "      <td>6.5</td>\n",
       "      <td>3.0</td>\n",
       "    </tr>\n",
       "    <tr>\n",
       "      <td>1</td>\n",
       "      <td>1.0</td>\n",
       "      <td>NaN</td>\n",
       "      <td>NaN</td>\n",
       "    </tr>\n",
       "    <tr>\n",
       "      <td>3</td>\n",
       "      <td>NaN</td>\n",
       "      <td>6.5</td>\n",
       "      <td>3.0</td>\n",
       "    </tr>\n",
       "  </tbody>\n",
       "</table>\n",
       "</div>"
      ],
      "text/plain": [
       "     0    1    2\n",
       "0  1.0  6.5  3.0\n",
       "1  1.0  NaN  NaN\n",
       "3  NaN  6.5  3.0"
      ]
     },
     "execution_count": 105,
     "metadata": {},
     "output_type": "execute_result"
    }
   ],
   "source": [
    "data.dropna(axis=0,how='all')#一整行"
   ]
  },
  {
   "cell_type": "code",
   "execution_count": 106,
   "metadata": {},
   "outputs": [
    {
     "data": {
      "text/html": [
       "<div>\n",
       "<style scoped>\n",
       "    .dataframe tbody tr th:only-of-type {\n",
       "        vertical-align: middle;\n",
       "    }\n",
       "\n",
       "    .dataframe tbody tr th {\n",
       "        vertical-align: top;\n",
       "    }\n",
       "\n",
       "    .dataframe thead th {\n",
       "        text-align: right;\n",
       "    }\n",
       "</style>\n",
       "<table border=\"1\" class=\"dataframe\">\n",
       "  <thead>\n",
       "    <tr style=\"text-align: right;\">\n",
       "      <th></th>\n",
       "      <th>0</th>\n",
       "      <th>1</th>\n",
       "      <th>2</th>\n",
       "    </tr>\n",
       "  </thead>\n",
       "  <tbody>\n",
       "    <tr>\n",
       "      <td>0</td>\n",
       "      <td>1.0</td>\n",
       "      <td>6.5</td>\n",
       "      <td>3.0</td>\n",
       "    </tr>\n",
       "    <tr>\n",
       "      <td>1</td>\n",
       "      <td>1.0</td>\n",
       "      <td>NaN</td>\n",
       "      <td>NaN</td>\n",
       "    </tr>\n",
       "    <tr>\n",
       "      <td>2</td>\n",
       "      <td>NaN</td>\n",
       "      <td>NaN</td>\n",
       "      <td>NaN</td>\n",
       "    </tr>\n",
       "    <tr>\n",
       "      <td>3</td>\n",
       "      <td>NaN</td>\n",
       "      <td>6.5</td>\n",
       "      <td>3.0</td>\n",
       "    </tr>\n",
       "  </tbody>\n",
       "</table>\n",
       "</div>"
      ],
      "text/plain": [
       "     0    1    2\n",
       "0  1.0  6.5  3.0\n",
       "1  1.0  NaN  NaN\n",
       "2  NaN  NaN  NaN\n",
       "3  NaN  6.5  3.0"
      ]
     },
     "execution_count": 106,
     "metadata": {},
     "output_type": "execute_result"
    }
   ],
   "source": [
    "data"
   ]
  },
  {
   "cell_type": "code",
   "execution_count": 107,
   "metadata": {},
   "outputs": [
    {
     "data": {
      "text/html": [
       "<div>\n",
       "<style scoped>\n",
       "    .dataframe tbody tr th:only-of-type {\n",
       "        vertical-align: middle;\n",
       "    }\n",
       "\n",
       "    .dataframe tbody tr th {\n",
       "        vertical-align: top;\n",
       "    }\n",
       "\n",
       "    .dataframe thead th {\n",
       "        text-align: right;\n",
       "    }\n",
       "</style>\n",
       "<table border=\"1\" class=\"dataframe\">\n",
       "  <thead>\n",
       "    <tr style=\"text-align: right;\">\n",
       "      <th></th>\n",
       "      <th>0</th>\n",
       "      <th>1</th>\n",
       "      <th>2</th>\n",
       "    </tr>\n",
       "  </thead>\n",
       "  <tbody>\n",
       "    <tr>\n",
       "      <td>0</td>\n",
       "      <td>1.0</td>\n",
       "      <td>6.5</td>\n",
       "      <td>3.0</td>\n",
       "    </tr>\n",
       "    <tr>\n",
       "      <td>1</td>\n",
       "      <td>1.0</td>\n",
       "      <td>0.0</td>\n",
       "      <td>0.0</td>\n",
       "    </tr>\n",
       "    <tr>\n",
       "      <td>2</td>\n",
       "      <td>0.0</td>\n",
       "      <td>0.0</td>\n",
       "      <td>0.0</td>\n",
       "    </tr>\n",
       "    <tr>\n",
       "      <td>3</td>\n",
       "      <td>0.0</td>\n",
       "      <td>6.5</td>\n",
       "      <td>3.0</td>\n",
       "    </tr>\n",
       "  </tbody>\n",
       "</table>\n",
       "</div>"
      ],
      "text/plain": [
       "     0    1    2\n",
       "0  1.0  6.5  3.0\n",
       "1  1.0  0.0  0.0\n",
       "2  0.0  0.0  0.0\n",
       "3  0.0  6.5  3.0"
      ]
     },
     "execution_count": 107,
     "metadata": {},
     "output_type": "execute_result"
    }
   ],
   "source": [
    "data.fillna(0)"
   ]
  },
  {
   "cell_type": "code",
   "execution_count": 108,
   "metadata": {},
   "outputs": [
    {
     "data": {
      "text/html": [
       "<div>\n",
       "<style scoped>\n",
       "    .dataframe tbody tr th:only-of-type {\n",
       "        vertical-align: middle;\n",
       "    }\n",
       "\n",
       "    .dataframe tbody tr th {\n",
       "        vertical-align: top;\n",
       "    }\n",
       "\n",
       "    .dataframe thead th {\n",
       "        text-align: right;\n",
       "    }\n",
       "</style>\n",
       "<table border=\"1\" class=\"dataframe\">\n",
       "  <thead>\n",
       "    <tr style=\"text-align: right;\">\n",
       "      <th></th>\n",
       "      <th>0</th>\n",
       "      <th>1</th>\n",
       "      <th>2</th>\n",
       "    </tr>\n",
       "  </thead>\n",
       "  <tbody>\n",
       "    <tr>\n",
       "      <td>0</td>\n",
       "      <td>1.0</td>\n",
       "      <td>6.5</td>\n",
       "      <td>3.0</td>\n",
       "    </tr>\n",
       "    <tr>\n",
       "      <td>1</td>\n",
       "      <td>1.0</td>\n",
       "      <td>6.5</td>\n",
       "      <td>3.0</td>\n",
       "    </tr>\n",
       "    <tr>\n",
       "      <td>2</td>\n",
       "      <td>NaN</td>\n",
       "      <td>6.5</td>\n",
       "      <td>3.0</td>\n",
       "    </tr>\n",
       "    <tr>\n",
       "      <td>3</td>\n",
       "      <td>NaN</td>\n",
       "      <td>6.5</td>\n",
       "      <td>3.0</td>\n",
       "    </tr>\n",
       "  </tbody>\n",
       "</table>\n",
       "</div>"
      ],
      "text/plain": [
       "     0    1    2\n",
       "0  1.0  6.5  3.0\n",
       "1  1.0  6.5  3.0\n",
       "2  NaN  6.5  3.0\n",
       "3  NaN  6.5  3.0"
      ]
     },
     "execution_count": 108,
     "metadata": {},
     "output_type": "execute_result"
    }
   ],
   "source": [
    "data.fillna({1: 6.5, 2: 3.0})#指定数值"
   ]
  },
  {
   "cell_type": "code",
   "execution_count": 109,
   "metadata": {},
   "outputs": [
    {
     "data": {
      "text/html": [
       "<div>\n",
       "<style scoped>\n",
       "    .dataframe tbody tr th:only-of-type {\n",
       "        vertical-align: middle;\n",
       "    }\n",
       "\n",
       "    .dataframe tbody tr th {\n",
       "        vertical-align: top;\n",
       "    }\n",
       "\n",
       "    .dataframe thead th {\n",
       "        text-align: right;\n",
       "    }\n",
       "</style>\n",
       "<table border=\"1\" class=\"dataframe\">\n",
       "  <thead>\n",
       "    <tr style=\"text-align: right;\">\n",
       "      <th></th>\n",
       "      <th>0</th>\n",
       "      <th>1</th>\n",
       "      <th>2</th>\n",
       "    </tr>\n",
       "  </thead>\n",
       "  <tbody>\n",
       "    <tr>\n",
       "      <td>0</td>\n",
       "      <td>0.644550</td>\n",
       "      <td>1.016376</td>\n",
       "      <td>-0.546356</td>\n",
       "    </tr>\n",
       "    <tr>\n",
       "      <td>1</td>\n",
       "      <td>1.844421</td>\n",
       "      <td>-1.436472</td>\n",
       "      <td>-1.405628</td>\n",
       "    </tr>\n",
       "    <tr>\n",
       "      <td>2</td>\n",
       "      <td>-1.315212</td>\n",
       "      <td>NaN</td>\n",
       "      <td>0.695798</td>\n",
       "    </tr>\n",
       "    <tr>\n",
       "      <td>3</td>\n",
       "      <td>0.790041</td>\n",
       "      <td>NaN</td>\n",
       "      <td>1.719806</td>\n",
       "    </tr>\n",
       "    <tr>\n",
       "      <td>4</td>\n",
       "      <td>0.334275</td>\n",
       "      <td>NaN</td>\n",
       "      <td>NaN</td>\n",
       "    </tr>\n",
       "    <tr>\n",
       "      <td>5</td>\n",
       "      <td>0.839212</td>\n",
       "      <td>NaN</td>\n",
       "      <td>NaN</td>\n",
       "    </tr>\n",
       "  </tbody>\n",
       "</table>\n",
       "</div>"
      ],
      "text/plain": [
       "          0         1         2\n",
       "0  0.644550  1.016376 -0.546356\n",
       "1  1.844421 -1.436472 -1.405628\n",
       "2 -1.315212       NaN  0.695798\n",
       "3  0.790041       NaN  1.719806\n",
       "4  0.334275       NaN       NaN\n",
       "5  0.839212       NaN       NaN"
      ]
     },
     "execution_count": 109,
     "metadata": {},
     "output_type": "execute_result"
    }
   ],
   "source": [
    "df = pd.DataFrame(np.random.randn(6, 3))\n",
    "df.iloc[2:, 1] = nan\n",
    "df.iloc[4:, 2] = nan\n",
    "df"
   ]
  },
  {
   "cell_type": "code",
   "execution_count": 110,
   "metadata": {},
   "outputs": [
    {
     "data": {
      "text/html": [
       "<div>\n",
       "<style scoped>\n",
       "    .dataframe tbody tr th:only-of-type {\n",
       "        vertical-align: middle;\n",
       "    }\n",
       "\n",
       "    .dataframe tbody tr th {\n",
       "        vertical-align: top;\n",
       "    }\n",
       "\n",
       "    .dataframe thead th {\n",
       "        text-align: right;\n",
       "    }\n",
       "</style>\n",
       "<table border=\"1\" class=\"dataframe\">\n",
       "  <thead>\n",
       "    <tr style=\"text-align: right;\">\n",
       "      <th></th>\n",
       "      <th>0</th>\n",
       "      <th>1</th>\n",
       "      <th>2</th>\n",
       "    </tr>\n",
       "  </thead>\n",
       "  <tbody>\n",
       "    <tr>\n",
       "      <td>0</td>\n",
       "      <td>0.644550</td>\n",
       "      <td>1.016376</td>\n",
       "      <td>-0.546356</td>\n",
       "    </tr>\n",
       "    <tr>\n",
       "      <td>1</td>\n",
       "      <td>1.844421</td>\n",
       "      <td>-1.436472</td>\n",
       "      <td>-1.405628</td>\n",
       "    </tr>\n",
       "    <tr>\n",
       "      <td>2</td>\n",
       "      <td>-1.315212</td>\n",
       "      <td>-0.210048</td>\n",
       "      <td>0.695798</td>\n",
       "    </tr>\n",
       "    <tr>\n",
       "      <td>3</td>\n",
       "      <td>0.790041</td>\n",
       "      <td>-0.210048</td>\n",
       "      <td>1.719806</td>\n",
       "    </tr>\n",
       "    <tr>\n",
       "      <td>4</td>\n",
       "      <td>0.334275</td>\n",
       "      <td>-0.210048</td>\n",
       "      <td>0.115905</td>\n",
       "    </tr>\n",
       "    <tr>\n",
       "      <td>5</td>\n",
       "      <td>0.839212</td>\n",
       "      <td>-0.210048</td>\n",
       "      <td>0.115905</td>\n",
       "    </tr>\n",
       "  </tbody>\n",
       "</table>\n",
       "</div>"
      ],
      "text/plain": [
       "          0         1         2\n",
       "0  0.644550  1.016376 -0.546356\n",
       "1  1.844421 -1.436472 -1.405628\n",
       "2 -1.315212 -0.210048  0.695798\n",
       "3  0.790041 -0.210048  1.719806\n",
       "4  0.334275 -0.210048  0.115905\n",
       "5  0.839212 -0.210048  0.115905"
      ]
     },
     "execution_count": 110,
     "metadata": {},
     "output_type": "execute_result"
    }
   ],
   "source": [
    "df.fillna(df.mean(axis=0))#用每列的均值来填补"
   ]
  },
  {
   "cell_type": "code",
   "execution_count": 111,
   "metadata": {},
   "outputs": [
    {
     "data": {
      "text/plain": [
       "0    0.522881\n",
       "1   -0.210048\n",
       "2    0.115905\n",
       "dtype: float64"
      ]
     },
     "execution_count": 111,
     "metadata": {},
     "output_type": "execute_result"
    }
   ],
   "source": [
    "df.mean(axis=0)"
   ]
  },
  {
   "cell_type": "markdown",
   "metadata": {},
   "source": [
    "删除重复项"
   ]
  },
  {
   "cell_type": "code",
   "execution_count": 112,
   "metadata": {},
   "outputs": [
    {
     "data": {
      "text/html": [
       "<div>\n",
       "<style scoped>\n",
       "    .dataframe tbody tr th:only-of-type {\n",
       "        vertical-align: middle;\n",
       "    }\n",
       "\n",
       "    .dataframe tbody tr th {\n",
       "        vertical-align: top;\n",
       "    }\n",
       "\n",
       "    .dataframe thead th {\n",
       "        text-align: right;\n",
       "    }\n",
       "</style>\n",
       "<table border=\"1\" class=\"dataframe\">\n",
       "  <thead>\n",
       "    <tr style=\"text-align: right;\">\n",
       "      <th></th>\n",
       "      <th>k1</th>\n",
       "      <th>k2</th>\n",
       "    </tr>\n",
       "  </thead>\n",
       "  <tbody>\n",
       "    <tr>\n",
       "      <td>0</td>\n",
       "      <td>one</td>\n",
       "      <td>1</td>\n",
       "    </tr>\n",
       "    <tr>\n",
       "      <td>1</td>\n",
       "      <td>two</td>\n",
       "      <td>1</td>\n",
       "    </tr>\n",
       "    <tr>\n",
       "      <td>2</td>\n",
       "      <td>one</td>\n",
       "      <td>2</td>\n",
       "    </tr>\n",
       "    <tr>\n",
       "      <td>3</td>\n",
       "      <td>two</td>\n",
       "      <td>3</td>\n",
       "    </tr>\n",
       "    <tr>\n",
       "      <td>4</td>\n",
       "      <td>one</td>\n",
       "      <td>3</td>\n",
       "    </tr>\n",
       "    <tr>\n",
       "      <td>5</td>\n",
       "      <td>two</td>\n",
       "      <td>4</td>\n",
       "    </tr>\n",
       "    <tr>\n",
       "      <td>6</td>\n",
       "      <td>two</td>\n",
       "      <td>4</td>\n",
       "    </tr>\n",
       "  </tbody>\n",
       "</table>\n",
       "</div>"
      ],
      "text/plain": [
       "    k1  k2\n",
       "0  one   1\n",
       "1  two   1\n",
       "2  one   2\n",
       "3  two   3\n",
       "4  one   3\n",
       "5  two   4\n",
       "6  two   4"
      ]
     },
     "execution_count": 112,
     "metadata": {},
     "output_type": "execute_result"
    }
   ],
   "source": [
    "data2 = pd.DataFrame({'k1': ['one', 'two'] * 3 + ['two'],'k2': [1, 1, 2, 3, 3, 4, 4]})\n",
    "data2"
   ]
  },
  {
   "cell_type": "code",
   "execution_count": 113,
   "metadata": {},
   "outputs": [
    {
     "data": {
      "text/html": [
       "<div>\n",
       "<style scoped>\n",
       "    .dataframe tbody tr th:only-of-type {\n",
       "        vertical-align: middle;\n",
       "    }\n",
       "\n",
       "    .dataframe tbody tr th {\n",
       "        vertical-align: top;\n",
       "    }\n",
       "\n",
       "    .dataframe thead th {\n",
       "        text-align: right;\n",
       "    }\n",
       "</style>\n",
       "<table border=\"1\" class=\"dataframe\">\n",
       "  <thead>\n",
       "    <tr style=\"text-align: right;\">\n",
       "      <th></th>\n",
       "      <th>k1</th>\n",
       "      <th>k2</th>\n",
       "    </tr>\n",
       "  </thead>\n",
       "  <tbody>\n",
       "    <tr>\n",
       "      <td>0</td>\n",
       "      <td>one</td>\n",
       "      <td>1</td>\n",
       "    </tr>\n",
       "    <tr>\n",
       "      <td>1</td>\n",
       "      <td>two</td>\n",
       "      <td>1</td>\n",
       "    </tr>\n",
       "    <tr>\n",
       "      <td>2</td>\n",
       "      <td>one</td>\n",
       "      <td>2</td>\n",
       "    </tr>\n",
       "    <tr>\n",
       "      <td>3</td>\n",
       "      <td>two</td>\n",
       "      <td>3</td>\n",
       "    </tr>\n",
       "    <tr>\n",
       "      <td>4</td>\n",
       "      <td>one</td>\n",
       "      <td>3</td>\n",
       "    </tr>\n",
       "    <tr>\n",
       "      <td>5</td>\n",
       "      <td>two</td>\n",
       "      <td>4</td>\n",
       "    </tr>\n",
       "  </tbody>\n",
       "</table>\n",
       "</div>"
      ],
      "text/plain": [
       "    k1  k2\n",
       "0  one   1\n",
       "1  two   1\n",
       "2  one   2\n",
       "3  two   3\n",
       "4  one   3\n",
       "5  two   4"
      ]
     },
     "execution_count": 113,
     "metadata": {},
     "output_type": "execute_result"
    }
   ],
   "source": [
    "data2.drop_duplicates()#一整行一样才算"
   ]
  },
  {
   "cell_type": "code",
   "execution_count": 114,
   "metadata": {},
   "outputs": [
    {
     "data": {
      "text/html": [
       "<div>\n",
       "<style scoped>\n",
       "    .dataframe tbody tr th:only-of-type {\n",
       "        vertical-align: middle;\n",
       "    }\n",
       "\n",
       "    .dataframe tbody tr th {\n",
       "        vertical-align: top;\n",
       "    }\n",
       "\n",
       "    .dataframe thead th {\n",
       "        text-align: right;\n",
       "    }\n",
       "</style>\n",
       "<table border=\"1\" class=\"dataframe\">\n",
       "  <thead>\n",
       "    <tr style=\"text-align: right;\">\n",
       "      <th></th>\n",
       "      <th>k1</th>\n",
       "      <th>k2</th>\n",
       "    </tr>\n",
       "  </thead>\n",
       "  <tbody>\n",
       "    <tr>\n",
       "      <td>4</td>\n",
       "      <td>one</td>\n",
       "      <td>3</td>\n",
       "    </tr>\n",
       "    <tr>\n",
       "      <td>6</td>\n",
       "      <td>two</td>\n",
       "      <td>4</td>\n",
       "    </tr>\n",
       "  </tbody>\n",
       "</table>\n",
       "</div>"
      ],
      "text/plain": [
       "    k1  k2\n",
       "4  one   3\n",
       "6  two   4"
      ]
     },
     "execution_count": 114,
     "metadata": {},
     "output_type": "execute_result"
    }
   ],
   "source": [
    "data2.drop_duplicates(['k1'],keep='last')"
   ]
  },
  {
   "cell_type": "markdown",
   "metadata": {},
   "source": [
    "替换"
   ]
  },
  {
   "cell_type": "code",
   "execution_count": 115,
   "metadata": {},
   "outputs": [
    {
     "data": {
      "text/html": [
       "<div>\n",
       "<style scoped>\n",
       "    .dataframe tbody tr th:only-of-type {\n",
       "        vertical-align: middle;\n",
       "    }\n",
       "\n",
       "    .dataframe tbody tr th {\n",
       "        vertical-align: top;\n",
       "    }\n",
       "\n",
       "    .dataframe thead th {\n",
       "        text-align: right;\n",
       "    }\n",
       "</style>\n",
       "<table border=\"1\" class=\"dataframe\">\n",
       "  <thead>\n",
       "    <tr style=\"text-align: right;\">\n",
       "      <th></th>\n",
       "      <th>0</th>\n",
       "      <th>1</th>\n",
       "      <th>2</th>\n",
       "    </tr>\n",
       "  </thead>\n",
       "  <tbody>\n",
       "    <tr>\n",
       "      <td>0</td>\n",
       "      <td>0.644550</td>\n",
       "      <td>1.016376</td>\n",
       "      <td>-0.546356</td>\n",
       "    </tr>\n",
       "    <tr>\n",
       "      <td>1</td>\n",
       "      <td>1.844421</td>\n",
       "      <td>-1.436472</td>\n",
       "      <td>-1.405628</td>\n",
       "    </tr>\n",
       "    <tr>\n",
       "      <td>2</td>\n",
       "      <td>-1.315212</td>\n",
       "      <td>NaN</td>\n",
       "      <td>0.695798</td>\n",
       "    </tr>\n",
       "    <tr>\n",
       "      <td>3</td>\n",
       "      <td>0.790041</td>\n",
       "      <td>NaN</td>\n",
       "      <td>1.719806</td>\n",
       "    </tr>\n",
       "    <tr>\n",
       "      <td>4</td>\n",
       "      <td>0.334275</td>\n",
       "      <td>NaN</td>\n",
       "      <td>NaN</td>\n",
       "    </tr>\n",
       "    <tr>\n",
       "      <td>5</td>\n",
       "      <td>0.839212</td>\n",
       "      <td>NaN</td>\n",
       "      <td>NaN</td>\n",
       "    </tr>\n",
       "  </tbody>\n",
       "</table>\n",
       "</div>"
      ],
      "text/plain": [
       "          0         1         2\n",
       "0  0.644550  1.016376 -0.546356\n",
       "1  1.844421 -1.436472 -1.405628\n",
       "2 -1.315212       NaN  0.695798\n",
       "3  0.790041       NaN  1.719806\n",
       "4  0.334275       NaN       NaN\n",
       "5  0.839212       NaN       NaN"
      ]
     },
     "execution_count": 115,
     "metadata": {},
     "output_type": "execute_result"
    }
   ],
   "source": [
    "df"
   ]
  },
  {
   "cell_type": "code",
   "execution_count": 116,
   "metadata": {},
   "outputs": [
    {
     "data": {
      "text/html": [
       "<div>\n",
       "<style scoped>\n",
       "    .dataframe tbody tr th:only-of-type {\n",
       "        vertical-align: middle;\n",
       "    }\n",
       "\n",
       "    .dataframe tbody tr th {\n",
       "        vertical-align: top;\n",
       "    }\n",
       "\n",
       "    .dataframe thead th {\n",
       "        text-align: right;\n",
       "    }\n",
       "</style>\n",
       "<table border=\"1\" class=\"dataframe\">\n",
       "  <thead>\n",
       "    <tr style=\"text-align: right;\">\n",
       "      <th></th>\n",
       "      <th>0</th>\n",
       "      <th>1</th>\n",
       "      <th>2</th>\n",
       "    </tr>\n",
       "  </thead>\n",
       "  <tbody>\n",
       "    <tr>\n",
       "      <td>0</td>\n",
       "      <td>0.644550</td>\n",
       "      <td>1.016376</td>\n",
       "      <td>0.298505</td>\n",
       "    </tr>\n",
       "    <tr>\n",
       "      <td>1</td>\n",
       "      <td>1.844421</td>\n",
       "      <td>-1.436472</td>\n",
       "      <td>1.975790</td>\n",
       "    </tr>\n",
       "    <tr>\n",
       "      <td>2</td>\n",
       "      <td>-1.315212</td>\n",
       "      <td>NaN</td>\n",
       "      <td>0.484135</td>\n",
       "    </tr>\n",
       "    <tr>\n",
       "      <td>3</td>\n",
       "      <td>0.790041</td>\n",
       "      <td>NaN</td>\n",
       "      <td>2.957734</td>\n",
       "    </tr>\n",
       "    <tr>\n",
       "      <td>4</td>\n",
       "      <td>0.334275</td>\n",
       "      <td>NaN</td>\n",
       "      <td>NaN</td>\n",
       "    </tr>\n",
       "    <tr>\n",
       "      <td>5</td>\n",
       "      <td>0.839212</td>\n",
       "      <td>NaN</td>\n",
       "      <td>NaN</td>\n",
       "    </tr>\n",
       "  </tbody>\n",
       "</table>\n",
       "</div>"
      ],
      "text/plain": [
       "          0         1         2\n",
       "0  0.644550  1.016376  0.298505\n",
       "1  1.844421 -1.436472  1.975790\n",
       "2 -1.315212       NaN  0.484135\n",
       "3  0.790041       NaN  2.957734\n",
       "4  0.334275       NaN       NaN\n",
       "5  0.839212       NaN       NaN"
      ]
     },
     "execution_count": 116,
     "metadata": {},
     "output_type": "execute_result"
    }
   ],
   "source": [
    "df[2]=df[2].map(lambda x:x**2)\n",
    "df"
   ]
  },
  {
   "cell_type": "markdown",
   "metadata": {},
   "source": [
    "filter"
   ]
  },
  {
   "cell_type": "code",
   "execution_count": 117,
   "metadata": {},
   "outputs": [
    {
     "data": {
      "text/html": [
       "<div>\n",
       "<style scoped>\n",
       "    .dataframe tbody tr th:only-of-type {\n",
       "        vertical-align: middle;\n",
       "    }\n",
       "\n",
       "    .dataframe tbody tr th {\n",
       "        vertical-align: top;\n",
       "    }\n",
       "\n",
       "    .dataframe thead th {\n",
       "        text-align: right;\n",
       "    }\n",
       "</style>\n",
       "<table border=\"1\" class=\"dataframe\">\n",
       "  <thead>\n",
       "    <tr style=\"text-align: right;\">\n",
       "      <th></th>\n",
       "      <th>0</th>\n",
       "      <th>1</th>\n",
       "      <th>2</th>\n",
       "    </tr>\n",
       "  </thead>\n",
       "  <tbody>\n",
       "    <tr>\n",
       "      <td>0</td>\n",
       "      <td>0.644550</td>\n",
       "      <td>1.016376</td>\n",
       "      <td>0.298505</td>\n",
       "    </tr>\n",
       "    <tr>\n",
       "      <td>1</td>\n",
       "      <td>1.844421</td>\n",
       "      <td>-1.436472</td>\n",
       "      <td>1.975790</td>\n",
       "    </tr>\n",
       "    <tr>\n",
       "      <td>2</td>\n",
       "      <td>-1.315212</td>\n",
       "      <td>NaN</td>\n",
       "      <td>0.484135</td>\n",
       "    </tr>\n",
       "    <tr>\n",
       "      <td>3</td>\n",
       "      <td>0.790041</td>\n",
       "      <td>NaN</td>\n",
       "      <td>2.957734</td>\n",
       "    </tr>\n",
       "    <tr>\n",
       "      <td>4</td>\n",
       "      <td>0.334275</td>\n",
       "      <td>NaN</td>\n",
       "      <td>NaN</td>\n",
       "    </tr>\n",
       "    <tr>\n",
       "      <td>5</td>\n",
       "      <td>0.839212</td>\n",
       "      <td>NaN</td>\n",
       "      <td>NaN</td>\n",
       "    </tr>\n",
       "  </tbody>\n",
       "</table>\n",
       "</div>"
      ],
      "text/plain": [
       "          0         1         2\n",
       "0  0.644550  1.016376  0.298505\n",
       "1  1.844421 -1.436472  1.975790\n",
       "2 -1.315212       NaN  0.484135\n",
       "3  0.790041       NaN  2.957734\n",
       "4  0.334275       NaN       NaN\n",
       "5  0.839212       NaN       NaN"
      ]
     },
     "execution_count": 117,
     "metadata": {},
     "output_type": "execute_result"
    }
   ],
   "source": [
    "df"
   ]
  },
  {
   "cell_type": "code",
   "execution_count": 118,
   "metadata": {},
   "outputs": [
    {
     "data": {
      "text/html": [
       "<div>\n",
       "<style scoped>\n",
       "    .dataframe tbody tr th:only-of-type {\n",
       "        vertical-align: middle;\n",
       "    }\n",
       "\n",
       "    .dataframe tbody tr th {\n",
       "        vertical-align: top;\n",
       "    }\n",
       "\n",
       "    .dataframe thead th {\n",
       "        text-align: right;\n",
       "    }\n",
       "</style>\n",
       "<table border=\"1\" class=\"dataframe\">\n",
       "  <thead>\n",
       "    <tr style=\"text-align: right;\">\n",
       "      <th></th>\n",
       "      <th>0</th>\n",
       "      <th>1</th>\n",
       "      <th>2</th>\n",
       "    </tr>\n",
       "  </thead>\n",
       "  <tbody>\n",
       "    <tr>\n",
       "      <td>0</td>\n",
       "      <td>0.644550</td>\n",
       "      <td>1.016376</td>\n",
       "      <td>0.298505</td>\n",
       "    </tr>\n",
       "    <tr>\n",
       "      <td>1</td>\n",
       "      <td>1.844421</td>\n",
       "      <td>-1.436472</td>\n",
       "      <td>1.975790</td>\n",
       "    </tr>\n",
       "    <tr>\n",
       "      <td>3</td>\n",
       "      <td>0.790041</td>\n",
       "      <td>NaN</td>\n",
       "      <td>2.957734</td>\n",
       "    </tr>\n",
       "    <tr>\n",
       "      <td>4</td>\n",
       "      <td>0.334275</td>\n",
       "      <td>NaN</td>\n",
       "      <td>NaN</td>\n",
       "    </tr>\n",
       "    <tr>\n",
       "      <td>5</td>\n",
       "      <td>0.839212</td>\n",
       "      <td>NaN</td>\n",
       "      <td>NaN</td>\n",
       "    </tr>\n",
       "  </tbody>\n",
       "</table>\n",
       "</div>"
      ],
      "text/plain": [
       "          0         1         2\n",
       "0  0.644550  1.016376  0.298505\n",
       "1  1.844421 -1.436472  1.975790\n",
       "3  0.790041       NaN  2.957734\n",
       "4  0.334275       NaN       NaN\n",
       "5  0.839212       NaN       NaN"
      ]
     },
     "execution_count": 118,
     "metadata": {},
     "output_type": "execute_result"
    }
   ],
   "source": [
    "df[df[0]>0]"
   ]
  },
  {
   "cell_type": "markdown",
   "metadata": {},
   "source": [
    "随机抽样"
   ]
  },
  {
   "cell_type": "code",
   "execution_count": 119,
   "metadata": {},
   "outputs": [
    {
     "data": {
      "text/html": [
       "<div>\n",
       "<style scoped>\n",
       "    .dataframe tbody tr th:only-of-type {\n",
       "        vertical-align: middle;\n",
       "    }\n",
       "\n",
       "    .dataframe tbody tr th {\n",
       "        vertical-align: top;\n",
       "    }\n",
       "\n",
       "    .dataframe thead th {\n",
       "        text-align: right;\n",
       "    }\n",
       "</style>\n",
       "<table border=\"1\" class=\"dataframe\">\n",
       "  <thead>\n",
       "    <tr style=\"text-align: right;\">\n",
       "      <th></th>\n",
       "      <th>0</th>\n",
       "      <th>1</th>\n",
       "      <th>2</th>\n",
       "    </tr>\n",
       "  </thead>\n",
       "  <tbody>\n",
       "    <tr>\n",
       "      <td>0</td>\n",
       "      <td>0.644550</td>\n",
       "      <td>1.016376</td>\n",
       "      <td>0.298505</td>\n",
       "    </tr>\n",
       "    <tr>\n",
       "      <td>1</td>\n",
       "      <td>1.844421</td>\n",
       "      <td>-1.436472</td>\n",
       "      <td>1.975790</td>\n",
       "    </tr>\n",
       "    <tr>\n",
       "      <td>2</td>\n",
       "      <td>-1.315212</td>\n",
       "      <td>NaN</td>\n",
       "      <td>0.484135</td>\n",
       "    </tr>\n",
       "    <tr>\n",
       "      <td>3</td>\n",
       "      <td>0.790041</td>\n",
       "      <td>NaN</td>\n",
       "      <td>2.957734</td>\n",
       "    </tr>\n",
       "    <tr>\n",
       "      <td>4</td>\n",
       "      <td>0.334275</td>\n",
       "      <td>NaN</td>\n",
       "      <td>NaN</td>\n",
       "    </tr>\n",
       "    <tr>\n",
       "      <td>5</td>\n",
       "      <td>0.839212</td>\n",
       "      <td>NaN</td>\n",
       "      <td>NaN</td>\n",
       "    </tr>\n",
       "  </tbody>\n",
       "</table>\n",
       "</div>"
      ],
      "text/plain": [
       "          0         1         2\n",
       "0  0.644550  1.016376  0.298505\n",
       "1  1.844421 -1.436472  1.975790\n",
       "2 -1.315212       NaN  0.484135\n",
       "3  0.790041       NaN  2.957734\n",
       "4  0.334275       NaN       NaN\n",
       "5  0.839212       NaN       NaN"
      ]
     },
     "execution_count": 119,
     "metadata": {},
     "output_type": "execute_result"
    }
   ],
   "source": [
    "df"
   ]
  },
  {
   "cell_type": "code",
   "execution_count": 120,
   "metadata": {},
   "outputs": [
    {
     "data": {
      "text/html": [
       "<div>\n",
       "<style scoped>\n",
       "    .dataframe tbody tr th:only-of-type {\n",
       "        vertical-align: middle;\n",
       "    }\n",
       "\n",
       "    .dataframe tbody tr th {\n",
       "        vertical-align: top;\n",
       "    }\n",
       "\n",
       "    .dataframe thead th {\n",
       "        text-align: right;\n",
       "    }\n",
       "</style>\n",
       "<table border=\"1\" class=\"dataframe\">\n",
       "  <thead>\n",
       "    <tr style=\"text-align: right;\">\n",
       "      <th></th>\n",
       "      <th>0</th>\n",
       "      <th>1</th>\n",
       "      <th>2</th>\n",
       "    </tr>\n",
       "  </thead>\n",
       "  <tbody>\n",
       "    <tr>\n",
       "      <td>1</td>\n",
       "      <td>1.844421</td>\n",
       "      <td>-1.436472</td>\n",
       "      <td>1.975790</td>\n",
       "    </tr>\n",
       "    <tr>\n",
       "      <td>5</td>\n",
       "      <td>0.839212</td>\n",
       "      <td>NaN</td>\n",
       "      <td>NaN</td>\n",
       "    </tr>\n",
       "    <tr>\n",
       "      <td>0</td>\n",
       "      <td>0.644550</td>\n",
       "      <td>1.016376</td>\n",
       "      <td>0.298505</td>\n",
       "    </tr>\n",
       "    <tr>\n",
       "      <td>2</td>\n",
       "      <td>-1.315212</td>\n",
       "      <td>NaN</td>\n",
       "      <td>0.484135</td>\n",
       "    </tr>\n",
       "    <tr>\n",
       "      <td>4</td>\n",
       "      <td>0.334275</td>\n",
       "      <td>NaN</td>\n",
       "      <td>NaN</td>\n",
       "    </tr>\n",
       "    <tr>\n",
       "      <td>3</td>\n",
       "      <td>0.790041</td>\n",
       "      <td>NaN</td>\n",
       "      <td>2.957734</td>\n",
       "    </tr>\n",
       "  </tbody>\n",
       "</table>\n",
       "</div>"
      ],
      "text/plain": [
       "          0         1         2\n",
       "1  1.844421 -1.436472  1.975790\n",
       "5  0.839212       NaN       NaN\n",
       "0  0.644550  1.016376  0.298505\n",
       "2 -1.315212       NaN  0.484135\n",
       "4  0.334275       NaN       NaN\n",
       "3  0.790041       NaN  2.957734"
      ]
     },
     "execution_count": 120,
     "metadata": {},
     "output_type": "execute_result"
    }
   ],
   "source": [
    "df.take(np.random.permutation(6))"
   ]
  },
  {
   "cell_type": "code",
   "execution_count": 121,
   "metadata": {},
   "outputs": [
    {
     "data": {
      "text/html": [
       "<div>\n",
       "<style scoped>\n",
       "    .dataframe tbody tr th:only-of-type {\n",
       "        vertical-align: middle;\n",
       "    }\n",
       "\n",
       "    .dataframe tbody tr th {\n",
       "        vertical-align: top;\n",
       "    }\n",
       "\n",
       "    .dataframe thead th {\n",
       "        text-align: right;\n",
       "    }\n",
       "</style>\n",
       "<table border=\"1\" class=\"dataframe\">\n",
       "  <thead>\n",
       "    <tr style=\"text-align: right;\">\n",
       "      <th></th>\n",
       "      <th>0</th>\n",
       "      <th>1</th>\n",
       "      <th>2</th>\n",
       "    </tr>\n",
       "  </thead>\n",
       "  <tbody>\n",
       "    <tr>\n",
       "      <td>2</td>\n",
       "      <td>-1.315212</td>\n",
       "      <td>NaN</td>\n",
       "      <td>0.484135</td>\n",
       "    </tr>\n",
       "    <tr>\n",
       "      <td>1</td>\n",
       "      <td>1.844421</td>\n",
       "      <td>-1.436472</td>\n",
       "      <td>1.975790</td>\n",
       "    </tr>\n",
       "    <tr>\n",
       "      <td>2</td>\n",
       "      <td>-1.315212</td>\n",
       "      <td>NaN</td>\n",
       "      <td>0.484135</td>\n",
       "    </tr>\n",
       "  </tbody>\n",
       "</table>\n",
       "</div>"
      ],
      "text/plain": [
       "          0         1         2\n",
       "2 -1.315212       NaN  0.484135\n",
       "1  1.844421 -1.436472  1.975790\n",
       "2 -1.315212       NaN  0.484135"
      ]
     },
     "execution_count": 121,
     "metadata": {},
     "output_type": "execute_result"
    }
   ],
   "source": [
    "df.sample(n=3,replace=True)#放回抽样"
   ]
  },
  {
   "cell_type": "markdown",
   "metadata": {},
   "source": [
    "合并"
   ]
  },
  {
   "cell_type": "code",
   "execution_count": 122,
   "metadata": {},
   "outputs": [],
   "source": [
    "df1 = pd.DataFrame({'key': ['b', 'b', 'a', 'c', 'a', 'a', 'b'],'data1': range(7)})\n",
    "df2 = pd.DataFrame({'key': ['a', 'b', 'd'],'data2': range(3)})"
   ]
  },
  {
   "cell_type": "code",
   "execution_count": 123,
   "metadata": {},
   "outputs": [
    {
     "data": {
      "text/html": [
       "<div>\n",
       "<style scoped>\n",
       "    .dataframe tbody tr th:only-of-type {\n",
       "        vertical-align: middle;\n",
       "    }\n",
       "\n",
       "    .dataframe tbody tr th {\n",
       "        vertical-align: top;\n",
       "    }\n",
       "\n",
       "    .dataframe thead th {\n",
       "        text-align: right;\n",
       "    }\n",
       "</style>\n",
       "<table border=\"1\" class=\"dataframe\">\n",
       "  <thead>\n",
       "    <tr style=\"text-align: right;\">\n",
       "      <th></th>\n",
       "      <th>key</th>\n",
       "      <th>data1</th>\n",
       "    </tr>\n",
       "  </thead>\n",
       "  <tbody>\n",
       "    <tr>\n",
       "      <td>0</td>\n",
       "      <td>b</td>\n",
       "      <td>0</td>\n",
       "    </tr>\n",
       "    <tr>\n",
       "      <td>1</td>\n",
       "      <td>b</td>\n",
       "      <td>1</td>\n",
       "    </tr>\n",
       "    <tr>\n",
       "      <td>2</td>\n",
       "      <td>a</td>\n",
       "      <td>2</td>\n",
       "    </tr>\n",
       "    <tr>\n",
       "      <td>3</td>\n",
       "      <td>c</td>\n",
       "      <td>3</td>\n",
       "    </tr>\n",
       "    <tr>\n",
       "      <td>4</td>\n",
       "      <td>a</td>\n",
       "      <td>4</td>\n",
       "    </tr>\n",
       "    <tr>\n",
       "      <td>5</td>\n",
       "      <td>a</td>\n",
       "      <td>5</td>\n",
       "    </tr>\n",
       "    <tr>\n",
       "      <td>6</td>\n",
       "      <td>b</td>\n",
       "      <td>6</td>\n",
       "    </tr>\n",
       "  </tbody>\n",
       "</table>\n",
       "</div>"
      ],
      "text/plain": [
       "  key  data1\n",
       "0   b      0\n",
       "1   b      1\n",
       "2   a      2\n",
       "3   c      3\n",
       "4   a      4\n",
       "5   a      5\n",
       "6   b      6"
      ]
     },
     "execution_count": 123,
     "metadata": {},
     "output_type": "execute_result"
    }
   ],
   "source": [
    "df1"
   ]
  },
  {
   "cell_type": "code",
   "execution_count": 124,
   "metadata": {},
   "outputs": [
    {
     "data": {
      "text/html": [
       "<div>\n",
       "<style scoped>\n",
       "    .dataframe tbody tr th:only-of-type {\n",
       "        vertical-align: middle;\n",
       "    }\n",
       "\n",
       "    .dataframe tbody tr th {\n",
       "        vertical-align: top;\n",
       "    }\n",
       "\n",
       "    .dataframe thead th {\n",
       "        text-align: right;\n",
       "    }\n",
       "</style>\n",
       "<table border=\"1\" class=\"dataframe\">\n",
       "  <thead>\n",
       "    <tr style=\"text-align: right;\">\n",
       "      <th></th>\n",
       "      <th>key</th>\n",
       "      <th>data2</th>\n",
       "    </tr>\n",
       "  </thead>\n",
       "  <tbody>\n",
       "    <tr>\n",
       "      <td>0</td>\n",
       "      <td>a</td>\n",
       "      <td>0</td>\n",
       "    </tr>\n",
       "    <tr>\n",
       "      <td>1</td>\n",
       "      <td>b</td>\n",
       "      <td>1</td>\n",
       "    </tr>\n",
       "    <tr>\n",
       "      <td>2</td>\n",
       "      <td>d</td>\n",
       "      <td>2</td>\n",
       "    </tr>\n",
       "  </tbody>\n",
       "</table>\n",
       "</div>"
      ],
      "text/plain": [
       "  key  data2\n",
       "0   a      0\n",
       "1   b      1\n",
       "2   d      2"
      ]
     },
     "execution_count": 124,
     "metadata": {},
     "output_type": "execute_result"
    }
   ],
   "source": [
    "df2"
   ]
  },
  {
   "cell_type": "code",
   "execution_count": 125,
   "metadata": {},
   "outputs": [
    {
     "data": {
      "text/html": [
       "<div>\n",
       "<style scoped>\n",
       "    .dataframe tbody tr th:only-of-type {\n",
       "        vertical-align: middle;\n",
       "    }\n",
       "\n",
       "    .dataframe tbody tr th {\n",
       "        vertical-align: top;\n",
       "    }\n",
       "\n",
       "    .dataframe thead th {\n",
       "        text-align: right;\n",
       "    }\n",
       "</style>\n",
       "<table border=\"1\" class=\"dataframe\">\n",
       "  <thead>\n",
       "    <tr style=\"text-align: right;\">\n",
       "      <th></th>\n",
       "      <th>key</th>\n",
       "      <th>data1</th>\n",
       "      <th>data2</th>\n",
       "    </tr>\n",
       "  </thead>\n",
       "  <tbody>\n",
       "    <tr>\n",
       "      <td>0</td>\n",
       "      <td>b</td>\n",
       "      <td>0</td>\n",
       "      <td>1</td>\n",
       "    </tr>\n",
       "    <tr>\n",
       "      <td>1</td>\n",
       "      <td>b</td>\n",
       "      <td>1</td>\n",
       "      <td>1</td>\n",
       "    </tr>\n",
       "    <tr>\n",
       "      <td>2</td>\n",
       "      <td>b</td>\n",
       "      <td>6</td>\n",
       "      <td>1</td>\n",
       "    </tr>\n",
       "    <tr>\n",
       "      <td>3</td>\n",
       "      <td>a</td>\n",
       "      <td>2</td>\n",
       "      <td>0</td>\n",
       "    </tr>\n",
       "    <tr>\n",
       "      <td>4</td>\n",
       "      <td>a</td>\n",
       "      <td>4</td>\n",
       "      <td>0</td>\n",
       "    </tr>\n",
       "    <tr>\n",
       "      <td>5</td>\n",
       "      <td>a</td>\n",
       "      <td>5</td>\n",
       "      <td>0</td>\n",
       "    </tr>\n",
       "  </tbody>\n",
       "</table>\n",
       "</div>"
      ],
      "text/plain": [
       "  key  data1  data2\n",
       "0   b      0      1\n",
       "1   b      1      1\n",
       "2   b      6      1\n",
       "3   a      2      0\n",
       "4   a      4      0\n",
       "5   a      5      0"
      ]
     },
     "execution_count": 125,
     "metadata": {},
     "output_type": "execute_result"
    }
   ],
   "source": [
    "pd.merge(df1,df2)#用公共的key来join"
   ]
  },
  {
   "cell_type": "code",
   "execution_count": 126,
   "metadata": {},
   "outputs": [
    {
     "data": {
      "text/html": [
       "<div>\n",
       "<style scoped>\n",
       "    .dataframe tbody tr th:only-of-type {\n",
       "        vertical-align: middle;\n",
       "    }\n",
       "\n",
       "    .dataframe tbody tr th {\n",
       "        vertical-align: top;\n",
       "    }\n",
       "\n",
       "    .dataframe thead th {\n",
       "        text-align: right;\n",
       "    }\n",
       "</style>\n",
       "<table border=\"1\" class=\"dataframe\">\n",
       "  <thead>\n",
       "    <tr style=\"text-align: right;\">\n",
       "      <th></th>\n",
       "      <th>key</th>\n",
       "      <th>data1</th>\n",
       "      <th>data2</th>\n",
       "    </tr>\n",
       "  </thead>\n",
       "  <tbody>\n",
       "    <tr>\n",
       "      <td>0</td>\n",
       "      <td>b</td>\n",
       "      <td>0</td>\n",
       "      <td>1</td>\n",
       "    </tr>\n",
       "    <tr>\n",
       "      <td>1</td>\n",
       "      <td>b</td>\n",
       "      <td>1</td>\n",
       "      <td>1</td>\n",
       "    </tr>\n",
       "    <tr>\n",
       "      <td>2</td>\n",
       "      <td>b</td>\n",
       "      <td>6</td>\n",
       "      <td>1</td>\n",
       "    </tr>\n",
       "    <tr>\n",
       "      <td>3</td>\n",
       "      <td>a</td>\n",
       "      <td>2</td>\n",
       "      <td>0</td>\n",
       "    </tr>\n",
       "    <tr>\n",
       "      <td>4</td>\n",
       "      <td>a</td>\n",
       "      <td>4</td>\n",
       "      <td>0</td>\n",
       "    </tr>\n",
       "    <tr>\n",
       "      <td>5</td>\n",
       "      <td>a</td>\n",
       "      <td>5</td>\n",
       "      <td>0</td>\n",
       "    </tr>\n",
       "  </tbody>\n",
       "</table>\n",
       "</div>"
      ],
      "text/plain": [
       "  key  data1  data2\n",
       "0   b      0      1\n",
       "1   b      1      1\n",
       "2   b      6      1\n",
       "3   a      2      0\n",
       "4   a      4      0\n",
       "5   a      5      0"
      ]
     },
     "execution_count": 126,
     "metadata": {},
     "output_type": "execute_result"
    }
   ],
   "source": [
    "pd.merge(df1,df2,on='key')"
   ]
  },
  {
   "cell_type": "code",
   "execution_count": 127,
   "metadata": {},
   "outputs": [
    {
     "data": {
      "text/html": [
       "<div>\n",
       "<style scoped>\n",
       "    .dataframe tbody tr th:only-of-type {\n",
       "        vertical-align: middle;\n",
       "    }\n",
       "\n",
       "    .dataframe tbody tr th {\n",
       "        vertical-align: top;\n",
       "    }\n",
       "\n",
       "    .dataframe thead th {\n",
       "        text-align: right;\n",
       "    }\n",
       "</style>\n",
       "<table border=\"1\" class=\"dataframe\">\n",
       "  <thead>\n",
       "    <tr style=\"text-align: right;\">\n",
       "      <th></th>\n",
       "      <th>lkey</th>\n",
       "      <th>data1</th>\n",
       "      <th>rkey</th>\n",
       "      <th>data2</th>\n",
       "    </tr>\n",
       "  </thead>\n",
       "  <tbody>\n",
       "    <tr>\n",
       "      <td>0</td>\n",
       "      <td>b</td>\n",
       "      <td>0</td>\n",
       "      <td>b</td>\n",
       "      <td>1</td>\n",
       "    </tr>\n",
       "    <tr>\n",
       "      <td>1</td>\n",
       "      <td>b</td>\n",
       "      <td>1</td>\n",
       "      <td>b</td>\n",
       "      <td>1</td>\n",
       "    </tr>\n",
       "    <tr>\n",
       "      <td>2</td>\n",
       "      <td>b</td>\n",
       "      <td>6</td>\n",
       "      <td>b</td>\n",
       "      <td>1</td>\n",
       "    </tr>\n",
       "    <tr>\n",
       "      <td>3</td>\n",
       "      <td>a</td>\n",
       "      <td>2</td>\n",
       "      <td>a</td>\n",
       "      <td>0</td>\n",
       "    </tr>\n",
       "    <tr>\n",
       "      <td>4</td>\n",
       "      <td>a</td>\n",
       "      <td>4</td>\n",
       "      <td>a</td>\n",
       "      <td>0</td>\n",
       "    </tr>\n",
       "    <tr>\n",
       "      <td>5</td>\n",
       "      <td>a</td>\n",
       "      <td>5</td>\n",
       "      <td>a</td>\n",
       "      <td>0</td>\n",
       "    </tr>\n",
       "  </tbody>\n",
       "</table>\n",
       "</div>"
      ],
      "text/plain": [
       "  lkey  data1 rkey  data2\n",
       "0    b      0    b      1\n",
       "1    b      1    b      1\n",
       "2    b      6    b      1\n",
       "3    a      2    a      0\n",
       "4    a      4    a      0\n",
       "5    a      5    a      0"
      ]
     },
     "execution_count": 127,
     "metadata": {},
     "output_type": "execute_result"
    }
   ],
   "source": [
    "df3 = pd.DataFrame({'lkey': ['b', 'b', 'a', 'c', 'a', 'a', 'b'],'data1': range(7)})\n",
    "df4 = pd.DataFrame({'rkey': ['a', 'b', 'd'],'data2': range(3)})\n",
    "pd.merge(df3, df4, left_on='lkey', right_on='rkey')#default是inner join，把lkey rkey当成common key"
   ]
  },
  {
   "cell_type": "code",
   "execution_count": 128,
   "metadata": {},
   "outputs": [
    {
     "data": {
      "text/html": [
       "<div>\n",
       "<style scoped>\n",
       "    .dataframe tbody tr th:only-of-type {\n",
       "        vertical-align: middle;\n",
       "    }\n",
       "\n",
       "    .dataframe tbody tr th {\n",
       "        vertical-align: top;\n",
       "    }\n",
       "\n",
       "    .dataframe thead th {\n",
       "        text-align: right;\n",
       "    }\n",
       "</style>\n",
       "<table border=\"1\" class=\"dataframe\">\n",
       "  <thead>\n",
       "    <tr style=\"text-align: right;\">\n",
       "      <th></th>\n",
       "      <th>lkey</th>\n",
       "      <th>data1</th>\n",
       "      <th>rkey</th>\n",
       "      <th>data2</th>\n",
       "    </tr>\n",
       "  </thead>\n",
       "  <tbody>\n",
       "    <tr>\n",
       "      <td>0</td>\n",
       "      <td>b</td>\n",
       "      <td>0.0</td>\n",
       "      <td>b</td>\n",
       "      <td>1.0</td>\n",
       "    </tr>\n",
       "    <tr>\n",
       "      <td>1</td>\n",
       "      <td>b</td>\n",
       "      <td>1.0</td>\n",
       "      <td>b</td>\n",
       "      <td>1.0</td>\n",
       "    </tr>\n",
       "    <tr>\n",
       "      <td>2</td>\n",
       "      <td>b</td>\n",
       "      <td>6.0</td>\n",
       "      <td>b</td>\n",
       "      <td>1.0</td>\n",
       "    </tr>\n",
       "    <tr>\n",
       "      <td>3</td>\n",
       "      <td>a</td>\n",
       "      <td>2.0</td>\n",
       "      <td>a</td>\n",
       "      <td>0.0</td>\n",
       "    </tr>\n",
       "    <tr>\n",
       "      <td>4</td>\n",
       "      <td>a</td>\n",
       "      <td>4.0</td>\n",
       "      <td>a</td>\n",
       "      <td>0.0</td>\n",
       "    </tr>\n",
       "    <tr>\n",
       "      <td>5</td>\n",
       "      <td>a</td>\n",
       "      <td>5.0</td>\n",
       "      <td>a</td>\n",
       "      <td>0.0</td>\n",
       "    </tr>\n",
       "    <tr>\n",
       "      <td>6</td>\n",
       "      <td>c</td>\n",
       "      <td>3.0</td>\n",
       "      <td>NaN</td>\n",
       "      <td>NaN</td>\n",
       "    </tr>\n",
       "    <tr>\n",
       "      <td>7</td>\n",
       "      <td>NaN</td>\n",
       "      <td>NaN</td>\n",
       "      <td>d</td>\n",
       "      <td>2.0</td>\n",
       "    </tr>\n",
       "  </tbody>\n",
       "</table>\n",
       "</div>"
      ],
      "text/plain": [
       "  lkey  data1 rkey  data2\n",
       "0    b    0.0    b    1.0\n",
       "1    b    1.0    b    1.0\n",
       "2    b    6.0    b    1.0\n",
       "3    a    2.0    a    0.0\n",
       "4    a    4.0    a    0.0\n",
       "5    a    5.0    a    0.0\n",
       "6    c    3.0  NaN    NaN\n",
       "7  NaN    NaN    d    2.0"
      ]
     },
     "execution_count": 128,
     "metadata": {},
     "output_type": "execute_result"
    }
   ],
   "source": [
    "pd.merge(df3, df4, left_on='lkey', right_on='rkey',how='outer')"
   ]
  },
  {
   "cell_type": "code",
   "execution_count": null,
   "metadata": {},
   "outputs": [],
   "source": [
    "'inner'只使用两个表中观察到的组合键\n",
    "'left'使用左表中找到的所有组合键\n",
    "'right'使用右表中找到的所有组合键\n",
    "'output'使用两个表中观察到的所有组合键"
   ]
  },
  {
   "cell_type": "code",
   "execution_count": 129,
   "metadata": {},
   "outputs": [],
   "source": [
    "df1 = pd.DataFrame(np.arange(6).reshape(3, 2), index=['a', 'b', 'c'],columns=['one', 'two'])\n",
    "df2 = pd.DataFrame(5 + np.arange(4).reshape(2, 2), index=['a', 'c'],columns=['three', 'four'])"
   ]
  },
  {
   "cell_type": "code",
   "execution_count": 130,
   "metadata": {},
   "outputs": [
    {
     "data": {
      "text/html": [
       "<div>\n",
       "<style scoped>\n",
       "    .dataframe tbody tr th:only-of-type {\n",
       "        vertical-align: middle;\n",
       "    }\n",
       "\n",
       "    .dataframe tbody tr th {\n",
       "        vertical-align: top;\n",
       "    }\n",
       "\n",
       "    .dataframe thead th {\n",
       "        text-align: right;\n",
       "    }\n",
       "</style>\n",
       "<table border=\"1\" class=\"dataframe\">\n",
       "  <thead>\n",
       "    <tr style=\"text-align: right;\">\n",
       "      <th></th>\n",
       "      <th>one</th>\n",
       "      <th>two</th>\n",
       "    </tr>\n",
       "  </thead>\n",
       "  <tbody>\n",
       "    <tr>\n",
       "      <td>a</td>\n",
       "      <td>0</td>\n",
       "      <td>1</td>\n",
       "    </tr>\n",
       "    <tr>\n",
       "      <td>b</td>\n",
       "      <td>2</td>\n",
       "      <td>3</td>\n",
       "    </tr>\n",
       "    <tr>\n",
       "      <td>c</td>\n",
       "      <td>4</td>\n",
       "      <td>5</td>\n",
       "    </tr>\n",
       "  </tbody>\n",
       "</table>\n",
       "</div>"
      ],
      "text/plain": [
       "   one  two\n",
       "a    0    1\n",
       "b    2    3\n",
       "c    4    5"
      ]
     },
     "execution_count": 130,
     "metadata": {},
     "output_type": "execute_result"
    }
   ],
   "source": [
    "df1"
   ]
  },
  {
   "cell_type": "code",
   "execution_count": 131,
   "metadata": {},
   "outputs": [
    {
     "data": {
      "text/html": [
       "<div>\n",
       "<style scoped>\n",
       "    .dataframe tbody tr th:only-of-type {\n",
       "        vertical-align: middle;\n",
       "    }\n",
       "\n",
       "    .dataframe tbody tr th {\n",
       "        vertical-align: top;\n",
       "    }\n",
       "\n",
       "    .dataframe thead th {\n",
       "        text-align: right;\n",
       "    }\n",
       "</style>\n",
       "<table border=\"1\" class=\"dataframe\">\n",
       "  <thead>\n",
       "    <tr style=\"text-align: right;\">\n",
       "      <th></th>\n",
       "      <th>three</th>\n",
       "      <th>four</th>\n",
       "    </tr>\n",
       "  </thead>\n",
       "  <tbody>\n",
       "    <tr>\n",
       "      <td>a</td>\n",
       "      <td>5</td>\n",
       "      <td>6</td>\n",
       "    </tr>\n",
       "    <tr>\n",
       "      <td>c</td>\n",
       "      <td>7</td>\n",
       "      <td>8</td>\n",
       "    </tr>\n",
       "  </tbody>\n",
       "</table>\n",
       "</div>"
      ],
      "text/plain": [
       "   three  four\n",
       "a      5     6\n",
       "c      7     8"
      ]
     },
     "execution_count": 131,
     "metadata": {},
     "output_type": "execute_result"
    }
   ],
   "source": [
    "df2"
   ]
  },
  {
   "cell_type": "code",
   "execution_count": 132,
   "metadata": {},
   "outputs": [
    {
     "name": "stderr",
     "output_type": "stream",
     "text": [
      "/Users/luoluo/opt/anaconda3/lib/python3.7/site-packages/ipykernel_launcher.py:1: FutureWarning: Sorting because non-concatenation axis is not aligned. A future version\n",
      "of pandas will change to not sort by default.\n",
      "\n",
      "To accept the future behavior, pass 'sort=False'.\n",
      "\n",
      "To retain the current behavior and silence the warning, pass 'sort=True'.\n",
      "\n",
      "  \"\"\"Entry point for launching an IPython kernel.\n"
     ]
    },
    {
     "data": {
      "text/html": [
       "<div>\n",
       "<style scoped>\n",
       "    .dataframe tbody tr th:only-of-type {\n",
       "        vertical-align: middle;\n",
       "    }\n",
       "\n",
       "    .dataframe tbody tr th {\n",
       "        vertical-align: top;\n",
       "    }\n",
       "\n",
       "    .dataframe thead th {\n",
       "        text-align: right;\n",
       "    }\n",
       "</style>\n",
       "<table border=\"1\" class=\"dataframe\">\n",
       "  <thead>\n",
       "    <tr style=\"text-align: right;\">\n",
       "      <th></th>\n",
       "      <th>one</th>\n",
       "      <th>two</th>\n",
       "      <th>three</th>\n",
       "      <th>four</th>\n",
       "    </tr>\n",
       "  </thead>\n",
       "  <tbody>\n",
       "    <tr>\n",
       "      <td>a</td>\n",
       "      <td>0</td>\n",
       "      <td>1</td>\n",
       "      <td>5.0</td>\n",
       "      <td>6.0</td>\n",
       "    </tr>\n",
       "    <tr>\n",
       "      <td>b</td>\n",
       "      <td>2</td>\n",
       "      <td>3</td>\n",
       "      <td>NaN</td>\n",
       "      <td>NaN</td>\n",
       "    </tr>\n",
       "    <tr>\n",
       "      <td>c</td>\n",
       "      <td>4</td>\n",
       "      <td>5</td>\n",
       "      <td>7.0</td>\n",
       "      <td>8.0</td>\n",
       "    </tr>\n",
       "  </tbody>\n",
       "</table>\n",
       "</div>"
      ],
      "text/plain": [
       "   one  two  three  four\n",
       "a    0    1    5.0   6.0\n",
       "b    2    3    NaN   NaN\n",
       "c    4    5    7.0   8.0"
      ]
     },
     "execution_count": 132,
     "metadata": {},
     "output_type": "execute_result"
    }
   ],
   "source": [
    "pd.concat([df1,df2],axis=1)#列"
   ]
  },
  {
   "cell_type": "code",
   "execution_count": 134,
   "metadata": {},
   "outputs": [
    {
     "data": {
      "text/html": [
       "<div>\n",
       "<style scoped>\n",
       "    .dataframe tbody tr th:only-of-type {\n",
       "        vertical-align: middle;\n",
       "    }\n",
       "\n",
       "    .dataframe tbody tr th {\n",
       "        vertical-align: top;\n",
       "    }\n",
       "\n",
       "    .dataframe thead th {\n",
       "        text-align: right;\n",
       "    }\n",
       "</style>\n",
       "<table border=\"1\" class=\"dataframe\">\n",
       "  <thead>\n",
       "    <tr style=\"text-align: right;\">\n",
       "      <th></th>\n",
       "      <th>one</th>\n",
       "      <th>two</th>\n",
       "      <th>three</th>\n",
       "      <th>four</th>\n",
       "    </tr>\n",
       "  </thead>\n",
       "  <tbody>\n",
       "    <tr>\n",
       "      <td>a</td>\n",
       "      <td>0.0</td>\n",
       "      <td>1.0</td>\n",
       "      <td>NaN</td>\n",
       "      <td>NaN</td>\n",
       "    </tr>\n",
       "    <tr>\n",
       "      <td>b</td>\n",
       "      <td>2.0</td>\n",
       "      <td>3.0</td>\n",
       "      <td>NaN</td>\n",
       "      <td>NaN</td>\n",
       "    </tr>\n",
       "    <tr>\n",
       "      <td>c</td>\n",
       "      <td>4.0</td>\n",
       "      <td>5.0</td>\n",
       "      <td>NaN</td>\n",
       "      <td>NaN</td>\n",
       "    </tr>\n",
       "    <tr>\n",
       "      <td>a</td>\n",
       "      <td>NaN</td>\n",
       "      <td>NaN</td>\n",
       "      <td>5.0</td>\n",
       "      <td>6.0</td>\n",
       "    </tr>\n",
       "    <tr>\n",
       "      <td>c</td>\n",
       "      <td>NaN</td>\n",
       "      <td>NaN</td>\n",
       "      <td>7.0</td>\n",
       "      <td>8.0</td>\n",
       "    </tr>\n",
       "  </tbody>\n",
       "</table>\n",
       "</div>"
      ],
      "text/plain": [
       "   one  two  three  four\n",
       "a  0.0  1.0    NaN   NaN\n",
       "b  2.0  3.0    NaN   NaN\n",
       "c  4.0  5.0    NaN   NaN\n",
       "a  NaN  NaN    5.0   6.0\n",
       "c  NaN  NaN    7.0   8.0"
      ]
     },
     "execution_count": 134,
     "metadata": {},
     "output_type": "execute_result"
    }
   ],
   "source": [
    "pd.concat([df1,df2],axis=0, sort=False)#行"
   ]
  },
  {
   "cell_type": "code",
   "execution_count": 136,
   "metadata": {},
   "outputs": [
    {
     "data": {
      "text/html": [
       "<div>\n",
       "<style scoped>\n",
       "    .dataframe tbody tr th:only-of-type {\n",
       "        vertical-align: middle;\n",
       "    }\n",
       "\n",
       "    .dataframe tbody tr th {\n",
       "        vertical-align: top;\n",
       "    }\n",
       "\n",
       "    .dataframe thead th {\n",
       "        text-align: right;\n",
       "    }\n",
       "</style>\n",
       "<table border=\"1\" class=\"dataframe\">\n",
       "  <thead>\n",
       "    <tr style=\"text-align: right;\">\n",
       "      <th></th>\n",
       "      <th>one</th>\n",
       "      <th>two</th>\n",
       "      <th>three</th>\n",
       "      <th>four</th>\n",
       "    </tr>\n",
       "  </thead>\n",
       "  <tbody>\n",
       "    <tr>\n",
       "      <td>0</td>\n",
       "      <td>0.0</td>\n",
       "      <td>1.0</td>\n",
       "      <td>NaN</td>\n",
       "      <td>NaN</td>\n",
       "    </tr>\n",
       "    <tr>\n",
       "      <td>1</td>\n",
       "      <td>2.0</td>\n",
       "      <td>3.0</td>\n",
       "      <td>NaN</td>\n",
       "      <td>NaN</td>\n",
       "    </tr>\n",
       "    <tr>\n",
       "      <td>2</td>\n",
       "      <td>4.0</td>\n",
       "      <td>5.0</td>\n",
       "      <td>NaN</td>\n",
       "      <td>NaN</td>\n",
       "    </tr>\n",
       "    <tr>\n",
       "      <td>3</td>\n",
       "      <td>NaN</td>\n",
       "      <td>NaN</td>\n",
       "      <td>5.0</td>\n",
       "      <td>6.0</td>\n",
       "    </tr>\n",
       "    <tr>\n",
       "      <td>4</td>\n",
       "      <td>NaN</td>\n",
       "      <td>NaN</td>\n",
       "      <td>7.0</td>\n",
       "      <td>8.0</td>\n",
       "    </tr>\n",
       "  </tbody>\n",
       "</table>\n",
       "</div>"
      ],
      "text/plain": [
       "   one  two  three  four\n",
       "0  0.0  1.0    NaN   NaN\n",
       "1  2.0  3.0    NaN   NaN\n",
       "2  4.0  5.0    NaN   NaN\n",
       "3  NaN  NaN    5.0   6.0\n",
       "4  NaN  NaN    7.0   8.0"
      ]
     },
     "execution_count": 136,
     "metadata": {},
     "output_type": "execute_result"
    }
   ],
   "source": [
    "pd.concat([df1,df2],axis=0,ignore_index=True, sort=False)"
   ]
  },
  {
   "cell_type": "markdown",
   "metadata": {},
   "source": [
    "groupby"
   ]
  },
  {
   "cell_type": "code",
   "execution_count": 137,
   "metadata": {},
   "outputs": [
    {
     "data": {
      "text/html": [
       "<div>\n",
       "<style scoped>\n",
       "    .dataframe tbody tr th:only-of-type {\n",
       "        vertical-align: middle;\n",
       "    }\n",
       "\n",
       "    .dataframe tbody tr th {\n",
       "        vertical-align: top;\n",
       "    }\n",
       "\n",
       "    .dataframe thead th {\n",
       "        text-align: right;\n",
       "    }\n",
       "</style>\n",
       "<table border=\"1\" class=\"dataframe\">\n",
       "  <thead>\n",
       "    <tr style=\"text-align: right;\">\n",
       "      <th></th>\n",
       "      <th>state</th>\n",
       "      <th>year</th>\n",
       "      <th>pop</th>\n",
       "    </tr>\n",
       "  </thead>\n",
       "  <tbody>\n",
       "    <tr>\n",
       "      <td>0</td>\n",
       "      <td>Ohio</td>\n",
       "      <td>2000</td>\n",
       "      <td>1.5</td>\n",
       "    </tr>\n",
       "    <tr>\n",
       "      <td>1</td>\n",
       "      <td>Ohio</td>\n",
       "      <td>2001</td>\n",
       "      <td>1.7</td>\n",
       "    </tr>\n",
       "    <tr>\n",
       "      <td>2</td>\n",
       "      <td>Ohio</td>\n",
       "      <td>2002</td>\n",
       "      <td>3.6</td>\n",
       "    </tr>\n",
       "    <tr>\n",
       "      <td>3</td>\n",
       "      <td>Nevada</td>\n",
       "      <td>2001</td>\n",
       "      <td>2.4</td>\n",
       "    </tr>\n",
       "    <tr>\n",
       "      <td>4</td>\n",
       "      <td>Nevada</td>\n",
       "      <td>2002</td>\n",
       "      <td>2.9</td>\n",
       "    </tr>\n",
       "    <tr>\n",
       "      <td>5</td>\n",
       "      <td>Nevada</td>\n",
       "      <td>2003</td>\n",
       "      <td>3.2</td>\n",
       "    </tr>\n",
       "  </tbody>\n",
       "</table>\n",
       "</div>"
      ],
      "text/plain": [
       "    state  year  pop\n",
       "0    Ohio  2000  1.5\n",
       "1    Ohio  2001  1.7\n",
       "2    Ohio  2002  3.6\n",
       "3  Nevada  2001  2.4\n",
       "4  Nevada  2002  2.9\n",
       "5  Nevada  2003  3.2"
      ]
     },
     "execution_count": 137,
     "metadata": {},
     "output_type": "execute_result"
    }
   ],
   "source": [
    "data = {'state': ['Ohio', 'Ohio', 'Ohio', 'Nevada', 'Nevada', 'Nevada'],'year': [2000, 2001, 2002, 2001, 2002, 2003],\n",
    "'pop': [1.5, 1.7, 3.6, 2.4, 2.9, 3.2]}\n",
    "frame = pd.DataFrame(data)\n",
    "frame"
   ]
  },
  {
   "cell_type": "code",
   "execution_count": 138,
   "metadata": {},
   "outputs": [
    {
     "data": {
      "text/html": [
       "<div>\n",
       "<style scoped>\n",
       "    .dataframe tbody tr th:only-of-type {\n",
       "        vertical-align: middle;\n",
       "    }\n",
       "\n",
       "    .dataframe tbody tr th {\n",
       "        vertical-align: top;\n",
       "    }\n",
       "\n",
       "    .dataframe thead th {\n",
       "        text-align: right;\n",
       "    }\n",
       "</style>\n",
       "<table border=\"1\" class=\"dataframe\">\n",
       "  <thead>\n",
       "    <tr style=\"text-align: right;\">\n",
       "      <th></th>\n",
       "      <th>year</th>\n",
       "      <th>pop</th>\n",
       "    </tr>\n",
       "    <tr>\n",
       "      <th>state</th>\n",
       "      <th></th>\n",
       "      <th></th>\n",
       "    </tr>\n",
       "  </thead>\n",
       "  <tbody>\n",
       "    <tr>\n",
       "      <td>Nevada</td>\n",
       "      <td>2002</td>\n",
       "      <td>2.833333</td>\n",
       "    </tr>\n",
       "    <tr>\n",
       "      <td>Ohio</td>\n",
       "      <td>2001</td>\n",
       "      <td>2.266667</td>\n",
       "    </tr>\n",
       "  </tbody>\n",
       "</table>\n",
       "</div>"
      ],
      "text/plain": [
       "        year       pop\n",
       "state                 \n",
       "Nevada  2002  2.833333\n",
       "Ohio    2001  2.266667"
      ]
     },
     "execution_count": 138,
     "metadata": {},
     "output_type": "execute_result"
    }
   ],
   "source": [
    "frame.groupby(frame['state']).mean()"
   ]
  },
  {
   "cell_type": "code",
   "execution_count": 139,
   "metadata": {},
   "outputs": [
    {
     "data": {
      "text/html": [
       "<div>\n",
       "<style scoped>\n",
       "    .dataframe tbody tr th:only-of-type {\n",
       "        vertical-align: middle;\n",
       "    }\n",
       "\n",
       "    .dataframe tbody tr th {\n",
       "        vertical-align: top;\n",
       "    }\n",
       "\n",
       "    .dataframe thead th {\n",
       "        text-align: right;\n",
       "    }\n",
       "</style>\n",
       "<table border=\"1\" class=\"dataframe\">\n",
       "  <thead>\n",
       "    <tr style=\"text-align: right;\">\n",
       "      <th></th>\n",
       "      <th></th>\n",
       "      <th>pop</th>\n",
       "    </tr>\n",
       "    <tr>\n",
       "      <th>state</th>\n",
       "      <th>year</th>\n",
       "      <th></th>\n",
       "    </tr>\n",
       "  </thead>\n",
       "  <tbody>\n",
       "    <tr>\n",
       "      <td rowspan=\"3\" valign=\"top\">Nevada</td>\n",
       "      <td>2001</td>\n",
       "      <td>2.4</td>\n",
       "    </tr>\n",
       "    <tr>\n",
       "      <td>2002</td>\n",
       "      <td>2.9</td>\n",
       "    </tr>\n",
       "    <tr>\n",
       "      <td>2003</td>\n",
       "      <td>3.2</td>\n",
       "    </tr>\n",
       "    <tr>\n",
       "      <td rowspan=\"3\" valign=\"top\">Ohio</td>\n",
       "      <td>2000</td>\n",
       "      <td>1.5</td>\n",
       "    </tr>\n",
       "    <tr>\n",
       "      <td>2001</td>\n",
       "      <td>1.7</td>\n",
       "    </tr>\n",
       "    <tr>\n",
       "      <td>2002</td>\n",
       "      <td>3.6</td>\n",
       "    </tr>\n",
       "  </tbody>\n",
       "</table>\n",
       "</div>"
      ],
      "text/plain": [
       "             pop\n",
       "state  year     \n",
       "Nevada 2001  2.4\n",
       "       2002  2.9\n",
       "       2003  3.2\n",
       "Ohio   2000  1.5\n",
       "       2001  1.7\n",
       "       2002  3.6"
      ]
     },
     "execution_count": 139,
     "metadata": {},
     "output_type": "execute_result"
    }
   ],
   "source": [
    "frame.groupby([frame['state'],frame['year']]).mean()"
   ]
  },
  {
   "cell_type": "raw",
   "metadata": {},
   "source": [
    "pivot table"
   ]
  },
  {
   "cell_type": "code",
   "execution_count": 140,
   "metadata": {},
   "outputs": [
    {
     "data": {
      "text/html": [
       "<div>\n",
       "<style scoped>\n",
       "    .dataframe tbody tr th:only-of-type {\n",
       "        vertical-align: middle;\n",
       "    }\n",
       "\n",
       "    .dataframe tbody tr th {\n",
       "        vertical-align: top;\n",
       "    }\n",
       "\n",
       "    .dataframe thead th {\n",
       "        text-align: right;\n",
       "    }\n",
       "</style>\n",
       "<table border=\"1\" class=\"dataframe\">\n",
       "  <thead>\n",
       "    <tr style=\"text-align: right;\">\n",
       "      <th></th>\n",
       "      <th>state</th>\n",
       "      <th>year</th>\n",
       "      <th>pop</th>\n",
       "    </tr>\n",
       "  </thead>\n",
       "  <tbody>\n",
       "    <tr>\n",
       "      <td>0</td>\n",
       "      <td>Ohio</td>\n",
       "      <td>2000</td>\n",
       "      <td>1.5</td>\n",
       "    </tr>\n",
       "    <tr>\n",
       "      <td>1</td>\n",
       "      <td>Ohio</td>\n",
       "      <td>2001</td>\n",
       "      <td>1.7</td>\n",
       "    </tr>\n",
       "    <tr>\n",
       "      <td>2</td>\n",
       "      <td>Ohio</td>\n",
       "      <td>2002</td>\n",
       "      <td>3.6</td>\n",
       "    </tr>\n",
       "    <tr>\n",
       "      <td>3</td>\n",
       "      <td>Nevada</td>\n",
       "      <td>2001</td>\n",
       "      <td>2.4</td>\n",
       "    </tr>\n",
       "    <tr>\n",
       "      <td>4</td>\n",
       "      <td>Nevada</td>\n",
       "      <td>2002</td>\n",
       "      <td>2.9</td>\n",
       "    </tr>\n",
       "    <tr>\n",
       "      <td>5</td>\n",
       "      <td>Nevada</td>\n",
       "      <td>2003</td>\n",
       "      <td>3.2</td>\n",
       "    </tr>\n",
       "  </tbody>\n",
       "</table>\n",
       "</div>"
      ],
      "text/plain": [
       "    state  year  pop\n",
       "0    Ohio  2000  1.5\n",
       "1    Ohio  2001  1.7\n",
       "2    Ohio  2002  3.6\n",
       "3  Nevada  2001  2.4\n",
       "4  Nevada  2002  2.9\n",
       "5  Nevada  2003  3.2"
      ]
     },
     "execution_count": 140,
     "metadata": {},
     "output_type": "execute_result"
    }
   ],
   "source": [
    "frame"
   ]
  },
  {
   "cell_type": "code",
   "execution_count": 141,
   "metadata": {},
   "outputs": [
    {
     "data": {
      "text/html": [
       "<div>\n",
       "<style scoped>\n",
       "    .dataframe tbody tr th:only-of-type {\n",
       "        vertical-align: middle;\n",
       "    }\n",
       "\n",
       "    .dataframe tbody tr th {\n",
       "        vertical-align: top;\n",
       "    }\n",
       "\n",
       "    .dataframe thead th {\n",
       "        text-align: right;\n",
       "    }\n",
       "</style>\n",
       "<table border=\"1\" class=\"dataframe\">\n",
       "  <thead>\n",
       "    <tr style=\"text-align: right;\">\n",
       "      <th></th>\n",
       "      <th>pop</th>\n",
       "      <th>year</th>\n",
       "    </tr>\n",
       "    <tr>\n",
       "      <th>state</th>\n",
       "      <th></th>\n",
       "      <th></th>\n",
       "    </tr>\n",
       "  </thead>\n",
       "  <tbody>\n",
       "    <tr>\n",
       "      <td>Nevada</td>\n",
       "      <td>2.833333</td>\n",
       "      <td>2002</td>\n",
       "    </tr>\n",
       "    <tr>\n",
       "      <td>Ohio</td>\n",
       "      <td>2.266667</td>\n",
       "      <td>2001</td>\n",
       "    </tr>\n",
       "  </tbody>\n",
       "</table>\n",
       "</div>"
      ],
      "text/plain": [
       "             pop  year\n",
       "state                 \n",
       "Nevada  2.833333  2002\n",
       "Ohio    2.266667  2001"
      ]
     },
     "execution_count": 141,
     "metadata": {},
     "output_type": "execute_result"
    }
   ],
   "source": [
    "frame.pivot_table(['pop','year'],index=['state'])"
   ]
  },
  {
   "cell_type": "code",
   "execution_count": null,
   "metadata": {},
   "outputs": [],
   "source": [
    "values要汇总的列名或名称; 默认情况下会聚合所有数字列\n",
    "index列名或其他组键，生成的数据透视表的行\n",
    "column列名或其他组键在结果数据透视表的列上分组\n",
    "aggfunc聚合函数或函数列表（默认为'mean'）; 可以是groupby中有效的任何函数\n",
    "上下文\n",
    "fill_value替换结果表中的缺失值\n",
    "dropna如果为True，则不包括条目全部为NA的列\n",
    "边距添加行/列小计和总计（默认为False）"
   ]
  },
  {
   "cell_type": "markdown",
   "metadata": {},
   "source": [
    "# 画图"
   ]
  },
  {
   "cell_type": "code",
   "execution_count": 142,
   "metadata": {},
   "outputs": [],
   "source": [
    "import matplotlib.pyplot as plt"
   ]
  },
  {
   "cell_type": "code",
   "execution_count": 143,
   "metadata": {},
   "outputs": [
    {
     "data": {
      "text/plain": [
       "[<matplotlib.lines.Line2D at 0x122d82990>]"
      ]
     },
     "execution_count": 143,
     "metadata": {},
     "output_type": "execute_result"
    },
    {
     "data": {
      "image/png": "[encoded data removed]",
      "text/plain": [
       "<Figure size 432x288 with 1 Axes>"
      ]
     },
     "metadata": {
      "needs_background": "light"
     },
     "output_type": "display_data"
    }
   ],
   "source": [
    "x,y = np.arange(10),np.sqrt(np.arange(10))\n",
    "plt.plot(x,y)"
   ]
  },
  {
   "cell_type": "code",
   "execution_count": 144,
   "metadata": {},
   "outputs": [
    {
     "data": {
      "text/plain": [
       "[<matplotlib.lines.Line2D at 0x122faf290>]"
      ]
     },
     "execution_count": 144,
     "metadata": {},
     "output_type": "execute_result"
    },
    {
     "data": {
      "image/png": "[encoded data removed]",
      "text/plain": [
       "<Figure size 720x576 with 3 Axes>"
      ]
     },
     "metadata": {
      "needs_background": "light"
     },
     "output_type": "display_data"
    }
   ],
   "source": [
    "fig = plt.figure(figsize=(10,8))\n",
    "ax1 = fig.add_subplot(2, 2, 1)\n",
    "ax2 = fig.add_subplot(2, 2, 2)\n",
    "ax3 = fig.add_subplot(2, 2, 3)\n",
    "ax1.hist(np.random.randn(100), bins=20, color='k', alpha=0.3)\n",
    "ax2.scatter(np.arange(30), np.arange(30) + 3 * np.random.randn(30))\n",
    "ax3.plot(np.random.randn(50).cumsum(), 'k--')"
   ]
  },
  {
   "cell_type": "code",
   "execution_count": 147,
   "metadata": {},
   "outputs": [
    {
     "data": {
      "text/plain": [
       "[<matplotlib.lines.Line2D at 0x123ddc690>]"
      ]
     },
     "execution_count": 147,
     "metadata": {},
     "output_type": "execute_result"
    },
    {
     "data": {
      "image/png": "[encoded data removed]",
      "text/plain": [
       "<Figure size 432x288 with 1 Axes>"
      ]
     },
     "metadata": {
      "needs_background": "light"
     },
     "output_type": "display_data"
    }
   ],
   "source": [
    "plt.plot(x,y,color='r',linestyle='dashed', marker='o')"
   ]
  },
  {
   "cell_type": "code",
   "execution_count": 148,
   "metadata": {},
   "outputs": [
    {
     "data": {
      "text/plain": [
       "<matplotlib.legend.Legend at 0x123dec3d0>"
      ]
     },
     "execution_count": 148,
     "metadata": {},
     "output_type": "execute_result"
    },
    {
     "data": {
      "image/png": "[encoded data removed]",
      "text/plain": [
       "<Figure size 432x288 with 1 Axes>"
      ]
     },
     "metadata": {
      "needs_background": "light"
     },
     "output_type": "display_data"
    }
   ],
   "source": [
    "data = np.random.randn(30).cumsum()\n",
    "plt.plot(data, 'k--', label='Default')\n",
    "plt.plot(data, 'k-', drawstyle='steps-post', label='steps-post')\n",
    "plt.legend(loc='best')"
   ]
  },
  {
   "cell_type": "code",
   "execution_count": 149,
   "metadata": {},
   "outputs": [
    {
     "data": {
      "text/plain": [
       "<matplotlib.legend.Legend at 0x123f039d0>"
      ]
     },
     "execution_count": 149,
     "metadata": {},
     "output_type": "execute_result"
    },
    {
     "data": {
      "image/png": "[encoded data removed]",
      "text/plain": [
       "<Figure size 432x288 with 1 Axes>"
      ]
     },
     "metadata": {
      "needs_background": "light"
     },
     "output_type": "display_data"
    }
   ],
   "source": [
    "fig = plt.figure()\n",
    "ax = fig.add_subplot(1, 1, 1)\n",
    "data=np.random.randn(1000).cumsum()\n",
    "ax.plot(data,label='realtime data')\n",
    "ticks = ax.set_xticks([0, 250, 500, 750, 1000])\n",
    "labels = ax.set_xticklabels(['Q1', 'Q2', 'Q3', 'Q4', 'Q5'],rotation=30, fontsize='small')\n",
    "ax.set_title('My Plot')\n",
    "ax.set_xlabel('Quarter')\n",
    "ax.set_ylabel('Price')\n",
    "ax.annotate('tank', xy=(600,data[600]+10),xytext=(600,data[600]+65),\n",
    "            arrowprops=dict(facecolor='black', headwidth=4, width=2,\n",
    "headlength=4),horizontalalignment='left', verticalalignment='top')\n",
    "plt.legend(loc='best')"
   ]
  },
  {
   "cell_type": "code",
   "execution_count": null,
   "metadata": {},
   "outputs": [],
   "source": [
    "plt.savefig('figpath.png')"
   ]
  },
  {
   "cell_type": "code",
   "execution_count": 150,
   "metadata": {},
   "outputs": [
    {
     "data": {
      "text/html": [
       "<div>\n",
       "<style scoped>\n",
       "    .dataframe tbody tr th:only-of-type {\n",
       "        vertical-align: middle;\n",
       "    }\n",
       "\n",
       "    .dataframe tbody tr th {\n",
       "        vertical-align: top;\n",
       "    }\n",
       "\n",
       "    .dataframe thead th {\n",
       "        text-align: right;\n",
       "    }\n",
       "</style>\n",
       "<table border=\"1\" class=\"dataframe\">\n",
       "  <thead>\n",
       "    <tr style=\"text-align: right;\">\n",
       "      <th></th>\n",
       "      <th>0</th>\n",
       "      <th>1</th>\n",
       "      <th>2</th>\n",
       "    </tr>\n",
       "  </thead>\n",
       "  <tbody>\n",
       "    <tr>\n",
       "      <td>0</td>\n",
       "      <td>0.644550</td>\n",
       "      <td>1.016376</td>\n",
       "      <td>0.298505</td>\n",
       "    </tr>\n",
       "    <tr>\n",
       "      <td>1</td>\n",
       "      <td>1.844421</td>\n",
       "      <td>-1.436472</td>\n",
       "      <td>1.975790</td>\n",
       "    </tr>\n",
       "    <tr>\n",
       "      <td>2</td>\n",
       "      <td>-1.315212</td>\n",
       "      <td>NaN</td>\n",
       "      <td>0.484135</td>\n",
       "    </tr>\n",
       "    <tr>\n",
       "      <td>3</td>\n",
       "      <td>0.790041</td>\n",
       "      <td>NaN</td>\n",
       "      <td>2.957734</td>\n",
       "    </tr>\n",
       "    <tr>\n",
       "      <td>4</td>\n",
       "      <td>0.334275</td>\n",
       "      <td>NaN</td>\n",
       "      <td>NaN</td>\n",
       "    </tr>\n",
       "    <tr>\n",
       "      <td>5</td>\n",
       "      <td>0.839212</td>\n",
       "      <td>NaN</td>\n",
       "      <td>NaN</td>\n",
       "    </tr>\n",
       "  </tbody>\n",
       "</table>\n",
       "</div>"
      ],
      "text/plain": [
       "          0         1         2\n",
       "0  0.644550  1.016376  0.298505\n",
       "1  1.844421 -1.436472  1.975790\n",
       "2 -1.315212       NaN  0.484135\n",
       "3  0.790041       NaN  2.957734\n",
       "4  0.334275       NaN       NaN\n",
       "5  0.839212       NaN       NaN"
      ]
     },
     "execution_count": 150,
     "metadata": {},
     "output_type": "execute_result"
    }
   ],
   "source": [
    "df"
   ]
  },
  {
   "cell_type": "code",
   "execution_count": 151,
   "metadata": {},
   "outputs": [
    {
     "data": {
      "text/plain": [
       "<matplotlib.axes._subplots.AxesSubplot at 0x123fccd90>"
      ]
     },
     "execution_count": 151,
     "metadata": {},
     "output_type": "execute_result"
    },
    {
     "data": {
      "image/png": "[encoded data removed]",
      "text/plain": [
       "<Figure size 432x288 with 1 Axes>"
      ]
     },
     "metadata": {
      "needs_background": "light"
     },
     "output_type": "display_data"
    }
   ],
   "source": [
    "df.columns=['goog','fb','aapl']\n",
    "df.plot()"
   ]
  },
  {
   "cell_type": "code",
   "execution_count": 152,
   "metadata": {},
   "outputs": [
    {
     "data": {
      "image/png": "[encoded data removed]",
      "text/plain": [
       "<Figure size 432x288 with 1 Axes>"
      ]
     },
     "metadata": {
      "needs_background": "light"
     },
     "output_type": "display_data"
    }
   ],
   "source": [
    "from mpl_toolkits.mplot3d import Axes3D\n",
    "\n",
    "def fun(x, y):\n",
    "    return x**2 + y**2\n",
    "\n",
    "fig = plt.figure()\n",
    "ax = fig.add_subplot(111, projection='3d')\n",
    "x = y = np.arange(-3.0, 3.0, 0.05)\n",
    "X, Y = np.meshgrid(x, y)\n",
    "zs = np.array([fun(x,y) for x,y in zip(np.ravel(X), np.ravel(Y))])\n",
    "Z = zs.reshape(X.shape)\n",
    "\n",
    "ax.plot_surface(X, Y, Z)\n",
    "\n",
    "ax.set_xlabel('X Label')\n",
    "ax.set_ylabel('Y Label')\n",
    "ax.set_zlabel('Z Label')\n",
    "\n",
    "plt.show()"
   ]
  },
  {
   "cell_type": "code",
   "execution_count": null,
   "metadata": {},
   "outputs": [],
   "source": []
  }
 ],
 "metadata": {
  "kernelspec": {
   "display_name": "Python 3",
   "language": "python",
   "name": "python3"
  },
  "language_info": {
   "codemirror_mode": {
    "name": "ipython",
    "version": 3
   },
   "file_extension": ".py",
   "mimetype": "text/x-python",
   "name": "python",
   "nbconvert_exporter": "python",
   "pygments_lexer": "ipython3",
   "version": "3.7.4"
  }
 },
 "nbformat": 4,
 "nbformat_minor": 2
}
