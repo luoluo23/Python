{
  "nbformat": 4,
  "nbformat_minor": 0,
  "metadata": {
    "colab": {
      "name": "Algorithms.ipynb",
      "provenance": [],
      "collapsed_sections": [],
      "authorship_tag": "ABX9TyO6DrN2UXIRHscG6QAHwLiY",
      "include_colab_link": true
    },
    "kernelspec": {
      "name": "python3",
      "display_name": "Python 3"
    }
  },
  "cells": [
    {
      "cell_type": "markdown",
      "metadata": {
        "id": "view-in-github",
        "colab_type": "text"
      },
      "source": [
        "<a href=\"https://colab.research.google.com/github/luoluo23/Python/blob/master/Algorithms.ipynb\" target=\"_parent\"><img src=\"https://colab.research.google.com/assets/colab-badge.svg\" alt=\"Open In Colab\"/></a>"
      ]
    },
    {
      "cell_type": "markdown",
      "metadata": {
        "id": "3j1roOvspwhZ"
      },
      "source": [
        "### Bubble  Sort\n",
        "\n",
        "**Example 1:**\n",
        "```\n",
        "Input: nums = [3,6,4,2,11,10,5]\n",
        "Output: [2, 3, 4, 5, 6, 10, 11]\n",
        "```"
      ]
    },
    {
      "cell_type": "code",
      "metadata": {
        "colab": {
          "base_uri": "https://localhost:8080/"
        },
        "id": "BqG_wUE3PCHA",
        "outputId": "86f9621b-3465-42a2-fe76-6d04b4e1f683"
      },
      "source": [
        "def bubbleSort(array):\n",
        "    # Write your code here.\n",
        "    for i in reversed(range(len(array)-1)):\n",
        "        for j in range(i+1):\n",
        "            if array[j+1] < array[j]:\n",
        "                array[j+1], array[j] = array[j], array[j+1]\n",
        "    return array\n",
        "array = [3, 6, 4, 2, 11, 10, 5]\n",
        "BubbleSort(array)"
      ],
      "execution_count": null,
      "outputs": [
        {
          "output_type": "execute_result",
          "data": {
            "text/plain": [
              "[2, 3, 4, 5, 6, 10, 11]"
            ]
          },
          "metadata": {
            "tags": []
          },
          "execution_count": 6
        }
      ]
    },
    {
      "cell_type": "markdown",
      "metadata": {
        "id": "YNJRqW7lBc7D"
      },
      "source": [
        "Bubble Sort is the simplest sorting algorithm that works by repeatedly swapping the adjacent elements if they are in wrong order.\n",
        "After the first iteration, the last number is definitely the largest number, so we don't need to check it in the next iteration.\n",
        "\n",
        "Space = O(1)\n",
        "Time = O(n sqrted)"
      ]
    },
    {
      "cell_type": "markdown",
      "metadata": {
        "id": "xWCiq_aL4eas"
      },
      "source": [
        "### Selection  Sort\n",
        "\n",
        "**Example 1:**\n",
        "```\n",
        "Input: nums = [3,6,4,2,11,10,5]\n",
        "Output: \n",
        "```"
      ]
    },
    {
      "cell_type": "code",
      "metadata": {
        "id": "VYjG5Veea_qm"
      },
      "source": [
        "class Solution(object):\n",
        "  def selection_sort(self, array):\n",
        "    \"\"\"\n",
        "    input: int[] array\n",
        "    return: int[]\n",
        "    \"\"\"\n",
        "    # write your solution here\n",
        "\n",
        "    for i in range(len(array) - 1, 0, -1): \n",
        "      max_index = 0\n",
        "      for j in range(i + 1):\n",
        "        if array[j] > array[max_index]:\n",
        "          max_index = j\n",
        "      array[i], array[max_index] = array[max_index], array[i]\n",
        "    return array\n"
      ],
      "execution_count": null,
      "outputs": []
    },
    {
      "cell_type": "code",
      "metadata": {
        "colab": {
          "base_uri": "https://localhost:8080/"
        },
        "id": "66pxZdANbhYy",
        "outputId": "4995f93f-38cc-4707-d46a-402e212d640f"
      },
      "source": [
        "if __name__ == \"__main__\":\n",
        "    s = Solution()\n",
        "    k = 3\n",
        "    array = [9,2,1,4,3,6,7]\n",
        "    k = 2   \n",
        "    array = [7, 1, 2, 9, 10, 5, 8] \n",
        "\n",
        "    print(s.selection_sort(array))"
      ],
      "execution_count": null,
      "outputs": [
        {
          "output_type": "stream",
          "text": [
            "[1, 2, 5, 7, 8, 9, 10]\n"
          ],
          "name": "stdout"
        }
      ]
    },
    {
      "cell_type": "code",
      "metadata": {
        "colab": {
          "base_uri": "https://localhost:8080/"
        },
        "id": "SCK217_ig9BR",
        "outputId": "2f2ea744-92b4-4841-b8cb-14d769886f2e"
      },
      "source": [
        "def selectionSort(array):\n",
        "    # Write your code here.\n",
        "    CurrentIdx = 0\n",
        "    while CurrentIdx < len(array) - 1:\n",
        "        SmallestIdx = CurrentIdx\n",
        "        for i in range(CurrentIdx + 1, len(array)):\n",
        "            if array[SmallestIdx] > array[i]:\n",
        "                SmallestIdx = i\n",
        "        array[SmallestIdx], array[CurrentIdx] = array[CurrentIdx], array[SmallestIdx]\n",
        "        CurrentIdx += 1\n",
        "    return array\n",
        "\n",
        "\n",
        "array = [7, 1, 2, 9, 10, 5, 8] \n",
        "selectionSort(array)\n",
        "\n",
        "# Space = O(1)\n",
        "# Time = O(n sqrted)"
      ],
      "execution_count": null,
      "outputs": [
        {
          "output_type": "execute_result",
          "data": {
            "text/plain": [
              "[1, 2, 5, 7, 8, 9, 10]"
            ]
          },
          "metadata": {
            "tags": []
          },
          "execution_count": 8
        }
      ]
    },
    {
      "cell_type": "markdown",
      "metadata": {
        "id": "EuPAGtYFNg5m"
      },
      "source": [
        "### Insertion Sort\n",
        "\n",
        "**Example 1:**\n",
        "```\n",
        "Input: array = [8, 5, 2, 9, 5, 6, 3]\n",
        "\n",
        "```\n",
        "\n"
      ]
    },
    {
      "cell_type": "code",
      "metadata": {
        "colab": {
          "base_uri": "https://localhost:8080/"
        },
        "id": "zznuMrjbC6vK",
        "outputId": "36fe11ed-84f3-4a03-8ec9-a06883051f0a"
      },
      "source": [
        "def insertionSort(array):\n",
        "    # Write your code here.\n",
        "    for i in range(1, len(array)):\n",
        "        for j in reversed(range(i)):\n",
        "            if array[j+1] < array[j]:\n",
        "                array[j+1], array[j] = array[j], array[j+1]\n",
        "            else:\n",
        "                break\n",
        "    return array\n",
        "\n",
        "array = [8, 5, 2, 9, 5, 6, 3]\n",
        "insertionSort(array)"
      ],
      "execution_count": null,
      "outputs": [
        {
          "output_type": "execute_result",
          "data": {
            "text/plain": [
              "[2, 3, 5, 5, 6, 8, 9]"
            ]
          },
          "metadata": {
            "tags": []
          },
          "execution_count": 1
        }
      ]
    },
    {
      "cell_type": "markdown",
      "metadata": {
        "id": "UZ8Xf4EXpfYK"
      },
      "source": [
        "#### Quick sort (Algo Expert)\n",
        "Time : Worst: O(N^2) Best: O(Nlog(N)) Avg: O(Nlog(N))\n",
        "\n",
        "Space : O(log(N))\n",
        "\n",
        "Recursion"
      ]
    },
    {
      "cell_type": "code",
      "metadata": {
        "colab": {
          "base_uri": "https://localhost:8080/"
        },
        "id": "GAafXjixpeah",
        "outputId": "e300f7ef-e1ca-446b-dce4-c436f77c123e"
      },
      "source": [
        "# O(nlog(n)) time | O(log(n)) space\n",
        "def quickSort(array):\n",
        "    quickSortHelper(array, 0, len(array) - 1)\n",
        "    return array\n",
        "    \n",
        "def quickSortHelper(array, startIdx, endIdx):\n",
        "    # base case\n",
        "    if startIdx >= endIdx:\n",
        "        return\n",
        "    pivotIdx = startIdx\n",
        "    leftIdx = startIdx + 1\n",
        "    rightIdx = endIdx\n",
        "    while rightIdx >= leftIdx:\n",
        "        if array[leftIdx] > array[pivotIdx] and array[rightIdx] < array[pivotIdx]:\n",
        "            swap(leftIdx, rightIdx, array)\n",
        "        if array[leftIdx] <= array[pivotIdx]:\n",
        "            leftIdx += 1\n",
        "        if array[rightIdx] >= array[pivotIdx]:\n",
        "            rightIdx -= 1\n",
        "    swap(pivotIdx, rightIdx, array)\n",
        "    leftSubarrayIsSmaller = rightIdx - 1 - startIdx < endIdx - (rightIdx + 1)\n",
        "    if leftSubarrayIsSmaller:\n",
        "        quickSortHelper(array, startIdx, rightIdx - 1)\n",
        "        quickSortHelper(array, rightIdx + 1, endIdx)\n",
        "    else:\n",
        "        quickSortHelper(array, rightIdx + 1, endIdx)\n",
        "        quickSortHelper(array, startIdx, rightIdx - 1)\n",
        "\n",
        "def swap(i, j, array):\n",
        "    array[i], array[j] = array[j], array[i]\n",
        "\n",
        "array = [8, 5, 2, 9, 5, 6, 3]\n",
        "quickSort(array)"
      ],
      "execution_count": null,
      "outputs": [
        {
          "output_type": "execute_result",
          "data": {
            "text/plain": [
              "[2, 3, 5, 5, 6, 8, 9]"
            ]
          },
          "metadata": {
            "tags": []
          },
          "execution_count": 4
        }
      ]
    },
    {
      "cell_type": "markdown",
      "metadata": {
        "id": "gqQlpzqkSDrb"
      },
      "source": [
        "#### 509. Fibonacci Number\n",
        "Recursion\n",
        "\n",
        "https://visualgo.net/bn/recursion"
      ]
    },
    {
      "cell_type": "code",
      "metadata": {
        "colab": {
          "base_uri": "https://localhost:8080/"
        },
        "id": "bkT9NCvQSDcG",
        "outputId": "43c98e48-fc73-4297-a5c5-43dcb01abd65"
      },
      "source": [
        "class Solution(object):\n",
        "    def fib(self, n):\n",
        "        \"\"\"\n",
        "        :type n: int\n",
        "        :rtype: int\n",
        "        \"\"\"\n",
        "        # base case\n",
        "        if n<=1:\n",
        "            return n\n",
        "        # recursive rule\n",
        "        return self.fib(n-1) + self.fib(n-2)\n",
        "\n",
        "s = Solution()\n",
        "print(s.fib(5))"
      ],
      "execution_count": null,
      "outputs": [
        {
          "output_type": "stream",
          "text": [
            "5\n"
          ],
          "name": "stdout"
        }
      ]
    },
    {
      "cell_type": "markdown",
      "metadata": {
        "id": "NFEeeK25DpfD"
      },
      "source": [
        "#### Product Sum (Algo Expert)"
      ]
    },
    {
      "cell_type": "code",
      "metadata": {
        "colab": {
          "base_uri": "https://localhost:8080/"
        },
        "id": "QRkt6E5ADyAV",
        "outputId": "2c6b3a3d-10e3-4e7a-c6e5-a8cd066c5b72"
      },
      "source": [
        "def productSum(array, multiplier = 1):\n",
        "    # Write your code here.\n",
        "\tsum = 0\n",
        "\n",
        "\tfor element in array:\n",
        "\t\tif type(element) is list:\n",
        "\t\t\tsum += productSum(element, multiplier + 1)\n",
        "\t\telse:\n",
        "\t\t\tsum += element\n",
        "\treturn sum * multiplier\n",
        "\n",
        "array = [1, [2, 3], 7]\n",
        "productSum(array)"
      ],
      "execution_count": null,
      "outputs": [
        {
          "output_type": "execute_result",
          "data": {
            "text/plain": [
              "18"
            ]
          },
          "metadata": {
            "tags": []
          },
          "execution_count": 2
        }
      ]
    },
    {
      "cell_type": "markdown",
      "metadata": {
        "id": "kRiYlCXJSbvZ"
      },
      "source": [
        "#### Permutation"
      ]
    },
    {
      "cell_type": "code",
      "metadata": {
        "id": "cNy4pUXlPxLu"
      },
      "source": [
        "def getPermutations(array):\n",
        "    permutations = []\n",
        "    permutationsHelper(array, [], permutations)\n",
        "    return permutations\n",
        "\n",
        "def permutationsHelper(array, currentPermutation, permutations):\n",
        "    if not len(array) and len(currentPermutation):\n",
        "        permutations.append(currentPermutation)\n",
        "    else:\n",
        "        for i in range(len(array)):\n",
        "            newArray = array[:i] + array[i+1:]\n",
        "            newPermutation = currentPermutation + [array[i]]\n",
        "            permutationsHelper(newArray, newPermutation, permutations)"
      ],
      "execution_count": null,
      "outputs": []
    },
    {
      "cell_type": "code",
      "metadata": {
        "id": "oc6zfuItk7Dd"
      },
      "source": [
        "# O(n*n!) time | O(n*n!) space\n",
        "def getPermutations(array):\n",
        "    permutations = []\n",
        "    permutationsHelper(0, array, permutations)\n",
        "    return permutations\n",
        "\n",
        "def permutationsHelper(i, array, permutations):\n",
        "    if i == len(array) - 1:\n",
        "        permutations.append(array[:])\n",
        "    else:\n",
        "        for j in range(i, len(array)):\n",
        "            swap(array, i, j)\n",
        "            permutationsHelper(i + 1, array, permutations)\n",
        "            swap(array, i, j)\n",
        "\n",
        "def swap(array, i, j):\n",
        "    array[i], array[j] == array[j], array[i]\n"
      ],
      "execution_count": null,
      "outputs": []
    },
    {
      "cell_type": "markdown",
      "metadata": {
        "id": "_BJLhPHtclIH"
      },
      "source": [
        "#### 78. Subsets"
      ]
    },
    {
      "cell_type": "code",
      "metadata": {
        "id": "CVyd5GpvbpBd"
      },
      "source": [
        "# iterative\n",
        "## O(n * 2^n) time | O(n * 2^n) space\n",
        "nums = [1,2,3]\n",
        "def subsets(self, nums):\n",
        "    subsets = [[]]\n",
        "    for ele in nums:\n",
        "        for i in range(len(subsets)):\n",
        "            currentSubset = subsets[i]\n",
        "            subsets.append(currentSubset + [ele])\n",
        "    return subsets"
      ],
      "execution_count": null,
      "outputs": []
    },
    {
      "cell_type": "code",
      "metadata": {
        "id": "3UX9HaUye3Af"
      },
      "source": [
        "# recursive\n",
        "## O(n * 2^n) time | O(n * 2^n) space\n",
        "def powerset(array, idx = None):\n",
        "    if idx is None:\n",
        "        idx = len(array) - 1\n",
        "    elif idx < 0:\n",
        "        return [[]]\n",
        "    ele = array[idx]\n",
        "    subsets = power(array, idx -1)\n",
        "    for i in range(len(subsets)):\n",
        "        subsets.append(currentSubset + [ele])\n",
        "    return subsets\n",
        "\n",
        "\n"
      ],
      "execution_count": null,
      "outputs": []
    },
    {
      "cell_type": "markdown",
      "metadata": {
        "id": "v1jbX13FrrMc"
      },
      "source": [
        "### Three Number Sort (AlgoExpert)"
      ]
    },
    {
      "cell_type": "code",
      "metadata": {
        "colab": {
          "base_uri": "https://localhost:8080/"
        },
        "id": "JU_DllnFrpuB",
        "outputId": "35be6b64-c5c8-488d-974f-cd7a7c74e411"
      },
      "source": [
        "def threeNumberSort(array, order):\n",
        "    # Write your code here.\n",
        "    firstValue = order[0]\n",
        "    secondValue = order[1]\n",
        "\n",
        "    firstIdx, secondIdx, thirdIdx = 0, 0, len(array)-1\n",
        "\n",
        "    while secondIdx <= thirdIdx:\n",
        "        value = array[secondIdx]\n",
        "        if value == firstValue:\n",
        "            array[firstIdx], array[secondIdx] = array[secondIdx], array[firstIdx]\n",
        "            firstIdx +=1\n",
        "            secondIdx += 1\n",
        "        elif value == secondValue:\n",
        "            secondIdx += 1\n",
        "        else:\n",
        "            array[secondIdx], array[thirdIdx] = array[thirdIdx], array[secondIdx]\n",
        "            thirdIdx -=1\n",
        "    return array\n",
        "\n",
        "\n",
        "array = [ 2, 3, 1, 3, 2, 1, 2, 1, 1]\n",
        "order = [1, 2, 3]\n",
        "\n",
        "threeNumberSort(array, order)"
      ],
      "execution_count": null,
      "outputs": [
        {
          "output_type": "execute_result",
          "data": {
            "text/plain": [
              "[1, 1, 1, 1, 2, 2, 2, 3, 3]"
            ]
          },
          "metadata": {
            "tags": []
          },
          "execution_count": 1
        }
      ]
    },
    {
      "cell_type": "markdown",
      "metadata": {
        "id": "gqmFj1Lap9NU"
      },
      "source": [
        "### 704. Binary Search\n",
        "Given a **sorted** (in ascending order) integer array `nums` of `n` elements and a `target` value, write a function to search `target` in `nums`. If `target` exists, then return its index, otherwise return `-1`.\n",
        "\n",
        "\n",
        "**Example 1:**\n",
        "```\n",
        "Input: nums = [-1,0,3,5,9,12], target = 9\n",
        "Output: 4\n",
        "Explanation: 9 exists in nums and its index is 4\n",
        "```\n",
        "\n",
        "\n"
      ]
    },
    {
      "cell_type": "code",
      "metadata": {
        "id": "3-CyJ7gsjq2Y",
        "colab": {
          "base_uri": "https://localhost:8080/"
        },
        "outputId": "e626f900-b475-4ba2-a085-409561f7ac19"
      },
      "source": [
        "class Solution:\n",
        "    def search(self, nums, target):\n",
        "        left = 0\n",
        "        right = len(nums) - 1\n",
        "        while left <= right:\n",
        "            mid = (left + right) // 2\n",
        "            if nums[mid] < target:\n",
        "                left = mid + 1\n",
        "            elif nums[mid] > target:\n",
        "                right = mid - 1\n",
        "            else:\n",
        "                return mid\n",
        "        return -1\n",
        "\n",
        "if __name__ == \"__main__\":\n",
        "    s = Solution()\n",
        "    nums = [-1,0,3,5,9,12]\n",
        "    target = 9\n",
        "    print (s.search(nums, target))"
      ],
      "execution_count": null,
      "outputs": [
        {
          "output_type": "stream",
          "text": [
            "4\n"
          ],
          "name": "stdout"
        }
      ]
    },
    {
      "cell_type": "code",
      "metadata": {
        "id": "0NPG_ERkGxfp",
        "colab": {
          "base_uri": "https://localhost:8080/",
          "height": 317
        },
        "outputId": "32f8f2cf-5189-4be7-84d1-3bf76fd705a5"
      },
      "source": [
        "class Solution:\n",
        "    def search(self, nums, target):\n",
        "        left = 0\n",
        "        right = len(nums) - 1\n",
        "        while left <= right:\n",
        "            mid = (left + right) // 2\n",
        "            if nums[mid] >= target:\n",
        "                right = mid\n",
        "            elif nums[mid] < target:\n",
        "                left = mid + 1\n",
        "            else:\n",
        "                return mid\n",
        "        return -1\n",
        "\n",
        "if __name__ == \"__main__\":\n",
        "    s = Solution()\n",
        "    nums = [1, 2, 2, 2, 3]\n",
        "    target = 2\n",
        "    print (s.search(nums, target))"
      ],
      "execution_count": null,
      "outputs": [
        {
          "output_type": "error",
          "ename": "KeyboardInterrupt",
          "evalue": "ignored",
          "traceback": [
            "\u001b[0;31m---------------------------------------------------------------------------\u001b[0m",
            "\u001b[0;31mKeyboardInterrupt\u001b[0m                         Traceback (most recent call last)",
            "\u001b[0;32m<ipython-input-3-60aaba863297>\u001b[0m in \u001b[0;36m<module>\u001b[0;34m()\u001b[0m\n\u001b[1;32m     17\u001b[0m     \u001b[0mnums\u001b[0m \u001b[0;34m=\u001b[0m \u001b[0;34m[\u001b[0m\u001b[0;36m1\u001b[0m\u001b[0;34m,\u001b[0m \u001b[0;36m2\u001b[0m\u001b[0;34m,\u001b[0m \u001b[0;36m2\u001b[0m\u001b[0;34m,\u001b[0m \u001b[0;36m2\u001b[0m\u001b[0;34m,\u001b[0m \u001b[0;36m3\u001b[0m\u001b[0;34m]\u001b[0m\u001b[0;34m\u001b[0m\u001b[0;34m\u001b[0m\u001b[0m\n\u001b[1;32m     18\u001b[0m     \u001b[0mtarget\u001b[0m \u001b[0;34m=\u001b[0m \u001b[0;36m2\u001b[0m\u001b[0;34m\u001b[0m\u001b[0;34m\u001b[0m\u001b[0m\n\u001b[0;32m---> 19\u001b[0;31m     \u001b[0mprint\u001b[0m \u001b[0;34m(\u001b[0m\u001b[0ms\u001b[0m\u001b[0;34m.\u001b[0m\u001b[0msearch\u001b[0m\u001b[0;34m(\u001b[0m\u001b[0mnums\u001b[0m\u001b[0;34m,\u001b[0m \u001b[0mtarget\u001b[0m\u001b[0;34m)\u001b[0m\u001b[0;34m)\u001b[0m\u001b[0;34m\u001b[0m\u001b[0;34m\u001b[0m\u001b[0m\n\u001b[0m",
            "\u001b[0;32m<ipython-input-3-60aaba863297>\u001b[0m in \u001b[0;36msearch\u001b[0;34m(self, nums, target)\u001b[0m\n\u001b[1;32m      5\u001b[0m         \u001b[0;32mwhile\u001b[0m \u001b[0mleft\u001b[0m \u001b[0;34m<=\u001b[0m \u001b[0mright\u001b[0m\u001b[0;34m:\u001b[0m\u001b[0;34m\u001b[0m\u001b[0;34m\u001b[0m\u001b[0m\n\u001b[1;32m      6\u001b[0m             \u001b[0mmid\u001b[0m \u001b[0;34m=\u001b[0m \u001b[0;34m(\u001b[0m\u001b[0mleft\u001b[0m \u001b[0;34m+\u001b[0m \u001b[0mright\u001b[0m\u001b[0;34m)\u001b[0m \u001b[0;34m//\u001b[0m \u001b[0;36m2\u001b[0m\u001b[0;34m\u001b[0m\u001b[0;34m\u001b[0m\u001b[0m\n\u001b[0;32m----> 7\u001b[0;31m             \u001b[0;32mif\u001b[0m \u001b[0mnums\u001b[0m\u001b[0;34m[\u001b[0m\u001b[0mmid\u001b[0m\u001b[0;34m]\u001b[0m \u001b[0;34m>=\u001b[0m \u001b[0mtarget\u001b[0m\u001b[0;34m:\u001b[0m\u001b[0;34m\u001b[0m\u001b[0;34m\u001b[0m\u001b[0m\n\u001b[0m\u001b[1;32m      8\u001b[0m                 \u001b[0mright\u001b[0m \u001b[0;34m=\u001b[0m \u001b[0mmid\u001b[0m\u001b[0;34m\u001b[0m\u001b[0;34m\u001b[0m\u001b[0m\n\u001b[1;32m      9\u001b[0m             \u001b[0;32melif\u001b[0m \u001b[0mnums\u001b[0m\u001b[0;34m[\u001b[0m\u001b[0mmid\u001b[0m\u001b[0;34m]\u001b[0m \u001b[0;34m<\u001b[0m \u001b[0mtarget\u001b[0m\u001b[0;34m:\u001b[0m\u001b[0;34m\u001b[0m\u001b[0;34m\u001b[0m\u001b[0m\n",
            "\u001b[0;31mKeyboardInterrupt\u001b[0m: "
          ]
        }
      ]
    },
    {
      "cell_type": "code",
      "metadata": {
        "id": "zRA5eWBRE-r2"
      },
      "source": [
        "class Solution(object):\n",
        "    def firstOccur(self, array, target):\n",
        "        \"\"\"\n",
        "        input: int[] array, int target\n",
        "        return: int\n",
        "        \"\"\"\n",
        "        # write your solution here\n",
        "        left = 0\n",
        "        right = len(nums) - 1\n",
        "        while left <= right:\n",
        "            mid = (left + right) // 2\n",
        "            if nums[mid] < target:\n",
        "                left = mid + 1\n",
        "            elif nums[mid] > target:\n",
        "                right = mid - 1\n",
        "            else:\n",
        "                return mid\n",
        "        return -1\n",
        "\n",
        "if __name__ == \"__main__\":\n",
        "    s = Solution()\n",
        "    array = [1, 2, 2, 2, 3]\n",
        "    target = 2\n",
        "    print(s.firstOccur(array, target))"
      ],
      "execution_count": null,
      "outputs": []
    },
    {
      "cell_type": "markdown",
      "metadata": {
        "id": "8_P9maowtL7e"
      },
      "source": [
        "#### 344. Reverse String\n",
        "Write a function that reverses a string. The input string is given as an array of characters s.\n",
        "\n",
        "\n",
        "**Example 1:**\n",
        "```\n",
        "Input: s = [\"h\",\"e\",\"l\",\"l\",\"o\"]\n",
        "Output: [\"o\",\"l\",\"l\",\"e\",\"h\"]\n",
        "```\n"
      ]
    },
    {
      "cell_type": "code",
      "metadata": {
        "colab": {
          "base_uri": "https://localhost:8080/"
        },
        "id": "KIIEZgZ4tKuN",
        "outputId": "e00937e8-be1e-4c3a-caeb-2d5c90936c88"
      },
      "source": [
        "class Solution(object):\n",
        "    def reverseString(self, s):\n",
        "        \"\"\"\n",
        "        :type s: List[str]\n",
        "        :rtype: None Do not return anything, modify s in-place instead.\n",
        "        \"\"\"\n",
        "        for i in range(len(s)//2):\n",
        "            j = len(s) - i - 1\n",
        "            s[i], s[j] = s[j], s[i]\n",
        "        return s\n",
        "\n",
        "\n",
        "if __name__ == \"__main__\":\n",
        "    Solu = Solution()\n",
        "    s = [\"h\",\"e\",\"l\",\"l\",\"o\"]\n",
        "    print(Solu.reverseString(s))\n",
        "\n"
      ],
      "execution_count": null,
      "outputs": [
        {
          "output_type": "stream",
          "text": [
            "['o', 'l', 'l', 'e', 'h']\n"
          ],
          "name": "stdout"
        }
      ]
    },
    {
      "cell_type": "markdown",
      "metadata": {
        "id": "IEZYo38e97y5"
      },
      "source": [
        "#### 125. Valid Palindrome"
      ]
    },
    {
      "cell_type": "code",
      "metadata": {
        "colab": {
          "base_uri": "https://localhost:8080/"
        },
        "id": "G2jHQZ4L4bS1",
        "outputId": "f1a23ab6-afa4-468a-fac5-2b6d4f7fe3d9"
      },
      "source": [
        "def isPalindrome(s):\n",
        "    \"\"\"\n",
        "    :type s: str\n",
        "    :rtype: bool\n",
        "    \"\"\"\n",
        "    s = ''.join(c for c in s if c.isalnum())\n",
        "    for i in range(len(s) // 2):\n",
        "        if s[i].lower() != s[len(s) - 1 - i].lower():\n",
        "            return False\n",
        "    return True\n",
        "\n",
        "s = \"A man, a plan, a canal: Panama\"\n",
        "isPalindrome(s)"
      ],
      "execution_count": null,
      "outputs": [
        {
          "output_type": "execute_result",
          "data": {
            "text/plain": [
              "True"
            ]
          },
          "metadata": {
            "tags": []
          },
          "execution_count": 11
        }
      ]
    },
    {
      "cell_type": "markdown",
      "metadata": {
        "id": "v9TR9pnSBZpW"
      },
      "source": [
        "#### Algo expert. Caesar Cipher Encryptor"
      ]
    },
    {
      "cell_type": "code",
      "metadata": {
        "colab": {
          "base_uri": "https://localhost:8080/",
          "height": 35
        },
        "id": "g10RMkj2AUbc",
        "outputId": "cdabed8f-464e-4fce-a00c-862188c7e032"
      },
      "source": [
        "def caesarCipherEncryptor(string, key):\n",
        "    # Write your code here.\n",
        "    res = ''\n",
        "    for i in range(len(string)):\n",
        "        if ord(string[i]) + key > 122 and key // 26 > 0:\n",
        "            res += chr(ord(string[i]) + key - key // 26 * 26)\n",
        "        elif ord(string[i]) + key > 122:\n",
        "            res += chr(ord(string[i]) + key - 26)\n",
        "        else:\n",
        "            res += chr(ord(string[i]) + key)\n",
        "    return res\n",
        "\n",
        "string = 'xyz'\n",
        "key = 2\n",
        "caesarCipherEncryptor(string, key)"
      ],
      "execution_count": null,
      "outputs": [
        {
          "output_type": "execute_result",
          "data": {
            "application/vnd.google.colaboratory.intrinsic+json": {
              "type": "string"
            },
            "text/plain": [
              "'zab'"
            ]
          },
          "metadata": {
            "tags": []
          },
          "execution_count": 34
        }
      ]
    },
    {
      "cell_type": "markdown",
      "metadata": {
        "id": "Ommm6iRKczrV"
      },
      "source": [
        "#### Generate Document (Algo Expert)\n"
      ]
    },
    {
      "cell_type": "code",
      "metadata": {
        "colab": {
          "base_uri": "https://localhost:8080/"
        },
        "id": "9zpngldNkoJ-",
        "outputId": "0420fea9-71fd-41ab-be22-2f1866bb432b"
      },
      "source": [
        "def generateDocument(characters, document):\n",
        "    # Write your code here.\n",
        "    dic = {}\n",
        "    for i in range(len(characters)):\n",
        "        if characters[i] in dic:\n",
        "            dic[characters[i]] += 1\n",
        "        else:\n",
        "            dic[characters[i]] = 1\n",
        "    for i in range(len(document)):\n",
        "        if document[i] in dic and dic[document[i]] > 0:\n",
        "            dic[document[i]] -= 1\n",
        "        else:\n",
        "            return False\n",
        "    return True\n",
        "\n",
        "characters = 'abc'\n",
        "document = 'cba'\n",
        "generateDocument(characters, document)"
      ],
      "execution_count": null,
      "outputs": [
        {
          "output_type": "execute_result",
          "data": {
            "text/plain": [
              "True"
            ]
          },
          "metadata": {
            "tags": []
          },
          "execution_count": 9
        }
      ]
    },
    {
      "cell_type": "markdown",
      "metadata": {
        "id": "zvMUPCFRgnYd"
      },
      "source": [
        "#### 345. Reverse Vowels of a String"
      ]
    },
    {
      "cell_type": "code",
      "metadata": {
        "colab": {
          "base_uri": "https://localhost:8080/",
          "height": 35
        },
        "id": "SxnD4an0gnJ8",
        "outputId": "b29314e7-4bf9-476f-d0e1-71cfee7f5410"
      },
      "source": [
        "def reverseVowels(s):\n",
        "    \"\"\"\n",
        "    :type s: str\n",
        "    :rtype: str\n",
        "    \"\"\"\n",
        "\n",
        "    mInd = 0\n",
        "    lInd = len(s) - 1\n",
        "    s = list(s)\n",
        "    # for mInd in range(len(s)):\n",
        "        # if i\n",
        "    while mInd <= lInd:\n",
        "        if s[mInd] in 'aeiouAEIOU':\n",
        "            while s[lInd] not in 'aeiouAEIOU':\n",
        "                lInd -= 1\n",
        "            s[mInd], s[lInd] = s[lInd], s[mInd]\n",
        "            lInd-=1\n",
        "        mInd += 1\n",
        "    res = ''\n",
        "    for i in s:\n",
        "        res += i\n",
        "    return res\n",
        "\n",
        "s = 'aA'\n",
        "reverseVowels(s)"
      ],
      "execution_count": null,
      "outputs": [
        {
          "output_type": "execute_result",
          "data": {
            "application/vnd.google.colaboratory.intrinsic+json": {
              "type": "string"
            },
            "text/plain": [
              "'Aa'"
            ]
          },
          "metadata": {
            "tags": []
          },
          "execution_count": 10
        }
      ]
    },
    {
      "cell_type": "markdown",
      "metadata": {
        "id": "YxgDVBWR0khL"
      },
      "source": [
        "#### Tournament Winner"
      ]
    },
    {
      "cell_type": "code",
      "metadata": {
        "colab": {
          "base_uri": "https://localhost:8080/",
          "height": 35
        },
        "id": "h_PveFwcuiS1",
        "outputId": "dacd1aae-55d0-4029-d283-ab3e261b3152"
      },
      "source": [
        "def tournamentWinner(competitions, results):\n",
        "    # Write your code here.\n",
        "    res = {'': 0}\n",
        "    largest = ''\n",
        "    for i in range(len(results)):\n",
        "        # if results = 0:\n",
        "        if competitions[i][0] in res:\n",
        "            res[competitions[i][0]] += results[i]\n",
        "        else:\n",
        "            res[competitions[i][0]] = results[i]\n",
        "        if competitions[i][1] in res:\n",
        "            res[competitions[i][1]] += 1 - results[i]\n",
        "        else:\n",
        "            res[competitions[i][1]] = 1 - results[i]\n",
        "        if res[competitions[i][1]] > res[largest]:\n",
        "            largest = competitions[i][1]\n",
        "        if res[competitions[i][0]] > res[largest]:\n",
        "            largest = competitions[i][0]\n",
        "    return largest\n",
        "\n",
        "competitions = [['H', 'J'], ['J', 'P'], ['P', 'H']]\n",
        "results = [0, 1, 1]\n",
        "tournamentWinner(competitions, results)"
      ],
      "execution_count": null,
      "outputs": [
        {
          "output_type": "execute_result",
          "data": {
            "application/vnd.google.colaboratory.intrinsic+json": {
              "type": "string"
            },
            "text/plain": [
              "'J'"
            ]
          },
          "metadata": {
            "tags": []
          },
          "execution_count": 20
        }
      ]
    },
    {
      "cell_type": "code",
      "metadata": {
        "colab": {
          "base_uri": "https://localhost:8080/"
        },
        "id": "mBDaLkWTljWU",
        "outputId": "c4fe35b0-355c-419e-d1c0-f58f686516cb"
      },
      "source": [
        "def decodeString(s):\n",
        "    for i in s:\n",
        "        print(i.isnumeric())\n",
        "    pass\n",
        "\n",
        "def subfuc(l):\n",
        "    return \n",
        "s = '3[a]2[bc]'\n",
        "decodeString(s)"
      ],
      "execution_count": null,
      "outputs": [
        {
          "output_type": "stream",
          "text": [
            "True\n",
            "False\n",
            "False\n",
            "False\n",
            "True\n",
            "False\n",
            "False\n",
            "False\n",
            "False\n"
          ],
          "name": "stdout"
        }
      ]
    },
    {
      "cell_type": "markdown",
      "metadata": {
        "id": "-mYLiKtzE7q8"
      },
      "source": [
        "### remove_duplicate"
      ]
    },
    {
      "cell_type": "code",
      "metadata": {
        "id": "2JZjQOlxHmGE"
      },
      "source": [
        "class Solution:\n",
        "  def remove_duplicate(self, str):\n",
        "    if not str or len(str) < 2:\n",
        "      return str\n",
        "    lst = list(str)\n",
        "    slow, fast = 1, 1\n",
        "    while fast < len(lst):\n",
        "      if lst[fast] != lst[slow - 1]:\n",
        "        lst[slow] = lst[fast]\n",
        "        slow += 1\n",
        "      fast += 1\n",
        "    return \"\".join(lst[:slow])"
      ],
      "execution_count": null,
      "outputs": []
    },
    {
      "cell_type": "code",
      "metadata": {
        "id": "4YlD-dfbHqoL",
        "colab": {
          "base_uri": "https://localhost:8080/",
          "height": 34
        },
        "outputId": "7ae68db9-b02b-479d-e0e7-c22536549d6a"
      },
      "source": [
        "if __name__ == \"__main__\":\n",
        "    s = Solution()\n",
        "    str = 'aabbbccddcc'\n",
        "    # str = \"aaabbbaaa\"\n",
        "    print(s.remove_duplicate(str))"
      ],
      "execution_count": null,
      "outputs": [
        {
          "output_type": "stream",
          "text": [
            "abcdc\n"
          ],
          "name": "stdout"
        }
      ]
    },
    {
      "cell_type": "markdown",
      "metadata": {
        "id": "29eHUx--3AEX"
      },
      "source": [
        "#### 1672. Richest Customer Wealth"
      ]
    },
    {
      "cell_type": "code",
      "metadata": {
        "colab": {
          "base_uri": "https://localhost:8080/"
        },
        "id": "WGFz3R_D3EWM",
        "outputId": "dc561811-4229-4db8-8798-219f447d37aa"
      },
      "source": [
        "def maximumWealth(accounts):\n",
        "    \"\"\"\n",
        "    :type accounts: List[List[int]]\n",
        "    :rtype: int\n",
        "    \"\"\"\n",
        "    wealth = []\n",
        "    for i in range(len(accounts)):\n",
        "        w = 0\n",
        "        for j in range(len(accounts[i])):\n",
        "            w += accounts[i][j]\n",
        "            # print(w)\n",
        "        wealth.append(w)\n",
        "    return max(wealth)\n",
        "accounts = [[1,2,3],[3,2,1]]\n",
        "maximumWealth(accounts)"
      ],
      "execution_count": null,
      "outputs": [
        {
          "output_type": "execute_result",
          "data": {
            "text/plain": [
              "6"
            ]
          },
          "metadata": {
            "tags": []
          },
          "execution_count": 2
        }
      ]
    },
    {
      "cell_type": "code",
      "metadata": {
        "colab": {
          "base_uri": "https://localhost:8080/"
        },
        "id": "hJQmcXAD4G1B",
        "outputId": "82c2b0b5-d8ba-4f99-8744-ae2b6a530cfb"
      },
      "source": [
        "for i in range(len(accounts)):\n",
        "    w = 0\n",
        "    for j in range(len(accounts[i])):\n",
        "        print(accounts[i][j])"
      ],
      "execution_count": null,
      "outputs": [
        {
          "output_type": "stream",
          "text": [
            "1\n",
            "2\n",
            "3\n",
            "3\n",
            "2\n",
            "1\n"
          ],
          "name": "stdout"
        }
      ]
    },
    {
      "cell_type": "markdown",
      "metadata": {
        "id": "Gii-DZmuFCy2"
      },
      "source": [
        "### ksmallest"
      ]
    },
    {
      "cell_type": "code",
      "metadata": {
        "id": "QbUR1MfWIgGB",
        "colab": {
          "base_uri": "https://localhost:8080/"
        },
        "outputId": "7c66106d-5f26-4f7a-c290-0400e396dd24"
      },
      "source": [
        "\n",
        "import heapq\n",
        "class Solution:\n",
        "  def kSmallest(self, array, k):\n",
        "    if not array:\n",
        "      return []\n",
        "    res = []\n",
        "    heapq.heapify(array)\n",
        "    for i in range(min(k, len(array))):\n",
        "      res.append(heapq.heappop(array))\n",
        "    return res\n",
        "\n",
        "if __name__ == \"__main__\":\n",
        "    s = Solution()\n",
        "    k = 3\n",
        "    array = [9,2,1,4,3,6,7]\n",
        "    k = 2   \n",
        "    array = [7, 1, 2, 9, 10]   \n",
        "    print(s.kSmallest(array, k))"
      ],
      "execution_count": null,
      "outputs": [
        {
          "output_type": "stream",
          "text": [
            "[1, 2]\n"
          ],
          "name": "stdout"
        }
      ]
    },
    {
      "cell_type": "markdown",
      "metadata": {
        "id": "ZHfCj6Ep7NjF"
      },
      "source": [
        "\n",
        "### Two Number Sum\n",
        "\n",
        "**Example 1:**\n",
        "```\n",
        "Input: array = [2,7,11,15], targetSum = 9\n",
        "Output: [2,7]\n",
        "```"
      ]
    },
    {
      "cell_type": "code",
      "metadata": {
        "colab": {
          "base_uri": "https://localhost:8080/"
        },
        "id": "UsnHzNui7pje",
        "outputId": "1a82aede-cf48-4e95-c5f3-145ef62d8ab1"
      },
      "source": [
        "def twoNumberSum(array, targetSum):\n",
        "    # Write your code here.\n",
        "\tres = []\n",
        "\tfor i in range(len(array) - 1):\n",
        "\t\tfor j in range(i+1, len(array)):\n",
        "\t\t\tif array[i] + array[j] == targetSum:\n",
        "\t\t\t\treturn[array[i], array[j]]\n",
        "\treturn []\n",
        "array = [2,7,11,15]\n",
        "targetSum = 9\n",
        "twoNumberSum(array, targetSum)"
      ],
      "execution_count": null,
      "outputs": [
        {
          "output_type": "execute_result",
          "data": {
            "text/plain": [
              "[2, 7]"
            ]
          },
          "metadata": {
            "tags": []
          },
          "execution_count": 33
        }
      ]
    },
    {
      "cell_type": "markdown",
      "metadata": {
        "id": "hE8MYWpoB_m3"
      },
      "source": [
        "### 977. Squares of a Sorted Array\n",
        "\n",
        "**Example 1:**\n",
        "```\n",
        "Input: nums = [-4,-1,0,3,10]\n",
        "Output: [0,1,9,16,100]\n",
        "Explanation: After squaring, the array becomes [16,1,0,9,100].\n",
        "After sorting, it becomes [0,1,9,16,100].\n",
        "```"
      ]
    },
    {
      "cell_type": "code",
      "metadata": {
        "colab": {
          "base_uri": "https://localhost:8080/"
        },
        "id": "VfSlXOsA9cnQ",
        "outputId": "1753a01d-e3c7-404e-c59e-34bb3ed5ebbc"
      },
      "source": [
        "def sortedSquaredArray(array):\n",
        "    # Write your code here.\n",
        "    res =[]\n",
        "    for i in nums:\n",
        "        res.append(i*i)\n",
        "    res.sort()\n",
        "    return res\n",
        "\n",
        "nums = [-4,-1,0,3,10]\n",
        "sortedSquaredArray(array)"
      ],
      "execution_count": null,
      "outputs": [
        {
          "output_type": "execute_result",
          "data": {
            "text/plain": [
              "[0, 1, 9, 16, 100]"
            ]
          },
          "metadata": {
            "tags": []
          },
          "execution_count": 6
        }
      ]
    },
    {
      "cell_type": "code",
      "metadata": {
        "colab": {
          "base_uri": "https://localhost:8080/"
        },
        "id": "KxYT6Aq4RQn8",
        "outputId": "8282cc1e-4307-4935-af56-9d88b136c197"
      },
      "source": [
        "n = 234\n",
        "for i in range(len(str(n))):\n",
        "    print(i)"
      ],
      "execution_count": null,
      "outputs": [
        {
          "output_type": "stream",
          "text": [
            "0\n",
            "1\n",
            "2\n"
          ],
          "name": "stdout"
        }
      ]
    },
    {
      "cell_type": "code",
      "metadata": {
        "id": "2S4LvAIIuCku"
      },
      "source": [
        "s = \"3[a]2[bc]\"\n",
        "def decodeString(s):\n",
        "    \n",
        "def decodeStringHelper(s, k):\n",
        "    if '[' not in s:\n",
        "        return s * k\n",
        "    else:\n",
        "        for i in range(s):\n",
        "            if s[i] == '[':\n",
        "                l = int(s[:i])\n",
        "                b = i\n",
        "            elif:\n",
        "                \n",
        "\n",
        "\n"
      ],
      "execution_count": null,
      "outputs": []
    },
    {
      "cell_type": "code",
      "metadata": {
        "colab": {
          "base_uri": "https://localhost:8080/"
        },
        "id": "0Zs8WLMj3FnY",
        "outputId": "7c48f9fd-4cb9-407b-f939-6fca6fda6ccd"
      },
      "source": [
        "s = '2bc'\n",
        "n = 2\n",
        "int(s[:1])"
      ],
      "execution_count": null,
      "outputs": [
        {
          "output_type": "execute_result",
          "data": {
            "text/plain": [
              "2"
            ]
          },
          "metadata": {
            "tags": []
          },
          "execution_count": 5
        }
      ]
    },
    {
      "cell_type": "markdown",
      "metadata": {
        "id": "1V6B5Rxx7yZW"
      },
      "source": [
        "652. Common Numbers Of Two Sorted Arrays(Array version)\n",
        "\n",
        "Laicode easy\n",
        "\n",
        "2021-06-28 1"
      ]
    },
    {
      "cell_type": "code",
      "metadata": {
        "colab": {
          "base_uri": "https://localhost:8080/"
        },
        "id": "xMcd3KK53IlM",
        "outputId": "baf5092a-3768-40e7-add7-10eea6ddb73e"
      },
      "source": [
        "A = [1, 1, 2, 2, 3]\n",
        "B = [1, 1, 2, 5, 6]\n",
        "def common(A, B):\n",
        "    i , j = 0, 0\n",
        "    res = []\n",
        "    while i < len(A) and j < len(B):\n",
        "        if A[i] == B[j]:\n",
        "            res.append(A[i])\n",
        "            i += 1\n",
        "            j += 1\n",
        "        elif A[i] < B[j]:\n",
        "            i += 1\n",
        "        else:\n",
        "            j += 1 \n",
        "    return res\n",
        "\n",
        "common(A, B)\n"
      ],
      "execution_count": null,
      "outputs": [
        {
          "output_type": "execute_result",
          "data": {
            "text/plain": [
              "[1, 1, 2]"
            ]
          },
          "metadata": {
            "tags": []
          },
          "execution_count": 22
        }
      ]
    },
    {
      "cell_type": "code",
      "metadata": {
        "colab": {
          "base_uri": "https://localhost:8080/"
        },
        "id": "9xDYAi-U5iPZ",
        "outputId": "1999adc8-56d9-41e8-8c00-328200ff0355"
      },
      "source": [
        "res = []\n",
        "\n",
        "res.append(1)\n",
        "res"
      ],
      "execution_count": null,
      "outputs": [
        {
          "output_type": "execute_result",
          "data": {
            "text/plain": [
              "[1]"
            ]
          },
          "metadata": {
            "tags": []
          },
          "execution_count": 20
        }
      ]
    },
    {
      "cell_type": "markdown",
      "metadata": {
        "id": "XQl5FOpEAPyO"
      },
      "source": [
        "281. Remove Spaces\n",
        "\n",
        "Laicode\n",
        "\n",
        "2021-06 -28 1"
      ]
    },
    {
      "cell_type": "code",
      "metadata": {
        "colab": {
          "base_uri": "https://localhost:8080/",
          "height": 35
        },
        "id": "QfDdAuvK6Wkb",
        "outputId": "5baa561e-60da-4800-b29a-006f12b3793b"
      },
      "source": [
        "s = '   I     love MTV '\n",
        "def removeSpaces(s):\n",
        "    i = 0\n",
        "    p = ''\n",
        "    while i < len(s):\n",
        "        if s[i] == ' ':\n",
        "            if i == 0:\n",
        "                pass\n",
        "            elif s[i-1] == ' ':\n",
        "                pass\n",
        "            elif i == len(s) - 1:\n",
        "                pass\n",
        "            else:\n",
        "                p = p + s[i]\n",
        "        else:\n",
        "            p = p + s[i]\n",
        "        i += 1\n",
        "    if p[-1] == ' ':\n",
        "        p = p[:-1]\n",
        "    return p\n",
        "removeSpaces(s)\n"
      ],
      "execution_count": null,
      "outputs": [
        {
          "output_type": "execute_result",
          "data": {
            "application/vnd.google.colaboratory.intrinsic+json": {
              "type": "string"
            },
            "text/plain": [
              "'I love MTV'"
            ]
          },
          "metadata": {
            "tags": []
          },
          "execution_count": 35
        }
      ]
    },
    {
      "cell_type": "code",
      "metadata": {
        "id": "tCckWYm-9JTJ"
      },
      "source": [
        "    res = ''\n",
        "    for i in range(len(input)):\n",
        "      if input[i] == ' ' and i == 0:\n",
        "        pass\n",
        "      elif i == 0:\n",
        "        res += input[i]\n",
        "      elif input[i-1] == ' ':\n",
        "        pass\n",
        "      elif input[i] == ' ' and i == len(input) - 1:\n",
        "        pass\n",
        "      else:\n",
        "        res += input[i]\n",
        "    return res"
      ],
      "execution_count": null,
      "outputs": []
    },
    {
      "cell_type": "markdown",
      "metadata": {
        "id": "jnT0tlfG9MbK"
      },
      "source": [
        "2. Two sum\n",
        "\n",
        "2021-06 -28 1"
      ]
    },
    {
      "cell_type": "code",
      "metadata": {
        "colab": {
          "base_uri": "https://localhost:8080/"
        },
        "id": "-QM7gCooD74a",
        "outputId": "993305e1-3731-4acb-ccb6-361fae5728da"
      },
      "source": [
        "A = [3, 1, 5]\n",
        "B = [2, 8]\n",
        "target = 7\n",
        "def existSum (a, b, target):\n",
        "    for i in range(len(a)):\n",
        "        for j in range(len(b)):\n",
        "            if a[i] + b[j] == target:\n",
        "                return True\n",
        "    return False\n",
        "existSum(A, B, target)"
      ],
      "execution_count": null,
      "outputs": [
        {
          "output_type": "execute_result",
          "data": {
            "text/plain": [
              "True"
            ]
          },
          "metadata": {
            "tags": []
          },
          "execution_count": 2
        }
      ]
    },
    {
      "cell_type": "code",
      "metadata": {
        "colab": {
          "base_uri": "https://localhost:8080/"
        },
        "id": "Is1Yctw0EXXx",
        "outputId": "cc042637-6f9b-4299-bfba-d3a37636b3a7"
      },
      "source": [
        "nums = [3, 4]\n",
        "target = 7\n",
        "def twosum(nums, target):\n",
        "    for i in range(len(nums) - 1):\n",
        "        for j in range(i + 1, len(nums)):\n",
        "            if nums[i] + nums[j] == target:\n",
        "                return [i, j]\n",
        "twosum(nums, target)"
      ],
      "execution_count": null,
      "outputs": [
        {
          "output_type": "execute_result",
          "data": {
            "text/plain": [
              "[0, 1]"
            ]
          },
          "metadata": {
            "tags": []
          },
          "execution_count": 7
        }
      ]
    },
    {
      "cell_type": "markdown",
      "metadata": {
        "id": "rZHlLDdgBvh2"
      },
      "source": [
        "Find Closest Value in BST\n",
        "\n",
        "Algo expert\n",
        "\n",
        "2021-06 -29 1"
      ]
    },
    {
      "cell_type": "code",
      "metadata": {
        "id": "SNKI0yOz9sSy"
      },
      "source": [
        "# recursive\n",
        "# Average: O(log(n)) time | O(log(n)) space\n",
        "# Worst: O(n) time | O(log(n)) space\n",
        "def findClosestValueInBst(tree, target):\n",
        "    # Write your code here.\n",
        "    return findClosestValueInBstHelper(tree, target, float(\"inf\"))\n",
        "\n",
        "def findClosestValueInBstHelper(tree, target, closest):\n",
        "    if tree is None:\n",
        "        return closest\n",
        "    if abs(target - closest) > abs(target - tree.value):\n",
        "        closest = tree.value\n",
        "    if target < tree.value:\n",
        "        return findClosestValueInBstHelper(tree.left, target, closest)\n",
        "    elif target > tree.value:\n",
        "        return findClosestValueInBstHelper(tree.right, target, closest)\n",
        "    else:\n",
        "        return closest\n",
        "\n",
        "# This is the class of the input tree. Do not edit.\n",
        "class BST:\n",
        "    def __init__(self, value):\n",
        "        self.value = value\n",
        "        self.left = None\n",
        "        self.right = None"
      ],
      "execution_count": null,
      "outputs": []
    },
    {
      "cell_type": "code",
      "metadata": {
        "id": "GdiMnOJ-EYj9"
      },
      "source": [
        "# iterative\n",
        "# Average: O(log(n)) time | O(1) space\n",
        "# Worst: O(n) time | O(1) space\n",
        "def findClosestValueInBst(tree, target):\n",
        "    # Write your code here.\n",
        "    return findClosestValueInBstHelper(tree, target, float(\"inf\"))\n",
        "\n",
        "def findClosestValueInBstHelper(tree, target, closest):\n",
        "    currentNode = tree\n",
        "    while currentNode is not None:\n",
        "        if abs(target - closest) > abs(target - currentNode.value):\n",
        "            closest = currentNode.value\n",
        "        if target < currentNode.value:\n",
        "            currentNode = currentNode.left\n",
        "        elif target > currentNode.value:\n",
        "            currentNode = currentNode.right\n",
        "        else:\n",
        "            break\n",
        "    return closest"
      ],
      "execution_count": null,
      "outputs": []
    },
    {
      "cell_type": "code",
      "metadata": {
        "colab": {
          "base_uri": "https://localhost:8080/",
          "height": 130
        },
        "id": "5It55J0WSwGh",
        "outputId": "1389d2e6-9eca-4c7e-f736-21c9b1bbcade"
      },
      "source": [
        "class BST:\n",
        "    def __init__(self, value):\n",
        "        self.value = value\n",
        "        self.left = None\n",
        "        self.right = None\n",
        "\n",
        "    # O(log(n)) time | O(1) space\n",
        "    def insert(self, value):\n",
        "        # Write your code here.\n",
        "        # Do not edit the return statement of this method.\n",
        "        currentNode = self\n",
        "        while True:\n",
        "            if value < currentNode.value:\n",
        "                if currentNode.left is None:\n",
        "                    currentNode.left = BST(value)\n",
        "                    break\n",
        "                else:\n",
        "                    currentNode = currentNode.left\n",
        "            else:\n",
        "                if currentNode.right is None:\n",
        "                    currentNode.right = BST(value)\n",
        "                    break\n",
        "                else:\n",
        "                    currentNode = currentNode.right\n",
        "        return self\n",
        "        \n",
        "\n",
        "    def contains(self, value):\n",
        "        # Write your code here.\n",
        "        currentNode = self\n",
        "        while currentNode is not None:\n",
        "            if value < currentNode.value:\n",
        "                currentNode = currentNode.left\n",
        "            elif value > currentNode.value:\n",
        "                currentNode = currentNode.right\n",
        "            else:\n",
        "                return True\n",
        "        return False\n",
        "\n",
        "    def remove(self, value, parentNode = None):\n",
        "        # Write your code here.\n",
        "        # Do not edit the return statement of this method.\n",
        "        currentNode = self\n",
        "        while currentNode is not None:\n",
        "            if value < currentNode.value:\n",
        "                parentNode = currentNode\n",
        "                currentNode = currentNode.left\n",
        "            elif value > currentNode.value:\n",
        "                parentNode = currentNode\n",
        "                currentNode = currentNode.right\n",
        "            else:\n",
        "                if currentNode.left is not None and currentNode.right is not None:\n",
        "                    currentNode.value = currentNode.right.getMinValue()\n",
        "                    currentNode.right.remove(currentNode.value, currentNode)\n",
        "                elif parentNode is None:\n",
        "                    if currentNode.left is not None:\n",
        "                        currentNode.value = currentNode.left.value\n",
        "                        currentNode.right = currentNode.left.right\n",
        "                        currentNode.left = currentNode.left.left\n",
        "                    elif currentNode.right is not None:\n",
        "                        currentNode.value = currentNode.right.value\n",
        "                        currentNode.left = currentNode.right.left\n",
        "                        currentNode.right = currentNode.right.right\n",
        "                    else:\n",
        "                        currentNode.value = None\n",
        "                elif parentNode.left == currentNode:\n",
        "                    parentNode.left = currentNode.left if currentNode.left is not None else currentNode.right\n",
        "                elif parentNode.right == currentNode:\n",
        "                    parentNode.right = currentNode.right if currentNode.left is not None else currentNode.right\n",
        "                break\n",
        "        return self\n",
        "\n",
        "    def getMinValue(self):\n",
        "        currentNode = self\n",
        "        while currentNode.left is not None:\n",
        "            currentNode = currentNode.left\n",
        "        return currentNode.value"
      ],
      "execution_count": null,
      "outputs": [
        {
          "output_type": "error",
          "ename": "IndentationError",
          "evalue": "ignored",
          "traceback": [
            "\u001b[0;36m  File \u001b[0;32m\"<ipython-input-9-30fbdcd1198d>\"\u001b[0;36m, line \u001b[0;32m57\u001b[0m\n\u001b[0;31m    elif parentNode.left == currentNode:\u001b[0m\n\u001b[0m    ^\u001b[0m\n\u001b[0;31mIndentationError\u001b[0m\u001b[0;31m:\u001b[0m expected an indented block\n"
          ]
        }
      ]
    },
    {
      "cell_type": "code",
      "metadata": {
        "id": "hwAEEBrzXl3h"
      },
      "source": [
        ""
      ],
      "execution_count": null,
      "outputs": []
    }
  ]
}